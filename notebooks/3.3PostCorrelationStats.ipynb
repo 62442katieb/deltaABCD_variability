{
 "cells": [
  {
   "cell_type": "code",
   "execution_count": 1,
   "id": "f2f622ea",
   "metadata": {},
   "outputs": [],
   "source": [
    "import numpy as np\n",
    "import pandas as pd\n",
    "import seaborn as sns\n",
    "import pingouin as pg\n",
    "\n",
    "import matplotlib.pyplot as plt\n",
    "\n",
    "from os.path import join\n",
    "from scipy.stats import spearmanr, chi2_contingency"
   ]
  },
  {
   "cell_type": "code",
   "execution_count": 2,
   "id": "bc69ec5b",
   "metadata": {},
   "outputs": [
    {
     "name": "stderr",
     "output_type": "stream",
     "text": [
      "/Users/katherine.b/Library/Python/3.8/lib/python/site-packages/outdated/utils.py:14: OutdatedPackageWarning: The package pingouin is out of date. Your version is 0.5.1, the latest is 0.5.3.\n",
      "Set the environment variable OUTDATED_IGNORE=1 to disable these warnings.\n",
      "  return warn(\n",
      "/Users/katherine.b/Library/Python/3.8/lib/python/site-packages/outdated/utils.py:14: OutdatedPackageWarning: The package outdated is out of date. Your version is 0.2.1, the latest is 0.2.2.\n",
      "Set the environment variable OUTDATED_IGNORE=1 to disable these warnings.\n",
      "  return warn(\n"
     ]
    }
   ],
   "source": [
    "def jili_sidak_mc(data, alpha):\n",
    "    '''\n",
    "    Accepts a dataframe (data, samples x features) and a type-i error rate (alpha, float), \n",
    "    then adjusts for the number of effective comparisons between variables\n",
    "    in the dataframe based on the eigenvalues of their pairwise correlations.\n",
    "    '''\n",
    "    import math\n",
    "    import numpy as np\n",
    "\n",
    "    mc_corrmat = data.corr()\n",
    "    mc_corrmat.fillna(0, inplace=True)\n",
    "    eigvals, eigvecs = np.linalg.eig(mc_corrmat)\n",
    "\n",
    "    M_eff = 0\n",
    "    for eigval in eigvals:\n",
    "        if abs(eigval) >= 0:\n",
    "            if abs(eigval) >= 1:\n",
    "                M_eff += 1\n",
    "            else:\n",
    "                M_eff += abs(eigval) - math.floor(abs(eigval))\n",
    "        else:\n",
    "            M_eff += 0\n",
    "    print('\\nFor {0} vars, number of effective comparisons: {1}\\n'.format(mc_corrmat.shape[0], M_eff))\n",
    "\n",
    "    #and now applying M_eff to the Sidak procedure\n",
    "    sidak_p = 1 - (1 - alpha)**(1/M_eff)\n",
    "    if sidak_p < 0.00001:\n",
    "        print('Critical value of {:.3f}'.format(alpha),'becomes {:2e} after corrections'.format(sidak_p))\n",
    "    else:\n",
    "        print('Critical value of {:.3f}'.format(alpha),'becomes {:.6f} after corrections'.format(sidak_p))\n",
    "    return sidak_p, M_eff"
   ]
  },
  {
   "cell_type": "code",
   "execution_count": 3,
   "id": "223feb22",
   "metadata": {},
   "outputs": [],
   "source": [
    "PROJ_DIR = \"/Volumes/projects_herting/LABDOCS/Personnel/Katie/deltaABCD_SAaxis//\"\n",
    "DATA_DIR = \"data/\"\n",
    "FIGS_DIR = \"figures/\"\n",
    "OUTP_DIR = \"output/\""
   ]
  },
  {
   "cell_type": "code",
   "execution_count": 4,
   "id": "a66b38d6",
   "metadata": {},
   "outputs": [],
   "source": [
    "sns.set(style='white', context='poster', palette='husl')"
   ]
  },
  {
   "cell_type": "code",
   "execution_count": 5,
   "id": "1b5e61c4",
   "metadata": {},
   "outputs": [],
   "source": [
    "thk_df = pd.read_csv(\n",
    "    join(PROJ_DIR, OUTP_DIR, 'age_thk_corrs.csv'),\n",
    "    index_col=0, header=0\n",
    ")\n",
    "var_df = pd.read_csv(\n",
    "    join(PROJ_DIR, OUTP_DIR, 'age_var_corrs.csv'),\n",
    "    index_col=0, header=0\n",
    ")\n",
    "rni_df = pd.read_csv(\n",
    "    join(PROJ_DIR, OUTP_DIR, 'age_rni_corrs.csv'),\n",
    "    index_col=0, header=0\n",
    ")\n",
    "rnd_df = pd.read_csv(\n",
    "    join(PROJ_DIR, OUTP_DIR, 'age_rnd_corrs.csv'),\n",
    "    index_col=0, header=0\n",
    ")"
   ]
  },
  {
   "cell_type": "code",
   "execution_count": 6,
   "id": "e2670e64",
   "metadata": {},
   "outputs": [],
   "source": [
    "df = pd.read_pickle(join(PROJ_DIR, DATA_DIR, 'data_qcd.pkl'))"
   ]
  },
  {
   "cell_type": "code",
   "execution_count": 7,
   "id": "73892bdd",
   "metadata": {},
   "outputs": [],
   "source": [
    "df = df.drop(df.filter(like='mri').columns, axis=1)"
   ]
  },
  {
   "cell_type": "code",
   "execution_count": 8,
   "id": "105c6295",
   "metadata": {},
   "outputs": [],
   "source": [
    "df[['pds_p_ss_female_category_2.baseline_year_1_arm_1',\n",
    "    'pds_p_ss_male_category_2.baseline_year_1_arm_1']]\n",
    "df['pds_p_ss_category_2.baseline_year_1_arm_1'] = df['pds_p_ss_female_category_2.baseline_year_1_arm_1'].fillna(0) + df['pds_p_ss_male_category_2.baseline_year_1_arm_1'].fillna(0)\n",
    "df['pds_p_ss_category_2.baseline_year_1_arm_1'].replace({0:np.nan}, inplace=True)"
   ]
  },
  {
   "cell_type": "code",
   "execution_count": 9,
   "id": "d3fc1525",
   "metadata": {},
   "outputs": [],
   "source": [
    "df[['pds_p_ss_female_category_2.2_year_follow_up_y_arm_1',\n",
    "    'pds_p_ss_male_category_2.2_year_follow_up_y_arm_1']]\n",
    "df['pds_p_ss_category_2.2_year_follow_up_y_arm_1'] = df['pds_p_ss_female_category_2.2_year_follow_up_y_arm_1'].fillna(0) + df['pds_p_ss_male_category_2.2_year_follow_up_y_arm_1'].fillna(0)\n",
    "df['pds_p_ss_category_2.2_year_follow_up_y_arm_1'].replace({0:np.nan}, inplace=True)"
   ]
  },
  {
   "cell_type": "code",
   "execution_count": 10,
   "id": "c8c387ed",
   "metadata": {},
   "outputs": [
    {
     "data": {
      "text/plain": [
       "subjectkey\n",
       "NDAR_INV07HGA3B7    4.0\n",
       "NDAR_INV07RAHHYH    NaN\n",
       "NDAR_INV08P1JKNE    1.0\n",
       "NDAR_INV09AUXBBT    1.0\n",
       "NDAR_INV09ZE6UUK    2.0\n",
       "                   ... \n",
       "NDAR_INVXXHGW734    3.0\n",
       "NDAR_INVZKJXBJMM    2.0\n",
       "NDAR_INVZKT1BV8Y    2.0\n",
       "NDAR_INVVKPJ803Y    4.0\n",
       "NDAR_INVVLHZP6FR    3.0\n",
       "Name: pds_p_ss_category_2.2_year_follow_up_y_arm_1, Length: 7457, dtype: float64"
      ]
     },
     "execution_count": 10,
     "metadata": {},
     "output_type": "execute_result"
    }
   ],
   "source": [
    "df['pds_p_ss_category_2.2_year_follow_up_y_arm_1']"
   ]
  },
  {
   "cell_type": "code",
   "execution_count": 76,
   "id": "178c954d",
   "metadata": {},
   "outputs": [],
   "source": [
    "chi2_vars = [\n",
    "    'pds_p_ss_female_category_2.baseline_year_1_arm_1',\n",
    "    'pds_p_ss_male_category_2.baseline_year_1_arm_1',\n",
    "    'pds_p_ss_category_2.baseline_year_1_arm_1',\n",
    "    'race_ethnicity.baseline_year_1_arm_1', \n",
    "    'sex.baseline_year_1_arm_1',\n",
    "    'demo_prnt_ed_v2.baseline_year_1_arm_1',\n",
    "    'pds_p_ss_male_category_2.2_year_follow_up_y_arm_1',\n",
    "    'pds_p_ss_female_category_2.2_year_follow_up_y_arm_1',\n",
    "    'pds_p_ss_category_2.2_year_follow_up_y_arm_1',\n",
    "    'demo_comb_income_v2.baseline_year_1_arm_1'\n",
    "]\n",
    "\n",
    "var_names = [\n",
    "    'Female puberty @ age 9-10',\n",
    "    'Male puberty @ age 9-10',\n",
    "    'Puberty @ age 9-10',\n",
    "    'Race/ethnicity', \n",
    "    'Sex',\n",
    "    'Caregiver education',\n",
    "    'Male puberty @ age 11-13',\n",
    "    'Female puberty @ age 11-13',\n",
    "    'Puberty @ age 11-13',\n",
    "    'Household income'\n",
    "]"
   ]
  },
  {
   "cell_type": "code",
   "execution_count": 23,
   "id": "9410dc22",
   "metadata": {},
   "outputs": [
    {
     "name": "stdout",
     "output_type": "stream",
     "text": [
      "\n",
      "For 9 vars, number of effective comparisons: 7.236648627794781\n",
      "\n",
      "Critical value of 0.050 becomes 0.007063 after corrections\n"
     ]
    },
    {
     "name": "stderr",
     "output_type": "stream",
     "text": [
      "/var/folders/t5/4bz0680d45n5_5m30ny85m540000gp/T/ipykernel_6577/942206915.py:10: FutureWarning: The default value of numeric_only in DataFrame.corr is deprecated. In a future version, it will default to False. Select only valid columns or specify the value of numeric_only to silence this warning.\n",
      "  mc_corrmat = data.corr()\n"
     ]
    }
   ],
   "source": [
    "alpha, _ = jili_sidak_mc(df[chi2_vars], 0.05)"
   ]
  },
  {
   "cell_type": "code",
   "execution_count": 12,
   "id": "f12243b1",
   "metadata": {},
   "outputs": [],
   "source": [
    "r_df = pd.concat(\n",
    "    [\n",
    "        thk_df['r'], \n",
    "        rni_df['r'], \n",
    "        rnd_df['r'], \n",
    "        var_df['r']\n",
    "    ], axis=1\n",
    ")\n",
    "r_df.columns = ['thickness', 'isotropic diffusion', 'directional diffusion', 'functional variance']\n",
    "\n",
    "p_df = pd.concat(\n",
    "    [\n",
    "        thk_df['p'], \n",
    "        rni_df['p'], \n",
    "        rnd_df['p'], \n",
    "        var_df['p']\n",
    "    ], axis=1\n",
    ")\n",
    "p_df.columns = ['thickness', 'isotropic diffusion', 'directional diffusion', 'functional variance']\n"
   ]
  },
  {
   "cell_type": "code",
   "execution_count": 150,
   "id": "31b117dd",
   "metadata": {},
   "outputs": [
    {
     "data": {
      "image/png": "[encoded data removed]",
      "text/plain": [
       "<Figure size 720x216 with 2 Axes>"
      ]
     },
     "metadata": {},
     "output_type": "display_data"
    }
   ],
   "source": [
    "fig,ax = plt.subplots(figsize=(10,3))\n",
    "sns.heatmap(r_df.dropna().sort_values('thickness').T, ax=ax, cmap='seismic', center=0)\n",
    "ax.set_xticklabels('')\n",
    "plt.show()"
   ]
  },
  {
   "cell_type": "code",
   "execution_count": 14,
   "id": "91b2cab4",
   "metadata": {},
   "outputs": [
    {
     "data": {
      "text/plain": [
       "SpearmanrResult(correlation=-0.0011751812517496124, pvalue=0.941126282066977)"
      ]
     },
     "execution_count": 14,
     "metadata": {},
     "output_type": "execute_result"
    }
   ],
   "source": [
    "spearmanr(r_df.dropna()['functional variance'], r_df.dropna()['isotropic diffusion'])"
   ]
  },
  {
   "cell_type": "code",
   "execution_count": 15,
   "id": "6c4a81e6",
   "metadata": {},
   "outputs": [
    {
     "data": {
      "text/plain": [
       "Text(0.5, 1.0, 'Correlations with S-A Axis, per participant')"
      ]
     },
     "execution_count": 15,
     "metadata": {},
     "output_type": "execute_result"
    },
    {
     "data": {
      "image/png": "[encoded data removed]",
      "text/plain": [
       "<Figure size 432x288 with 1 Axes>"
      ]
     },
     "metadata": {},
     "output_type": "display_data"
    }
   ],
   "source": [
    "g = sns.kdeplot(r_df, x='functional variance', y='directional diffusion', fill=True\n",
    "                   )\n",
    "g.set_title('Correlations with S-A Axis, per participant')"
   ]
  },
  {
   "cell_type": "code",
   "execution_count": 16,
   "id": "15b3b541",
   "metadata": {},
   "outputs": [
    {
     "data": {
      "text/plain": [
       "NDAR_INV09AUXBBT   -0.319197\n",
       "NDAR_INV021403LF   -0.530519\n",
       "NDAR_INV0314RN9P   -0.411307\n",
       "NDAR_INV0MCARYLD   -0.362980\n",
       "NDAR_INV0MRY4Z3E   -0.700844\n",
       "                      ...   \n",
       "NDAR_INVYY0HHPV2   -0.451197\n",
       "NDAR_INVZ1B2P1NH    0.361797\n",
       "NDAR_INVXN6HMGK8   -0.462076\n",
       "NDAR_INVXRHZDZE8   -0.469100\n",
       "NDAR_INVVLHZP6FR   -0.414895\n",
       "Name: thickness, Length: 1513, dtype: float64"
      ]
     },
     "execution_count": 16,
     "metadata": {},
     "output_type": "execute_result"
    }
   ],
   "source": [
    "r_df[p_df['thickness'] < 0.01]['thickness'] "
   ]
  },
  {
   "cell_type": "code",
   "execution_count": 147,
   "id": "55f1cca9",
   "metadata": {
    "scrolled": true
   },
   "outputs": [],
   "source": [
    "# run chi-square tests for each brain measure and categorical variable\n",
    "cols = pd.MultiIndex.from_product([r_df.columns, ['x2','p']])\n",
    "chi2_res = pd.DataFrame(index=chi2_vars, columns=cols)\n",
    "for meas in r_df.columns:\n",
    "    pos_r = r_df[p_df[meas] < 0.01][meas] > 0\n",
    "    pos_r = pos_r[pos_r == True]\n",
    "\n",
    "    neg_r = r_df[p_df[meas] < 0.01][meas] < 0\n",
    "    neg_r = neg_r[neg_r == True]\n",
    "    \n",
    "    neg_r = df.loc[neg_r.index]\n",
    "    pos_r = df.loc[pos_r.index]\n",
    "    \n",
    "    for var in chi2_vars:\n",
    "        contingency = pd.DataFrame()\n",
    "        i = chi2_vars.index(var)\n",
    "        for level in df[var].dropna().unique():\n",
    "            if type(level) == np.float64 and level > 100:\n",
    "                pass\n",
    "            else:\n",
    "                contingency.at['pos', level] = len(pos_r[pos_r[var] == level].index)\n",
    "                contingency.at['neg', level] = len(neg_r[neg_r[var] == level].index)\n",
    "        contingency = contingency[contingency.columns[contingency.sum() > 0]]\n",
    "        ans = chi2_contingency(contingency)\n",
    "        chi2 = ans[0]\n",
    "        p = ans[1]\n",
    "        chi2_res.at[var, (meas, 'x2')] = chi2\n",
    "        chi2_res.at[var, (meas, 'p')] = p\n",
    "        fig,ax = plt.subplots(figsize=(5,4), layout='constrained')\n",
    "        temp_pos = pos_r[var].dropna()\n",
    "        temp_pos.name = 'positive'\n",
    "        temp_neg = neg_r[var].dropna()\n",
    "        temp_neg.name = 'negative'\n",
    "        sns.histplot(\n",
    "            temp_pos, \n",
    "            ax=ax, \n",
    "            discrete=True, \n",
    "            stat='count', \n",
    "            legend=True, \n",
    "            color='#f73952', \n",
    "            alpha=0.5\n",
    "        )\n",
    "        sns.histplot(\n",
    "            temp_neg, \n",
    "            ax=ax, \n",
    "            discrete=True, \n",
    "            stat='count', \n",
    "            legend=True, \n",
    "            color='#3982f7',\n",
    "            alpha=0.5\n",
    "        )\n",
    "        ax.set_xlabel(var_names[i])\n",
    "        if type(temp_pos.iloc[0]) == str:\n",
    "            pass\n",
    "        elif var == 'demo_comb_income_v2.baseline_year_1_arm_1':\n",
    "            ax.set_xlim(left=0, right=10.5)\n",
    "        else:\n",
    "            ax.set_xlim(left=0, right=min(max(temp_neg.max(), temp_pos.max()), 21))\n",
    "        if p < alpha:\n",
    "            fig.savefig(f'../figures/{meas}_{var}_+v-_{np.round(p,4)}.png', dpi=600, bbox_inches='tight')\n",
    "        else:\n",
    "            fig.savefig(f'../figures/{meas}_{var}_+v-_ns.png', dpi=600, bbox_inches='tight')\n",
    "        plt.close()"
   ]
  },
  {
   "cell_type": "code",
   "execution_count": 146,
   "id": "95307d53",
   "metadata": {},
   "outputs": [
    {
     "data": {
      "text/html": [
       "<div>\n",
       "<style scoped>\n",
       "    .dataframe tbody tr th:only-of-type {\n",
       "        vertical-align: middle;\n",
       "    }\n",
       "\n",
       "    .dataframe tbody tr th {\n",
       "        vertical-align: top;\n",
       "    }\n",
       "\n",
       "    .dataframe thead th {\n",
       "        text-align: right;\n",
       "    }\n",
       "</style>\n",
       "<table border=\"1\" class=\"dataframe\">\n",
       "  <thead>\n",
       "    <tr style=\"text-align: right;\">\n",
       "      <th></th>\n",
       "      <th>thickness</th>\n",
       "      <th>isotropic diffusion</th>\n",
       "      <th>directional diffusion</th>\n",
       "      <th>functional variance</th>\n",
       "    </tr>\n",
       "  </thead>\n",
       "  <tbody>\n",
       "    <tr>\n",
       "      <th>pds_p_ss_female_category_2.baseline_year_1_arm_1</th>\n",
       "      <td>False</td>\n",
       "      <td>False</td>\n",
       "      <td>False</td>\n",
       "      <td>False</td>\n",
       "    </tr>\n",
       "    <tr>\n",
       "      <th>pds_p_ss_male_category_2.baseline_year_1_arm_1</th>\n",
       "      <td>False</td>\n",
       "      <td>False</td>\n",
       "      <td>False</td>\n",
       "      <td>False</td>\n",
       "    </tr>\n",
       "    <tr>\n",
       "      <th>pds_p_ss_category_2.baseline_year_1_arm_1</th>\n",
       "      <td>True</td>\n",
       "      <td>False</td>\n",
       "      <td>False</td>\n",
       "      <td>False</td>\n",
       "    </tr>\n",
       "    <tr>\n",
       "      <th>race_ethnicity.baseline_year_1_arm_1</th>\n",
       "      <td>False</td>\n",
       "      <td>False</td>\n",
       "      <td>False</td>\n",
       "      <td>False</td>\n",
       "    </tr>\n",
       "    <tr>\n",
       "      <th>sex.baseline_year_1_arm_1</th>\n",
       "      <td>False</td>\n",
       "      <td>False</td>\n",
       "      <td>False</td>\n",
       "      <td>False</td>\n",
       "    </tr>\n",
       "    <tr>\n",
       "      <th>demo_prnt_ed_v2.baseline_year_1_arm_1</th>\n",
       "      <td>False</td>\n",
       "      <td>False</td>\n",
       "      <td>False</td>\n",
       "      <td>False</td>\n",
       "    </tr>\n",
       "    <tr>\n",
       "      <th>pds_p_ss_male_category_2.2_year_follow_up_y_arm_1</th>\n",
       "      <td>False</td>\n",
       "      <td>False</td>\n",
       "      <td>False</td>\n",
       "      <td>True</td>\n",
       "    </tr>\n",
       "    <tr>\n",
       "      <th>pds_p_ss_female_category_2.2_year_follow_up_y_arm_1</th>\n",
       "      <td>True</td>\n",
       "      <td>True</td>\n",
       "      <td>False</td>\n",
       "      <td>False</td>\n",
       "    </tr>\n",
       "    <tr>\n",
       "      <th>pds_p_ss_category_2.2_year_follow_up_y_arm_1</th>\n",
       "      <td>True</td>\n",
       "      <td>True</td>\n",
       "      <td>False</td>\n",
       "      <td>True</td>\n",
       "    </tr>\n",
       "    <tr>\n",
       "      <th>demo_comb_income_v2.baseline_year_1_arm_1</th>\n",
       "      <td>False</td>\n",
       "      <td>False</td>\n",
       "      <td>False</td>\n",
       "      <td>False</td>\n",
       "    </tr>\n",
       "  </tbody>\n",
       "</table>\n",
       "</div>"
      ],
      "text/plain": [
       "                                                    thickness  \\\n",
       "pds_p_ss_female_category_2.baseline_year_1_arm_1        False   \n",
       "pds_p_ss_male_category_2.baseline_year_1_arm_1          False   \n",
       "pds_p_ss_category_2.baseline_year_1_arm_1                True   \n",
       "race_ethnicity.baseline_year_1_arm_1                    False   \n",
       "sex.baseline_year_1_arm_1                               False   \n",
       "demo_prnt_ed_v2.baseline_year_1_arm_1                   False   \n",
       "pds_p_ss_male_category_2.2_year_follow_up_y_arm_1       False   \n",
       "pds_p_ss_female_category_2.2_year_follow_up_y_a...       True   \n",
       "pds_p_ss_category_2.2_year_follow_up_y_arm_1             True   \n",
       "demo_comb_income_v2.baseline_year_1_arm_1               False   \n",
       "\n",
       "                                                    isotropic diffusion  \\\n",
       "pds_p_ss_female_category_2.baseline_year_1_arm_1                  False   \n",
       "pds_p_ss_male_category_2.baseline_year_1_arm_1                    False   \n",
       "pds_p_ss_category_2.baseline_year_1_arm_1                         False   \n",
       "race_ethnicity.baseline_year_1_arm_1                              False   \n",
       "sex.baseline_year_1_arm_1                                         False   \n",
       "demo_prnt_ed_v2.baseline_year_1_arm_1                             False   \n",
       "pds_p_ss_male_category_2.2_year_follow_up_y_arm_1                 False   \n",
       "pds_p_ss_female_category_2.2_year_follow_up_y_a...                 True   \n",
       "pds_p_ss_category_2.2_year_follow_up_y_arm_1                       True   \n",
       "demo_comb_income_v2.baseline_year_1_arm_1                         False   \n",
       "\n",
       "                                                    directional diffusion  \\\n",
       "pds_p_ss_female_category_2.baseline_year_1_arm_1                    False   \n",
       "pds_p_ss_male_category_2.baseline_year_1_arm_1                      False   \n",
       "pds_p_ss_category_2.baseline_year_1_arm_1                           False   \n",
       "race_ethnicity.baseline_year_1_arm_1                                False   \n",
       "sex.baseline_year_1_arm_1                                           False   \n",
       "demo_prnt_ed_v2.baseline_year_1_arm_1                               False   \n",
       "pds_p_ss_male_category_2.2_year_follow_up_y_arm_1                   False   \n",
       "pds_p_ss_female_category_2.2_year_follow_up_y_a...                  False   \n",
       "pds_p_ss_category_2.2_year_follow_up_y_arm_1                        False   \n",
       "demo_comb_income_v2.baseline_year_1_arm_1                           False   \n",
       "\n",
       "                                                    functional variance  \n",
       "pds_p_ss_female_category_2.baseline_year_1_arm_1                  False  \n",
       "pds_p_ss_male_category_2.baseline_year_1_arm_1                    False  \n",
       "pds_p_ss_category_2.baseline_year_1_arm_1                         False  \n",
       "race_ethnicity.baseline_year_1_arm_1                              False  \n",
       "sex.baseline_year_1_arm_1                                         False  \n",
       "demo_prnt_ed_v2.baseline_year_1_arm_1                             False  \n",
       "pds_p_ss_male_category_2.2_year_follow_up_y_arm_1                  True  \n",
       "pds_p_ss_female_category_2.2_year_follow_up_y_a...                False  \n",
       "pds_p_ss_category_2.2_year_follow_up_y_arm_1                       True  \n",
       "demo_comb_income_v2.baseline_year_1_arm_1                         False  "
      ]
     },
     "execution_count": 146,
     "metadata": {},
     "output_type": "execute_result"
    }
   ],
   "source": [
    "chi2_res.swaplevel(axis=1)['p'] < alpha"
   ]
  },
  {
   "cell_type": "code",
   "execution_count": 130,
   "id": "a0506d08",
   "metadata": {},
   "outputs": [
    {
     "name": "stderr",
     "output_type": "stream",
     "text": [
      "No artists with labels found to put in legend.  Note that artists whose label start with an underscore are ignored when legend() is called with no argument.\n"
     ]
    },
    {
     "data": {
      "text/plain": [
       "<matplotlib.legend.Legend at 0x2f1e3ea00>"
      ]
     },
     "execution_count": 130,
     "metadata": {},
     "output_type": "execute_result"
    }
   ],
   "source": []
  },
  {
   "cell_type": "code",
   "execution_count": 155,
   "id": "d5f43fb8",
   "metadata": {},
   "outputs": [
    {
     "data": {
      "text/plain": [
       "<AxesSubplot:>"
      ]
     },
     "execution_count": 155,
     "metadata": {},
     "output_type": "execute_result"
    },
    {
     "data": {
      "image/png": "[encoded data removed]",
      "text/plain": [
       "<Figure size 432x288 with 2 Axes>"
      ]
     },
     "metadata": {},
     "output_type": "display_data"
    }
   ],
   "source": [
    "sns.heatmap(r_df[p_df['thickness'] < 0.01].corr(), cmap='seismic', square=True, center=0)"
   ]
  },
  {
   "cell_type": "code",
   "execution_count": 152,
   "id": "2f0a153c",
   "metadata": {},
   "outputs": [
    {
     "data": {
      "text/html": [
       "<div>\n",
       "<style scoped>\n",
       "    .dataframe tbody tr th:only-of-type {\n",
       "        vertical-align: middle;\n",
       "    }\n",
       "\n",
       "    .dataframe tbody tr th {\n",
       "        vertical-align: top;\n",
       "    }\n",
       "\n",
       "    .dataframe thead th {\n",
       "        text-align: right;\n",
       "    }\n",
       "</style>\n",
       "<table border=\"1\" class=\"dataframe\">\n",
       "  <thead>\n",
       "    <tr style=\"text-align: right;\">\n",
       "      <th></th>\n",
       "      <th>thickness</th>\n",
       "      <th>isotropic diffusion</th>\n",
       "      <th>directional diffusion</th>\n",
       "      <th>functional variance</th>\n",
       "    </tr>\n",
       "  </thead>\n",
       "  <tbody>\n",
       "    <tr>\n",
       "      <th>thickness</th>\n",
       "      <td>1.000</td>\n",
       "      <td>0.15</td>\n",
       "      <td>0.181</td>\n",
       "      <td>-0.049</td>\n",
       "    </tr>\n",
       "    <tr>\n",
       "      <th>isotropic diffusion</th>\n",
       "      <td>0.150</td>\n",
       "      <td>1.00</td>\n",
       "      <td>0.630</td>\n",
       "      <td>-0.060</td>\n",
       "    </tr>\n",
       "    <tr>\n",
       "      <th>directional diffusion</th>\n",
       "      <td>0.181</td>\n",
       "      <td>0.63</td>\n",
       "      <td>1.000</td>\n",
       "      <td>-0.055</td>\n",
       "    </tr>\n",
       "    <tr>\n",
       "      <th>functional variance</th>\n",
       "      <td>-0.049</td>\n",
       "      <td>-0.06</td>\n",
       "      <td>-0.055</td>\n",
       "      <td>1.000</td>\n",
       "    </tr>\n",
       "  </tbody>\n",
       "</table>\n",
       "</div>"
      ],
      "text/plain": [
       "                       thickness  isotropic diffusion  directional diffusion  \\\n",
       "thickness                  1.000                 0.15                  0.181   \n",
       "isotropic diffusion        0.150                 1.00                  0.630   \n",
       "directional diffusion      0.181                 0.63                  1.000   \n",
       "functional variance       -0.049                -0.06                 -0.055   \n",
       "\n",
       "                       functional variance  \n",
       "thickness                           -0.049  \n",
       "isotropic diffusion                 -0.060  \n",
       "directional diffusion               -0.055  \n",
       "functional variance                  1.000  "
      ]
     },
     "execution_count": 152,
     "metadata": {},
     "output_type": "execute_result"
    }
   ],
   "source": [
    "r_df[p_df['thickness'] < 0.01].corr().round(3)"
   ]
  },
  {
   "cell_type": "code",
   "execution_count": 159,
   "id": "1ae4a096",
   "metadata": {},
   "outputs": [
    {
     "name": "stdout",
     "output_type": "stream",
     "text": [
      "thickness age:\t SpearmanrResult(correlation=-0.0035655048790584716, pvalue=0.7636432014535235)\n",
      "isotropic diffusion age:\t SpearmanrResult(correlation=-0.010436773314094951, pvalue=0.4093961125468051)\n",
      "directional diffusion age:\t SpearmanrResult(correlation=-0.012571700637059606, pvalue=0.32035887496858706)\n",
      "functional variance age:\t SpearmanrResult(correlation=0.0059686499023257, pvalue=0.7013420321400243)\n"
     ]
    }
   ],
   "source": [
    "for meas in r_df.columns:\n",
    "    temp = r_df[meas].dropna()\n",
    "    print(meas, 'age:\\t', spearmanr(temp, df.loc[temp.index]['interview_age.baseline_year_1_arm_1']))"
   ]
  },
  {
   "cell_type": "code",
   "execution_count": 160,
   "id": "9f58f4a7",
   "metadata": {},
   "outputs": [
    {
     "name": "stdout",
     "output_type": "stream",
     "text": [
      "thickness age:\t SpearmanrResult(correlation=-0.017092426687254882, pvalue=0.5064674142349388)\n",
      "isotropic diffusion age:\t SpearmanrResult(correlation=-0.002692737588195719, pvalue=0.910426511111963)\n",
      "directional diffusion age:\t SpearmanrResult(correlation=0.004656860795835317, pvalue=0.8575556639825025)\n",
      "functional variance age:\t SpearmanrResult(correlation=-0.01977328943530453, pvalue=0.47255170379646516)\n"
     ]
    }
   ],
   "source": [
    "for meas in r_df.columns:\n",
    "    temp = r_df[p_df[meas] < 0.01][meas].dropna()\n",
    "    print(meas, 'age:\\t', spearmanr(temp, df.loc[temp.index]['interview_age.baseline_year_1_arm_1']))"
   ]
  },
  {
   "cell_type": "code",
   "execution_count": null,
   "id": "32ac1145",
   "metadata": {},
   "outputs": [],
   "source": []
  }
 ],
 "metadata": {
  "kernelspec": {
   "display_name": "Python 3 (ipykernel)",
   "language": "python",
   "name": "python3"
  },
  "language_info": {
   "codemirror_mode": {
    "name": "ipython",
    "version": 3
   },
   "file_extension": ".py",
   "mimetype": "text/x-python",
   "name": "python",
   "nbconvert_exporter": "python",
   "pygments_lexer": "ipython3",
   "version": "3.8.9"
  }
 },
 "nbformat": 4,
 "nbformat_minor": 5
}
