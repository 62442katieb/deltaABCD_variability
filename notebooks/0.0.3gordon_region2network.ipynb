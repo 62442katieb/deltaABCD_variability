{
 "cells": [
  {
   "cell_type": "code",
   "execution_count": 1,
   "id": "bd1c4f57",
   "metadata": {},
   "outputs": [
    {
     "name": "stderr",
     "output_type": "stream",
     "text": [
      "/Users/katherine.b/Library/Python/3.8/lib/python/site-packages/nilearn/datasets/__init__.py:93: FutureWarning: Fetchers from the nilearn.datasets module will be updated in version 0.9 to return python strings instead of bytes and Pandas dataframes instead of Numpy arrays.\n",
      "  warn(\"Fetchers from the nilearn.datasets module will be \"\n"
     ]
    }
   ],
   "source": [
    "import numpy as np\n",
    "import pandas as pd\n",
    "import nibabel as nib\n",
    "\n",
    "from os.path import join\n",
    "from nilearn import plotting"
   ]
  },
  {
   "cell_type": "code",
   "execution_count": 2,
   "id": "833df451",
   "metadata": {},
   "outputs": [],
   "source": [
    "PROJ_DIR = \"/Volumes/projects_herting/LABDOCS/Personnel/Katie/deltaABCD_clustering/\"\n",
    "DATA_DIR = \"data/\"\n",
    "FIGS_DIR = \"figures/\"\n",
    "OUTP_DIR = \"output/\"\n",
    "RESR_DIR = \"resources/\""
   ]
  },
  {
   "cell_type": "code",
   "execution_count": 3,
   "id": "7e84f8d6",
   "metadata": {},
   "outputs": [],
   "source": [
    "gordon_og = '/Users/katherine.b/Dropbox/Mac/Downloads/Parcels 2/Parcels_MNI_222.nii'\n",
    "gordon_xl = '/Users/katherine.b/Dropbox/Mac/Downloads/Parcels 2/Parcels.xlsx'"
   ]
  },
  {
   "cell_type": "code",
   "execution_count": 4,
   "id": "19ce129b",
   "metadata": {},
   "outputs": [],
   "source": [
    "gordon_nii = nib.load(gordon_og)"
   ]
  },
  {
   "cell_type": "code",
   "execution_count": 5,
   "id": "fcf540d3",
   "metadata": {},
   "outputs": [],
   "source": [
    "gordon_arr = gordon_nii.get_fdata()"
   ]
  },
  {
   "cell_type": "code",
   "execution_count": 6,
   "id": "d05f39f0",
   "metadata": {},
   "outputs": [
    {
     "name": "stderr",
     "output_type": "stream",
     "text": [
      "/Users/katherine.b/Library/Python/3.8/lib/python/site-packages/openpyxl/worksheet/_reader.py:312: UserWarning: Unknown extension is not supported and will be removed\n",
      "  warn(msg)\n"
     ]
    }
   ],
   "source": [
    "mapping = pd.read_excel(gordon_xl, index_col=0)"
   ]
  },
  {
   "cell_type": "code",
   "execution_count": 7,
   "id": "07f5e624",
   "metadata": {},
   "outputs": [
    {
     "data": {
      "text/html": [
       "<div>\n",
       "<style scoped>\n",
       "    .dataframe tbody tr th:only-of-type {\n",
       "        vertical-align: middle;\n",
       "    }\n",
       "\n",
       "    .dataframe tbody tr th {\n",
       "        vertical-align: top;\n",
       "    }\n",
       "\n",
       "    .dataframe thead th {\n",
       "        text-align: right;\n",
       "    }\n",
       "</style>\n",
       "<table border=\"1\" class=\"dataframe\">\n",
       "  <thead>\n",
       "    <tr style=\"text-align: right;\">\n",
       "      <th></th>\n",
       "      <th>Hem</th>\n",
       "      <th>Surface area (mm2)</th>\n",
       "      <th>Centroid (MNI)</th>\n",
       "      <th>Community</th>\n",
       "    </tr>\n",
       "    <tr>\n",
       "      <th>ParcelID</th>\n",
       "      <th></th>\n",
       "      <th></th>\n",
       "      <th></th>\n",
       "      <th></th>\n",
       "    </tr>\n",
       "  </thead>\n",
       "  <tbody>\n",
       "    <tr>\n",
       "      <th>1</th>\n",
       "      <td>L</td>\n",
       "      <td>1411.6436</td>\n",
       "      <td>-11.2 -52.4 36.5</td>\n",
       "      <td>Default</td>\n",
       "    </tr>\n",
       "    <tr>\n",
       "      <th>2</th>\n",
       "      <td>L</td>\n",
       "      <td>377.2543</td>\n",
       "      <td>-18.8 -48.7 65</td>\n",
       "      <td>SMhand</td>\n",
       "    </tr>\n",
       "    <tr>\n",
       "      <th>3</th>\n",
       "      <td>L</td>\n",
       "      <td>437.1466</td>\n",
       "      <td>-51.8 -7.8 38.5</td>\n",
       "      <td>SMmouth</td>\n",
       "    </tr>\n",
       "    <tr>\n",
       "      <th>4</th>\n",
       "      <td>L</td>\n",
       "      <td>368.6362</td>\n",
       "      <td>-11.7 26.7 57</td>\n",
       "      <td>Default</td>\n",
       "    </tr>\n",
       "    <tr>\n",
       "      <th>5</th>\n",
       "      <td>L</td>\n",
       "      <td>870.9255</td>\n",
       "      <td>-18.4 -85.5 21.6</td>\n",
       "      <td>Visual</td>\n",
       "    </tr>\n",
       "  </tbody>\n",
       "</table>\n",
       "</div>"
      ],
      "text/plain": [
       "         Hem  Surface area (mm2)    Centroid (MNI) Community\n",
       "ParcelID                                                    \n",
       "1          L           1411.6436  -11.2 -52.4 36.5   Default\n",
       "2          L            377.2543    -18.8 -48.7 65    SMhand\n",
       "3          L            437.1466   -51.8 -7.8 38.5   SMmouth\n",
       "4          L            368.6362     -11.7 26.7 57   Default\n",
       "5          L            870.9255  -18.4 -85.5 21.6    Visual"
      ]
     },
     "execution_count": 7,
     "metadata": {},
     "output_type": "execute_result"
    }
   ],
   "source": [
    "mapping.head()"
   ]
  },
  {
   "cell_type": "code",
   "execution_count": 8,
   "id": "f4d62c01",
   "metadata": {},
   "outputs": [],
   "source": [
    "networks = list(mapping['Community'].unique())"
   ]
  },
  {
   "cell_type": "code",
   "execution_count": 9,
   "id": "22a1d371",
   "metadata": {},
   "outputs": [
    {
     "name": "stdout",
     "output_type": "stream",
     "text": [
      "['Default', 'SMhand', 'SMmouth', 'Visual', 'FrontoParietal', 'Auditory', 'None', 'CinguloParietal', 'RetrosplenialTemporal', 'CinguloOperc', 'VentralAttn', 'Salience', 'DorsalAttn']\n"
     ]
    }
   ],
   "source": [
    "print(networks)"
   ]
  },
  {
   "cell_type": "code",
   "execution_count": 10,
   "id": "691efc79",
   "metadata": {},
   "outputs": [],
   "source": [
    "gordon2abcd = {'Default': 'dt', \n",
    "               'SMhand': 'smh', \n",
    "               'SMmouth': 'smm', \n",
    "               'Visual': 'vs', \n",
    "               'FrontoParietal': 'fo', \n",
    "               'Auditory': 'ad', \n",
    "               'None': 'n', \n",
    "               'CinguloParietal': 'ca', \n",
    "               'RetrosplenialTemporal': 'rspltp', \n",
    "               'CinguloOperc': 'cgc', \n",
    "               'VentralAttn': 'vta', \n",
    "               'Salience': 'sa', \n",
    "               'DorsalAttn': 'dla'}\n"
   ]
  },
  {
   "cell_type": "code",
   "execution_count": 11,
   "id": "74257c61",
   "metadata": {},
   "outputs": [],
   "source": [
    "for i in range(len(networks)):\n",
    "    indices = mapping[mapping['Community'] == networks[i]].index\n",
    "    for j in indices:\n",
    "        mapping.loc[j,'ntwk_label'] = i + 1\n",
    "        mapping.loc[j,'abcd_label'] = gordon2abcd[networks[i]]"
   ]
  },
  {
   "cell_type": "code",
   "execution_count": 12,
   "id": "c1595b29",
   "metadata": {},
   "outputs": [],
   "source": [
    "new_gordon_arr = np.zeros_like(gordon_arr)"
   ]
  },
  {
   "cell_type": "code",
   "execution_count": 13,
   "id": "a18a8984",
   "metadata": {},
   "outputs": [],
   "source": [
    "for i in mapping.index:\n",
    "    new_gordon_arr[np.where(gordon_arr == i)] = mapping.loc[i,'ntwk_label']\n"
   ]
  },
  {
   "cell_type": "code",
   "execution_count": 14,
   "id": "ec4c65db",
   "metadata": {},
   "outputs": [],
   "source": [
    "new_gordon_nii = nib.Nifti2Image(new_gordon_arr, gordon_nii.affine)"
   ]
  },
  {
   "cell_type": "code",
   "execution_count": 15,
   "id": "181e1d46",
   "metadata": {},
   "outputs": [
    {
     "name": "stderr",
     "output_type": "stream",
     "text": [
      "/Users/katherine.b/Library/Python/3.8/lib/python/site-packages/nilearn/plotting/img_plotting.py:341: FutureWarning: Default resolution of the MNI template will change from 2mm to 1mm in version 0.10.0\n",
      "  anat_img = load_mni152_template()\n"
     ]
    },
    {
     "data": {
      "text/plain": [
       "<nilearn.plotting.displays.OrthoSlicer at 0x1540441f0>"
      ]
     },
     "execution_count": 15,
     "metadata": {},
     "output_type": "execute_result"
    },
    {
     "data": {
      "image/png": "[encoded data removed]",
      "text/plain": [
       "<Figure size 475.2x187.2 with 4 Axes>"
      ]
     },
     "metadata": {},
     "output_type": "display_data"
    }
   ],
   "source": [
    "plotting.plot_stat_map(new_gordon_nii, cmap='gist_rainbow', colorbar=False)"
   ]
  },
  {
   "cell_type": "code",
   "execution_count": 16,
   "id": "3e3d1d3e",
   "metadata": {},
   "outputs": [],
   "source": [
    "out_path = join(PROJ_DIR, RESR_DIR, 'gordon_networks_222')\n",
    "\n",
    "nib.save(new_gordon_nii, \n",
    "         f'{out_path}.nii')\n",
    "\n",
    "mapping.to_csv(f'{out_path}.csv')"
   ]
  },
  {
   "cell_type": "code",
   "execution_count": 17,
   "id": "1f497a9b",
   "metadata": {},
   "outputs": [],
   "source": [
    "abcd_mapping = pd.read_csv(join(PROJ_DIR, DATA_DIR, 'variable_to_nifti_mapping.csv'), header=0, index_col=0)"
   ]
  },
  {
   "cell_type": "code",
   "execution_count": 18,
   "id": "aa16ed7d",
   "metadata": {},
   "outputs": [
    {
     "data": {
      "text/plain": [
       "'Default'"
      ]
     },
     "execution_count": 18,
     "metadata": {},
     "output_type": "execute_result"
    }
   ],
   "source": [
    "list(gordon2abcd.keys())[list(gordon2abcd.values()).index('dt')]"
   ]
  },
  {
   "cell_type": "code",
   "execution_count": 19,
   "id": "c8888809",
   "metadata": {},
   "outputs": [],
   "source": [
    "rsfcntwks = abcd_mapping.filter(regex='.*_c_', axis=0).index"
   ]
  },
  {
   "cell_type": "code",
   "execution_count": 20,
   "id": "a2e09be5",
   "metadata": {},
   "outputs": [
    {
     "data": {
      "text/plain": [
       "1.0"
      ]
     },
     "execution_count": 20,
     "metadata": {},
     "output_type": "execute_result"
    }
   ],
   "source": [
    "mapping[mapping['abcd_label'] == 'dt']['ntwk_label'].unique()[0]"
   ]
  },
  {
   "cell_type": "code",
   "execution_count": 21,
   "id": "532db633",
   "metadata": {},
   "outputs": [],
   "source": [
    "abcd_mapping.loc[rsfcntwks, 'atlas'] = 'Gordon Networks'\n",
    "abcd_mapping.loc[rsfcntwks, 'atlas_fname'] = f'{out_path}.nii'\n",
    "for i in rsfcntwks:\n",
    "    abcd_ntwk = i.split('_')[3]\n",
    "    gordon_ntwk = list(gordon2abcd.keys())[list(gordon2abcd.values()).index(abcd_ntwk)]\n",
    "    abcd_mapping.loc[i, 'atlas_description'] = gordon_ntwk\n",
    "    value = mapping[mapping['abcd_label'] == abcd_ntwk]['ntwk_label'].unique()[0]\n",
    "    abcd_mapping.loc[i, 'atlas_value'] = value"
   ]
  },
  {
   "cell_type": "code",
   "execution_count": 22,
   "id": "f93c214d",
   "metadata": {},
   "outputs": [],
   "source": [
    "abcd_mapping.to_csv(join(PROJ_DIR, DATA_DIR, 'variable_to_nifti_mapping.csv'))"
   ]
  },
  {
   "cell_type": "code",
   "execution_count": null,
   "id": "4bcabc10",
   "metadata": {},
   "outputs": [],
   "source": []
  }
 ],
 "metadata": {
  "kernelspec": {
   "display_name": "Python 3 (ipykernel)",
   "language": "python",
   "name": "python3"
  },
  "language_info": {
   "codemirror_mode": {
    "name": "ipython",
    "version": 3
   },
   "file_extension": ".py",
   "mimetype": "text/x-python",
   "name": "python",
   "nbconvert_exporter": "python",
   "pygments_lexer": "ipython3",
   "version": "3.8.9"
  }
 },
 "nbformat": 4,
 "nbformat_minor": 5
}
