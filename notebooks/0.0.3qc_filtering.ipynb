{
 "cells": [
  {
   "cell_type": "code",
   "execution_count": 1,
   "id": "561d7081",
   "metadata": {},
   "outputs": [],
   "source": [
    "import pandas as pd\n",
    "import numpy as np\n",
    "import seaborn as sns\n",
    "\n",
    "from os.path import join"
   ]
  },
  {
   "cell_type": "code",
   "execution_count": 2,
   "id": "38c9876e",
   "metadata": {},
   "outputs": [],
   "source": [
    "PROJ_DIR = \"/Volumes/projects_herting/LABDOCS/Personnel/Katie/deltaABCD_clustering/\"\n",
    "DATA_DIR = \"data/\"\n",
    "FIGS_DIR = \"figures/\"\n",
    "OUTP_DIR = \"output/\""
   ]
  },
  {
   "cell_type": "code",
   "execution_count": 3,
   "id": "a6e13c13",
   "metadata": {},
   "outputs": [],
   "source": [
    "df = pd.read_csv(join(PROJ_DIR, DATA_DIR, \"data.csv\"), index_col=0, header=0)\n",
    "df.drop(list(df.filter(regex='lesion.*').columns), axis=1, inplace=True)\n",
    "no_2yfu = df[df[\"interview_date.2_year_follow_up_y_arm_1\"].isna() == True].index\n",
    "df = df.drop(no_2yfu, axis=0)"
   ]
  },
  {
   "cell_type": "code",
   "execution_count": 4,
   "id": "e20a29bb",
   "metadata": {},
   "outputs": [],
   "source": [
    "qc_vars = [\"imgincl_dmri_include\",\n",
    "           \"imgincl_rsfmri_include\",\n",
    "           \"rsfmri_c_ngd_meanmotion\",\n",
    "           \"rsfmri_c_ngd_ntpoints\",\n",
    "           \"imgincl_t1w_include\",\n",
    "           \"mrif_score\"]"
   ]
  },
  {
   "cell_type": "code",
   "execution_count": 5,
   "id": "749d467d",
   "metadata": {},
   "outputs": [],
   "source": [
    "keep = df[df['mrif_score.baseline_year_1_arm_1'].between(1,2)].index\n",
    "df = df.loc[keep]"
   ]
  },
  {
   "cell_type": "code",
   "execution_count": 45,
   "id": "d9cb3d60",
   "metadata": {},
   "outputs": [],
   "source": [
    "# modality-specific filtering via masks\n",
    "rsfmri_mask1 = df['imgincl_rsfmri_include.baseline_year_1_arm_1'] == 0\n",
    "rsfmri_mask2 = df['rsfmri_var_ntpoints.baseline_year_1_arm_1'] <= 750.\n",
    "rsfmri_mask3 = df['imgincl_rsfmri_include.2_year_follow_up_y_arm_1'] == 0\n",
    "rsfmri_mask4 = df['rsfmri_var_ntpoints.2_year_follow_up_y_arm_1'] <= 750.\n",
    "rsfmri_mask = rsfmri_mask1 * rsfmri_mask2 * rsfmri_mask3 * rsfmri_mask4\n",
    "\n",
    "smri_mask1 = df['imgincl_t1w_include.baseline_year_1_arm_1'] == 0\n",
    "smri_mask2 = df['imgincl_t1w_include.2_year_follow_up_y_arm_1'] == 0\n",
    "smri_mask = smri_mask1 * smri_mask2\n",
    "\n",
    "dmri_mask1 = df['imgincl_dmri_include.baseline_year_1_arm_1'] == 0\n",
    "dmri_mask2 = df['imgincl_dmri_include.2_year_follow_up_y_arm_1'] == 0\n",
    "dmri_mask = dmri_mask1 * dmri_mask2"
   ]
  },
  {
   "cell_type": "code",
   "execution_count": 46,
   "id": "c668aec1",
   "metadata": {},
   "outputs": [],
   "source": [
    "smri_cols = list(df.filter(regex='smri.').columns) + list(df.filter(regex='mrisdp.').columns)\n",
    "rsfmri_cols = df.filter(regex='rsfmri.').columns\n",
    "dmri_cols = df.filter(regex='dmri').columns\n",
    "other_cols = set(df.columns) - set(smri_cols) - set(rsfmri_cols) - set(dmri_cols)"
   ]
  },
  {
   "cell_type": "code",
   "execution_count": 47,
   "id": "e953b996",
   "metadata": {},
   "outputs": [],
   "source": [
    "rsfmri_quality = df[rsfmri_cols].mask(rsfmri_mask)\n",
    "smri_quality = df[smri_cols].mask(smri_mask)\n",
    "dmri_quality = df[dmri_cols].mask(dmri_mask)\n",
    "other = df[other_cols]"
   ]
  },
  {
   "cell_type": "code",
   "execution_count": 48,
   "id": "ff0dd520",
   "metadata": {},
   "outputs": [],
   "source": [
    "# after filtering out radiological abnormalities with mrif_score\n",
    "# apply modality-specific filters\n",
    "\n",
    "# up first: rsfmri\n",
    "quality_df = pd.concat([other, rsfmri_quality, smri_quality, dmri_quality], axis=1)"
   ]
  },
  {
   "cell_type": "code",
   "execution_count": 49,
   "id": "4582f856",
   "metadata": {},
   "outputs": [
    {
     "data": {
      "text/plain": [
       "229"
      ]
     },
     "execution_count": 49,
     "metadata": {},
     "output_type": "execute_result"
    }
   ],
   "source": [
    "rsfmri_mask.sum()"
   ]
  },
  {
   "cell_type": "code",
   "execution_count": 51,
   "id": "961966c7",
   "metadata": {},
   "outputs": [
    {
     "data": {
      "text/plain": [
       "mrirsfd112.baseline_year_1_arm_1                    446\n",
       "mrirsfd9.baseline_year_1_arm_1                      446\n",
       "mrirsfd107.2_year_follow_up_y_arm_1                 428\n",
       "mrirsfd103.baseline_year_1_arm_1                    446\n",
       "mrirsfd4.2_year_follow_up_y_arm_1                   428\n",
       "                                                   ... \n",
       "dmri_rsirndgm_cdx_sttrh.2_year_follow_up_y_arm_1    331\n",
       "dmri_rsirndgm_cdx_sttrh.change_score                599\n",
       "dmri_rsirndgm_cdx_mean.baseline_year_1_arm_1        447\n",
       "dmri_rsirndgm_cdx_mean.2_year_follow_up_y_arm_1     340\n",
       "dmri_rsirndgm_cdx_mean.change_score                 615\n",
       "Length: 7697, dtype: int64"
      ]
     },
     "execution_count": 51,
     "metadata": {},
     "output_type": "execute_result"
    }
   ],
   "source": [
    "quality_df.isna().sum()"
   ]
  },
  {
   "cell_type": "code",
   "execution_count": 52,
   "id": "660f8b8d",
   "metadata": {},
   "outputs": [],
   "source": [
    "quality_df.to_csv(join(PROJ_DIR, DATA_DIR, \"data_qcd.csv\"))"
   ]
  },
  {
   "cell_type": "code",
   "execution_count": null,
   "id": "60c4d859",
   "metadata": {},
   "outputs": [],
   "source": []
  }
 ],
 "metadata": {
  "kernelspec": {
   "display_name": "Python 3 (ipykernel)",
   "language": "python",
   "name": "python3"
  },
  "language_info": {
   "codemirror_mode": {
    "name": "ipython",
    "version": 3
   },
   "file_extension": ".py",
   "mimetype": "text/x-python",
   "name": "python",
   "nbconvert_exporter": "python",
   "pygments_lexer": "ipython3",
   "version": "3.8.9"
  }
 },
 "nbformat": 4,
 "nbformat_minor": 5
}
