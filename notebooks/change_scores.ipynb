{
 "cells": [
  {
   "cell_type": "code",
   "execution_count": 1,
   "metadata": {
    "ExecuteTime": {
     "end_time": "2021-11-10T18:49:16.865384Z",
     "start_time": "2021-11-10T18:49:11.050284Z"
    }
   },
   "outputs": [],
   "source": [
    "import pandas as pd\n",
    "import numpy as np\n",
    "import enlighten\n",
    "from os.path import exists, join\n",
    "import sys"
   ]
  },
  {
   "cell_type": "code",
   "execution_count": 2,
   "metadata": {
    "ExecuteTime": {
     "end_time": "2021-11-10T18:49:16.878364Z",
     "start_time": "2021-11-10T18:49:16.869549Z"
    }
   },
   "outputs": [],
   "source": [
    "data_dir = '/Volumes/projects_herting/LABDOCS/PROJECTS/ABCD/Data/release4.0'\n",
    "data_dict_path = join(data_dir, 'data_element_names.csv')"
   ]
  },
  {
   "cell_type": "code",
   "execution_count": 3,
   "metadata": {
    "ExecuteTime": {
     "end_time": "2021-11-10T18:49:21.971290Z",
     "start_time": "2021-11-10T18:49:16.884002Z"
    }
   },
   "outputs": [],
   "source": [
    "imgincl_df = pd.read_csv(join(data_dir, 'csv', 'abcd_imgincl01.csv'),\n",
    "                         index_col=['subjectkey', 'eventname'], header=0, skiprows=[1])"
   ]
  },
  {
   "cell_type": "code",
   "execution_count": 4,
   "metadata": {
    "ExecuteTime": {
     "end_time": "2021-11-10T18:49:21.981830Z",
     "start_time": "2021-11-10T18:49:21.974520Z"
    }
   },
   "outputs": [],
   "source": [
    "common_vars = [\"subjectkey\", \"interview_date\", \n",
    "               \"interview_age\", \"eventname\", \"sex\"]\n",
    "img_qc_vars = [\"imgincl_t1w_include\",\"imgincl_t2w_include\",\n",
    "               \"imgincl_dmri_include\",\"imgincl_rsfmri_include\"]\n",
    "events_of_interest = ['baseline_year_1_arm_1', '2_year_follow_up_y_arm_1']"
   ]
  },
  {
   "cell_type": "code",
   "execution_count": 7,
   "metadata": {
    "ExecuteTime": {
     "end_time": "2021-11-10T20:05:39.408641Z",
     "start_time": "2021-11-10T20:05:39.388574Z"
    }
   },
   "outputs": [],
   "source": [
    "structures = ['abcd_smrip30201', 'abcd_mrirsfd01', 'abcd_mrisdp20201', 'abcd_smrip20201', 'abcd_smrip10201', 'abcd_mrisdp10201', \n",
    "              'abcd_dti_p101', 'abcd_drsip101', 'abcd_drsip201', \n",
    "              'abcd_mrirstv02', 'abcd_betnet02', 'mrirscor02', 'abcd_tbss01']"
   ]
  },
  {
   "cell_type": "code",
   "execution_count": 8,
   "metadata": {
    "ExecuteTime": {
     "end_time": "2021-11-10T20:54:18.646440Z",
     "start_time": "2021-11-10T20:05:43.857169Z"
    },
    "scrolled": false
   },
   "outputs": [
    {
     "data": {
      "text/html": [
       "<style>\n",
       "</style>\n",
       "<div class=\"enlighten\">\n",
       "  <div class=\"enlighten-bar\">\n",
       "    <pre>Data Structures 100%|████████████████████████████████████| 1/1 [19:22&lt;00:00, 0.00 data structures/s]</pre>\n",
       "  </div>\n",
       "  <div class=\"enlighten-bar\">\n",
       "    <pre>abcd_smrip30201 100%|██████████████████████████████████████| 362/362 [16:54&lt;00:00, 0.36 variables/s]</pre>\n",
       "  </div>\n",
       "</div>\n"
      ],
      "text/plain": [
       "<IPython.core.display.HTML object>"
      ]
     },
     "metadata": {},
     "output_type": "display_data"
    },
    {
     "name": "stdout",
     "output_type": "stream",
     "text": [
      "abcd_smrip30201 with change scores is 108.60602MB\n"
     ]
    }
   ],
   "source": [
    "manager = enlighten.get_manager()\n",
    "tocks = manager.counter(total=len(structures), desc='Data Structures', unit='data structures')\n",
    "\n",
    "#missing_idx = {}\n",
    "\n",
    "for structure in structures:\n",
    "    #missing_idx[structure] = {}\n",
    "    #print(structure)\n",
    "    \n",
    "    temp_df = pd.read_csv(join(data_dir, 'csv', f'{structure}.csv'),\n",
    "                            index_col='subjectkey',\n",
    "                            header=0, skiprows=[1])\n",
    "    temp_df['interview_age_yrs'] = temp_df['interview_age'] / 12\n",
    "    float_vars = list(temp_df.dtypes[temp_df.dtypes == float].keys())\n",
    "    base_df = temp_df[temp_df['eventname'] == 'baseline_year_1_arm_1']\n",
    "    y2fu_df = temp_df[temp_df['eventname'] == '2_year_follow_up_y_arm_1']\n",
    "    change_df = pd.DataFrame(index=base_df.index)\n",
    "    for var2 in common_vars:\n",
    "        for i in base_df.index:\n",
    "            try:\n",
    "                change_df.at[i, f'{var2}.baseline_year_1_arm_1'] = base_df.loc[i, var2]\n",
    "                change_df.at[i, f'{var2}.2_year_follow_up_y_arm_1'] = y2fu_df.loc[i, var2]\n",
    "            except:\n",
    "                pass\n",
    "    if structure != 'abcd_tbss01':\n",
    "        for var2 in img_qc_vars:\n",
    "            for i in base_df.index:\n",
    "                for j in events_of_interest:\n",
    "                    try:\n",
    "                        change_df.at[i, f'{var2}.{j}'] = imgincl_df.loc[(i, j), var2]\n",
    "                    except:\n",
    "                        pass\n",
    "    else:\n",
    "        pass\n",
    "    ticks = manager.counter(total=len(float_vars), desc=structure, unit='variables')\n",
    "    for var in float_vars:\n",
    "        for i in base_df.index:\n",
    "            try:\n",
    "                base = base_df.loc[i, var]\n",
    "                y2fu = y2fu_df.loc[i, var]\n",
    "                age0 = base_df.loc[i, 'interview_age_yrs']\n",
    "                age2 = y2fu_df.loc[i, 'interview_age_yrs']\n",
    "                change_df.at[i, f'{var}.baseline_year_1_arm_1'] = base\n",
    "                change_df.at[i, f'{var}.2_year_follow_up_y_arm_1'] = y2fu\n",
    "                change_df.at[i, f'interview_age_yrs.baseline_year_1_arm_1'] = age0\n",
    "                change_df.at[i, f'interview_age_yrs.2_year_follow_up_y_arm_1'] = age2\n",
    "                change_score = (((y2fu - base) / np.mean([y2fu, base])) * 100) / (age2 - age0)\n",
    "                change_df.at[i, f'{var}.change_score'] = change_score\n",
    "            except:\n",
    "                pass\n",
    "        ticks.update()\n",
    "    print(f'{structure} with change scores is {sys.getsizeof(change_df) / 1000000}MB')\n",
    "    change_df.to_csv(join(data_dir, 'change_scores', f'{structure}_changescores_bl_tp2.csv'))\n",
    "    change_df = None\n",
    "    temp_df = None\n",
    "    base_df = None\n",
    "    y2fu_df = None\n",
    "    tocks.update()"
   ]
  },
  {
   "cell_type": "code",
   "execution_count": null,
   "metadata": {},
   "outputs": [],
   "source": []
  }
 ],
 "metadata": {
  "kernelspec": {
   "display_name": "Python 3",
   "language": "python",
   "name": "python3"
  },
  "language_info": {
   "codemirror_mode": {
    "name": "ipython",
    "version": 3
   },
   "file_extension": ".py",
   "mimetype": "text/x-python",
   "name": "python",
   "nbconvert_exporter": "python",
   "pygments_lexer": "ipython3",
   "version": "3.7.6"
  }
 },
 "nbformat": 4,
 "nbformat_minor": 4
}
