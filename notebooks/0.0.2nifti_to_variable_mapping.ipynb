{
 "cells": [
  {
   "cell_type": "code",
   "execution_count": 224,
   "id": "b7845974",
   "metadata": {},
   "outputs": [],
   "source": [
    "import numpy as np\n",
    "import pandas as pd\n",
    "import seaborn as sns\n",
    "import nibabel as nib\n",
    "import matplotlib.pyplot as plt\n",
    "import nibabel.freesurfer.mghformat as mgh\n",
    "\n",
    "from glob import glob\n",
    "from os.path import join, exists\n",
    "from nilearn import plotting, datasets, image"
   ]
  },
  {
   "cell_type": "code",
   "execution_count": 3,
   "id": "c6297985",
   "metadata": {},
   "outputs": [],
   "source": [
    "sns.set(style='whitegrid', context='talk')\n",
    "plt.rcParams[\"font.family\"] = \"monospace\"\n",
    "plt.rcParams['font.monospace'] = 'Courier New'"
   ]
  },
  {
   "cell_type": "code",
   "execution_count": 9,
   "id": "92a7b6d7",
   "metadata": {},
   "outputs": [],
   "source": [
    "ABCD_DIR = \"/Volumes/projects_herting/LABDOCS/PROJECTS/ABCD/Data/release4.0\"\n",
    "PROJ_DIR = \"/Volumes/projects_herting/LABDOCS/Personnel/Katie/deltaABCD_clustering/\"\n",
    "DATA_DIR = \"data/\"\n",
    "FIGS_DIR = \"figures/\"\n",
    "OUTP_DIR = \"output/\""
   ]
  },
  {
   "cell_type": "code",
   "execution_count": 10,
   "id": "6c8487aa",
   "metadata": {},
   "outputs": [],
   "source": [
    "data_dictionary = pd.read_csv(join(ABCD_DIR, 'generate_dataset/data_element_names.csv'), \n",
    "                              header=0, \n",
    "                              index_col=0)"
   ]
  },
  {
   "cell_type": "code",
   "execution_count": 12,
   "id": "cf8de9bb",
   "metadata": {},
   "outputs": [],
   "source": [
    "data = pd.read_csv(join(PROJ_DIR, DATA_DIR, \"data.csv\"), index_col=0, header=0)"
   ]
  },
  {
   "cell_type": "code",
   "execution_count": 16,
   "id": "cca6a214",
   "metadata": {},
   "outputs": [],
   "source": [
    "smri_vars = pd.concat([data.filter(regex='smri.*change_score'), \n",
    "                                data.filter(regex='mrisdp.*change_score')], axis=1).dropna(how='all').columns\n",
    "rsfmri_vars = data.filter(regex='rsfmri.*change_score').dropna(how='all').columns\n",
    "rsi_vars = data.filter(regex='dmri_rsi.*change_score').dropna(how='all').columns\n",
    "dti_vars = data.filter(regex='dmri_dti.*change_score').dropna(how='all').columns"
   ]
  },
  {
   "cell_type": "code",
   "execution_count": 43,
   "id": "010e9bea",
   "metadata": {},
   "outputs": [],
   "source": [
    "smri_vars = [v.split('.')[0] for v in smri_vars]\n",
    "rsfmri_vars = [v.split('.')[0] for v in rsfmri_vars]\n",
    "rsi_vars = [v.split('.')[0] for v in rsi_vars]\n",
    "dti_vars = [v.split('.')[0] for v in dti_vars]"
   ]
  },
  {
   "cell_type": "code",
   "execution_count": 44,
   "id": "556e2130",
   "metadata": {},
   "outputs": [],
   "source": [
    "imaging_vars = list(smri_vars) + list(rsfmri_vars) + list(rsi_vars) + list(dti_vars)"
   ]
  },
  {
   "cell_type": "code",
   "execution_count": 65,
   "id": "85073504",
   "metadata": {},
   "outputs": [],
   "source": [
    "mapping = pd.DataFrame(columns=['modality', \n",
    "                                'abcd_structure',\n",
    "                                'abcd_description', \n",
    "                                'atlas_description', \n",
    "                                'atlas', \n",
    "                                'atlas_value'])"
   ]
  },
  {
   "cell_type": "code",
   "execution_count": 66,
   "id": "fb4a509f",
   "metadata": {},
   "outputs": [],
   "source": [
    "for i in imaging_vars:\n",
    "    if i in smri_vars:\n",
    "        mapping.at[i, 'modality'] = 'smri'\n",
    "    elif i in rsfmri_vars:\n",
    "        mapping.at[i, 'modality'] = 'fmri' \n",
    "    elif i in rsi_vars:\n",
    "        mapping.at[i, 'modality'] = 'rsi'\n",
    "    elif i in dti_vars:\n",
    "        mapping.at[i, 'modality'] = 'dti'\n",
    "    mapping.at[i, 'abcd_description'] = data_dictionary.loc[i]['description']\n",
    "    mapping.at[i, 'abcd_structure'] = data_dictionary.loc[i]['structure']\n",
    "    if '_scs_' in i:\n",
    "        mapping.at[i, 'atlas'] = 'Subcortical'\n",
    "    elif 'gordon' in i:\n",
    "        mapping.at[i, 'atlas'] = 'Gordon'\n",
    "    elif '_cdk_' in i:\n",
    "        mapping.at[i, 'atlas'] = 'Desikan'\n",
    "    elif 'mrisdp' in i:\n",
    "        mapping.at[i, 'atlas'] = 'Destrieux'\n",
    "    elif '_cf12_' in i:\n",
    "        mapping.at[i, 'atlas'] = 'Fuzzy 12'\n",
    "    elif 'fib' in i:\n",
    "        mapping.at[i, 'atlas'] = 'Fiber Atlas'"
   ]
  },
  {
   "cell_type": "code",
   "execution_count": 68,
   "id": "fda5b018",
   "metadata": {},
   "outputs": [
    {
     "name": "stdout",
     "output_type": "stream",
     "text": [
      "Reading local neurovault data.\n",
      "Already fetched 1 image\n",
      "1 image found on local disk.\n"
     ]
    },
    {
     "name": "stderr",
     "output_type": "stream",
     "text": [
      "/Users/katherine.b/Library/Python/3.8/lib/python/site-packages/numpy/lib/npyio.py:2407: VisibleDeprecationWarning: Reading unicode strings without specifying the encoding argument is deprecated. Set the encoding, use None for the system default.\n",
      "  output = genfromtxt(fname, **kwargs)\n"
     ]
    }
   ],
   "source": [
    "destrieux = datasets.fetch_atlas_surf_destrieux()\n",
    "destrieux_vol = datasets.fetch_atlas_destrieux_2009()\n",
    "desikan = datasets.fetch_neurovault_ids(image_ids=(23262, ))\n",
    "#gordon\n",
    "subcort = datasets.fetch_atlas_harvard_oxford('sub-maxprob-thr50-2mm')\n",
    "#tracts"
   ]
  },
  {
   "cell_type": "code",
   "execution_count": 73,
   "id": "7c504c24",
   "metadata": {},
   "outputs": [],
   "source": [
    "l_and_r_destrieux = destrieux.labels * 2\n",
    "for i in range(0, len(l_and_r_destrieux)):\n",
    "    if i == 0:\n",
    "        pass\n",
    "    elif i < 42:\n",
    "        mapping.at[f'mrisdp_{i}','atlas_description'] = l_and_r_destrieux[i]\n",
    "        mapping.at[f'mrisdp_{i}','atlas_value'] = i\n",
    "        mapping.at[f'mrisdp_{302 + i}','atlas_description'] = l_and_r_destrieux[i]\n",
    "        mapping.at[f'mrisdp_{302 + i}','atlas_value'] = i\n",
    "        mapping.at[f'mrisdp_{906 + i}','atlas_description'] = l_and_r_destrieux[i]\n",
    "        mapping.at[f'mrisdp_{906 + i}','atlas_value'] = i\n",
    "    elif i == 42:\n",
    "        pass\n",
    "    elif 42 < i < 76:\n",
    "        mapping.at[f'mrisdp_{i - 1}','atlas_description'] = l_and_r_destrieux[i]\n",
    "        mapping.at[f'mrisdp_{i - 1}','atlas_value'] = i\n",
    "        mapping.at[f'mrisdp_{302 + i - 1}','atlas_description'] = l_and_r_destrieux[i]\n",
    "        mapping.at[f'mrisdp_{302 + i - 1}','atlas_value'] = i\n",
    "        mapping.at[f'mrisdp_{906 + i - 1}','atlas_description'] = l_and_r_destrieux[i]\n",
    "        mapping.at[f'mrisdp_{906 + i - 1}','atlas_value'] = i\n",
    "    elif i == 76:\n",
    "        pass\n",
    "    elif 76 < i < 116:\n",
    "        mapping.at[f'mrisdp_{i - 2}','atlas_description'] = l_and_r_destrieux[i]\n",
    "        mapping.at[f'mrisdp_{i - 2}','atlas_value'] = i\n",
    "        mapping.at[f'mrisdp_{302 + i - 2}','atlas_description'] = l_and_r_destrieux[i]\n",
    "        mapping.at[f'mrisdp_{302 + i - 2}','atlas_value'] = i\n",
    "        mapping.at[f'mrisdp_{906 + i - 2}','atlas_description'] = l_and_r_destrieux[i]\n",
    "        mapping.at[f'mrisdp_{906 + i - 2}','atlas_value'] = i\n",
    "    elif i == 116:\n",
    "        pass\n",
    "    elif i > 116:\n",
    "        mapping.at[f'mrisdp_{i - 3}','atlas_description'] = l_and_r_destrieux[i]\n",
    "        mapping.at[f'mrisdp_{i - 3}','atlas_value'] = i\n",
    "        mapping.at[f'mrisdp_{302 + i - 3}','atlas_description'] = l_and_r_destrieux[i]\n",
    "        mapping.at[f'mrisdp_{302 + i - 3}','atlas_value'] = i\n",
    "        mapping.at[f'mrisdp_{906 + i - 3}','atlas_description'] = l_and_r_destrieux[i]\n",
    "        mapping.at[f'mrisdp_{906 + i - 3}','atlas_value'] = i"
   ]
  },
  {
   "cell_type": "code",
   "execution_count": 102,
   "id": "60dd1900",
   "metadata": {},
   "outputs": [],
   "source": [
    "desikan_labels = pd.read_csv(join(PROJ_DIR, DATA_DIR, 'desikan_labels.txt'), \n",
    "                             sep='\\t', \n",
    "                             header=0,\n",
    "                             usecols=['value']\n",
    "                            )"
   ]
  },
  {
   "cell_type": "code",
   "execution_count": 114,
   "id": "ac0bcf36",
   "metadata": {
    "scrolled": true
   },
   "outputs": [],
   "source": [
    "cdk_area = mapping.filter(regex='smri_area.*_cdk_.*', axis=0).index\n",
    "cdk_thick = mapping.filter(regex='smri_thick.*_cdk_.*', axis=0).index\n",
    "cdk_t1wcnt = mapping.filter(regex='smri_t1wcnt.*_cdk_.*', axis=0).index"
   ]
  },
  {
   "cell_type": "code",
   "execution_count": 124,
   "id": "a58ef601",
   "metadata": {},
   "outputs": [],
   "source": [
    "for i in range(0, len(desikan_labels.values)):\n",
    "    mapping.at[cdk_area[i],'atlas_description'] = desikan_labels.iloc[i]['value']\n",
    "    mapping.at[cdk_area[i],'atlas_value'] = desikan_labels.index[i]\n",
    "    mapping.at[cdk_thick[i],'atlas_description'] = desikan_labels.iloc[i]['value']\n",
    "    mapping.at[cdk_thick[i],'atlas_value'] = desikan_labels.index[i]\n",
    "    mapping.at[cdk_t1wcnt[i],'atlas_description'] = desikan_labels.iloc[i]['value']\n",
    "    mapping.at[cdk_t1wcnt[i],'atlas_value'] = desikan_labels.index[i]"
   ]
  },
  {
   "cell_type": "code",
   "execution_count": 127,
   "id": "c07f05d7",
   "metadata": {},
   "outputs": [],
   "source": [
    "scs_1 = ['x',\n",
    "         'x',\n",
    "         'x',\n",
    "         'x',\n",
    "        \"tplh\",\n",
    "        \"caudatelh\",\n",
    "        \"putamenlh\",\n",
    "        \"pallidumlh\",\n",
    "        \"bstem\",\n",
    "        \"hpuslh\",\n",
    "        \"amygdalalh\",\n",
    "        \"aal\",\n",
    "        'x',\n",
    "        'x',\n",
    "         'x',\n",
    "        \"tprh\",\n",
    "        \"caudaterh\",\n",
    "        \"putamenrh\",\n",
    "        \"pallidumrh\",\n",
    "        \"hpusrh\",\n",
    "        \"amygdalarh\",\n",
    "        \"aar\"]"
   ]
  },
  {
   "cell_type": "code",
   "execution_count": 132,
   "id": "698c1f3e",
   "metadata": {},
   "outputs": [],
   "source": [
    "subcort_map = {}\n",
    "for i in range(0, len(scs_1)):\n",
    "    if scs_1[i] == 'x':\n",
    "        pass\n",
    "    else:\n",
    "        subcort_map[scs_1[i]] = [subcort.labels[i], i]"
   ]
  },
  {
   "cell_type": "code",
   "execution_count": 145,
   "id": "7a11a996",
   "metadata": {},
   "outputs": [],
   "source": [
    "# assign values to subcortical variables\n",
    "for key in subcort_map.keys():\n",
    "    variables = list(mapping.filter(regex=f'.*_scs_{key}.*', axis=0).index)\n",
    "    for var in variables:\n",
    "        if not '_cor_' in var:\n",
    "            #print(var)\n",
    "            mapping.at[var,'atlas_description'] = subcort_map[key][0]\n",
    "            mapping.at[var,'atlas_value'] = subcort_map[key][1]"
   ]
  },
  {
   "cell_type": "code",
   "execution_count": 149,
   "id": "75ac4df2",
   "metadata": {},
   "outputs": [
    {
     "name": "stderr",
     "output_type": "stream",
     "text": [
      "/Users/katherine.b/Library/Python/3.8/lib/python/site-packages/openpyxl/worksheet/_reader.py:312: UserWarning: Unknown extension is not supported and will be removed\n",
      "  warn(msg)\n"
     ]
    }
   ],
   "source": [
    "# gordon parcellation\n",
    "gordon_labels = pd.read_excel(join(PROJ_DIR, 'resources', 'gordon', 'Parcels.xlsx'),\n",
    "                              header=0, \n",
    "                              index_col=0)"
   ]
  },
  {
   "cell_type": "code",
   "execution_count": 177,
   "id": "b5d40bca",
   "metadata": {},
   "outputs": [],
   "source": [
    "cortgordon = mapping.filter(regex='.*_cortgordon', axis=0).index\n",
    "for var in cortgordon:\n",
    "    value = int(var.split('_')[-1][2:-2])\n",
    "    mapping.at[var, 'atlas_value'] = value\n",
    "    mapping.at[var, 'atlas_description'] = gordon_labels.loc[value]['Community']"
   ]
  },
  {
   "cell_type": "code",
   "execution_count": 238,
   "id": "1be16549",
   "metadata": {},
   "outputs": [],
   "source": [
    "# skipping fuzzy12 because the atlases are only available upon email request\n",
    "# and I doubt I'll use them for plotting anyway\n",
    "# next up: fiber atlas\n",
    "FIBER_DIR = '/Volumes/projects_herting/LABDOCS/PROJECTS/ABCD/ABCD_Outcomes/ABCD-brain outcomes/AtlasTrack/'\n",
    "atlastrack_rois = join(FIBER_DIR, 'fibertract_visualization', 'ABCD Atlas Track ROIs')\n",
    "fiber_key = pd.read_csv(join(FIBER_DIR, 'documentation', 'DTI_Fiber_Legend.csv'), \n",
    "                        header=0, \n",
    "                        index_col=0)"
   ]
  },
  {
   "cell_type": "code",
   "execution_count": 242,
   "id": "1d49a8f9",
   "metadata": {},
   "outputs": [],
   "source": [
    "fiber_key['FiberName'] = [name.lower() for name in fiber_key['FiberName']]"
   ]
  },
  {
   "cell_type": "code",
   "execution_count": 267,
   "id": "5b43215c",
   "metadata": {},
   "outputs": [],
   "source": [
    "for var in mapping.filter(regex='.*_fiber', axis=0).index:\n",
    "    tract_name = var.split('_')[-1]\n",
    "    hemisphere = tract_name[-2]\n",
    "    if not 'h' in var:\n",
    "        tract = tract_name\n",
    "        index = fiber_key[fiber_key['FiberName'] == tract].index\n",
    "    else:\n",
    "        tract = tract_name[:-2]\n",
    "        index = fiber_key[fiber_key['FiberName'] == f'{hemisphere}_{tract}'].index\n",
    "        mapping.at[var, 'atlas_description'] = fiber_key.loc[index]['LongFiberName']\n",
    "        mapping.at[var, 'atlas_value'] = int(index.values)"
   ]
  },
  {
   "cell_type": "code",
   "execution_count": 236,
   "id": "a24c4a6e",
   "metadata": {},
   "outputs": [
    {
     "data": {
      "text/plain": [
       "['/Volumes/projects_herting/LABDOCS/PROJECTS/ABCD/ABCD_Outcomes/ABCD-brain outcomes/AtlasTrack/fibertract_visualization/ABCD Atlas Track ROIs/fiber_101_count_countatlas.nii.gz',\n",
       " '/Volumes/projects_herting/LABDOCS/PROJECTS/ABCD/ABCD_Outcomes/ABCD-brain outcomes/AtlasTrack/fibertract_visualization/ABCD Atlas Track ROIs/fiber_102_count_countatlas.nii.gz',\n",
       " '/Volumes/projects_herting/LABDOCS/PROJECTS/ABCD/ABCD_Outcomes/ABCD-brain outcomes/AtlasTrack/fibertract_visualization/ABCD Atlas Track ROIs/fiber_103_count_countatlas.nii.gz',\n",
       " '/Volumes/projects_herting/LABDOCS/PROJECTS/ABCD/ABCD_Outcomes/ABCD-brain outcomes/AtlasTrack/fibertract_visualization/ABCD Atlas Track ROIs/fiber_104_count_countatlas.nii.gz',\n",
       " '/Volumes/projects_herting/LABDOCS/PROJECTS/ABCD/ABCD_Outcomes/ABCD-brain outcomes/AtlasTrack/fibertract_visualization/ABCD Atlas Track ROIs/fiber_105_count_countatlas.nii.gz',\n",
       " '/Volumes/projects_herting/LABDOCS/PROJECTS/ABCD/ABCD_Outcomes/ABCD-brain outcomes/AtlasTrack/fibertract_visualization/ABCD Atlas Track ROIs/fiber_106_count_countatlas.nii.gz',\n",
       " '/Volumes/projects_herting/LABDOCS/PROJECTS/ABCD/ABCD_Outcomes/ABCD-brain outcomes/AtlasTrack/fibertract_visualization/ABCD Atlas Track ROIs/fiber_107_count_countatlas.nii.gz',\n",
       " '/Volumes/projects_herting/LABDOCS/PROJECTS/ABCD/ABCD_Outcomes/ABCD-brain outcomes/AtlasTrack/fibertract_visualization/ABCD Atlas Track ROIs/fiber_108_count_countatlas.nii.gz',\n",
       " '/Volumes/projects_herting/LABDOCS/PROJECTS/ABCD/ABCD_Outcomes/ABCD-brain outcomes/AtlasTrack/fibertract_visualization/ABCD Atlas Track ROIs/fiber_109_count_countatlas.nii.gz',\n",
       " '/Volumes/projects_herting/LABDOCS/PROJECTS/ABCD/ABCD_Outcomes/ABCD-brain outcomes/AtlasTrack/fibertract_visualization/ABCD Atlas Track ROIs/fiber_110_count_countatlas.nii.gz',\n",
       " '/Volumes/projects_herting/LABDOCS/PROJECTS/ABCD/ABCD_Outcomes/ABCD-brain outcomes/AtlasTrack/fibertract_visualization/ABCD Atlas Track ROIs/fiber_115_count_countatlas.nii.gz',\n",
       " '/Volumes/projects_herting/LABDOCS/PROJECTS/ABCD/ABCD_Outcomes/ABCD-brain outcomes/AtlasTrack/fibertract_visualization/ABCD Atlas Track ROIs/fiber_116_count_countatlas.nii.gz',\n",
       " '/Volumes/projects_herting/LABDOCS/PROJECTS/ABCD/ABCD_Outcomes/ABCD-brain outcomes/AtlasTrack/fibertract_visualization/ABCD Atlas Track ROIs/fiber_117_count_countatlas.nii.gz',\n",
       " '/Volumes/projects_herting/LABDOCS/PROJECTS/ABCD/ABCD_Outcomes/ABCD-brain outcomes/AtlasTrack/fibertract_visualization/ABCD Atlas Track ROIs/fiber_118_count_countatlas.nii.gz',\n",
       " '/Volumes/projects_herting/LABDOCS/PROJECTS/ABCD/ABCD_Outcomes/ABCD-brain outcomes/AtlasTrack/fibertract_visualization/ABCD Atlas Track ROIs/fiber_119_count_countatlas.nii.gz',\n",
       " '/Volumes/projects_herting/LABDOCS/PROJECTS/ABCD/ABCD_Outcomes/ABCD-brain outcomes/AtlasTrack/fibertract_visualization/ABCD Atlas Track ROIs/fiber_120_count_countatlas.nii.gz',\n",
       " '/Volumes/projects_herting/LABDOCS/PROJECTS/ABCD/ABCD_Outcomes/ABCD-brain outcomes/AtlasTrack/fibertract_visualization/ABCD Atlas Track ROIs/fiber_123_count_countatlas.nii.gz',\n",
       " '/Volumes/projects_herting/LABDOCS/PROJECTS/ABCD/ABCD_Outcomes/ABCD-brain outcomes/AtlasTrack/fibertract_visualization/ABCD Atlas Track ROIs/fiber_133_count_countatlas.nii.gz',\n",
       " '/Volumes/projects_herting/LABDOCS/PROJECTS/ABCD/ABCD_Outcomes/ABCD-brain outcomes/AtlasTrack/fibertract_visualization/ABCD Atlas Track ROIs/fiber_134_count_countatlas.nii.gz']"
      ]
     },
     "execution_count": 236,
     "metadata": {},
     "output_type": "execute_result"
    }
   ],
   "source": [
    "tract_roi_fnames = glob(join(atlastrack_rois, '*.nii.gz'))\n",
    "for fname in tract_roi_fnames:\n",
    "    basename = fname.split('/')[-1]\n",
    "    num = int(basename.split('_')[1]) - 100\n",
    "    mapping.at[]"
   ]
  },
  {
   "cell_type": "code",
   "execution_count": 356,
   "id": "1e823077",
   "metadata": {},
   "outputs": [],
   "source": [
    "weird_t1 = nib.load(join(atlastrack_rois, 'T1_atlas.nii'))\n",
    "tract = nib.load(join(atlastrack_rois, 'fiber_103_count_countatlas.nii.gz'))"
   ]
  },
  {
   "cell_type": "code",
   "execution_count": 357,
   "id": "e66fc8b0",
   "metadata": {},
   "outputs": [],
   "source": [
    "tract_arr = tract.get_fdata()\n",
    "tract_resampled = nib.Nifti1Image(tract_arr, weird_t1.affine)"
   ]
  },
  {
   "cell_type": "code",
   "execution_count": 358,
   "id": "918aa816",
   "metadata": {},
   "outputs": [],
   "source": [
    "weird_t1_resampled = nib.Nifti1Image(weird_t1.get_fdata(), tract.affine)"
   ]
  },
  {
   "cell_type": "code",
   "execution_count": 359,
   "id": "3630e479",
   "metadata": {},
   "outputs": [],
   "source": [
    "affine = [[   0. ,   0. ,    -1. , 50],\n",
    "       [   0. ,    1. ,    0. , -80],\n",
    "       [  1. ,    0. ,    0. ,  -75],\n",
    "       [   0. ,    0. ,    0. ,    1. ]]"
   ]
  },
  {
   "cell_type": "code",
   "execution_count": 360,
   "id": "b014acef",
   "metadata": {},
   "outputs": [],
   "source": [
    "tract_reresampled = nib.Nifti1Image(tract_arr, affine)"
   ]
  },
  {
   "cell_type": "code",
   "execution_count": 361,
   "id": "ff6ed5cf",
   "metadata": {},
   "outputs": [
    {
     "data": {
      "text/plain": [
       "<nilearn.plotting.displays.XSlicer at 0x292cbc310>"
      ]
     },
     "execution_count": 361,
     "metadata": {},
     "output_type": "execute_result"
    },
    {
     "data": {
      "image/png": "[encoded data removed]",
      "text/plain": [
       "<Figure size 1310.4x165.6 with 8 Axes>"
      ]
     },
     "metadata": {},
     "output_type": "display_data"
    }
   ],
   "source": [
    "plotting.plot_roi(tract_reresampled, display_mode='x')"
   ]
  },
  {
   "cell_type": "code",
   "execution_count": 268,
   "id": "291fd69a",
   "metadata": {},
   "outputs": [],
   "source": [
    "mapping.to_csv(join(PROJ_DIR, DATA_DIR, 'variable_to_nifti_mapping.csv'))"
   ]
  },
  {
   "cell_type": "code",
   "execution_count": null,
   "id": "b38fe72b",
   "metadata": {},
   "outputs": [],
   "source": [
    "destrieux_vol_nimg = nib.load(destrieux_vol.maps)\n",
    "destrieux_vol_arra = destrieux_vol_nimg.get_fdata()"
   ]
  },
  {
   "cell_type": "code",
   "execution_count": 86,
   "id": "352962fd",
   "metadata": {
    "scrolled": true
   },
   "outputs": [],
   "source": [
    "desikan_vol_nimg = nib.load(desikan.images[0])\n",
    "desikan_vol_arra = desikan_vol_nimg.get_fdata()"
   ]
  },
  {
   "cell_type": "code",
   "execution_count": 201,
   "id": "cfc202c1",
   "metadata": {},
   "outputs": [
    {
     "name": "stdout",
     "output_type": "stream",
     "text": [
      "\u001b[34mABCD Atlas Track ROIs\u001b[m\u001b[m   \u001b[34mElisabeth_sig_tracts\u001b[m\u001b[m\r\n",
      "\u001b[34mABCD Atlas Track Tracts\u001b[m\u001b[m \u001b[34mimage_files\u001b[m\u001b[m\r\n"
     ]
    }
   ],
   "source": [
    "!ls  /Volumes/projects_herting/LABDOCS/PROJECTS/ABCD/ABCD_Outcomes/ABCD-brain\\ outcomes/AtlasTrack/fibertract_visualization"
   ]
  },
  {
   "cell_type": "code",
   "execution_count": 307,
   "id": "d348b520",
   "metadata": {},
   "outputs": [
    {
     "data": {
      "text/plain": [
       "mrisdp_99                                                  b'G_pariet_inf-Angular'\n",
       "mrisdp_401                                                 b'G_pariet_inf-Angular'\n",
       "mrisdp_1005                                                b'G_pariet_inf-Angular'\n",
       "rsfmri_var_cortgordon_gp101lh                                         CinguloOperc\n",
       "dmri_dtifa_fiberat_fxrh          FiberNumber\n",
       "101    R fornix\n",
       "Name: LongFiberNam...\n",
       "dmri_dtimd_fiberat_fxrh          FiberNumber\n",
       "101    R fornix\n",
       "Name: LongFiberNam...\n",
       "dmri_dtivol_fiberat_fxrh         FiberNumber\n",
       "101    R fornix\n",
       "Name: LongFiberNam...\n",
       "Name: atlas_description, dtype: object"
      ]
     },
     "execution_count": 307,
     "metadata": {},
     "output_type": "execute_result"
    }
   ],
   "source": [
    "mapping[mapping['atlas_value'] == 101]['atlas_description']"
   ]
  },
  {
   "cell_type": "code",
   "execution_count": null,
   "id": "2d0219c2",
   "metadata": {},
   "outputs": [],
   "source": []
  }
 ],
 "metadata": {
  "kernelspec": {
   "display_name": "Python 3 (ipykernel)",
   "language": "python",
   "name": "python3"
  },
  "language_info": {
   "codemirror_mode": {
    "name": "ipython",
    "version": 3
   },
   "file_extension": ".py",
   "mimetype": "text/x-python",
   "name": "python",
   "nbconvert_exporter": "python",
   "pygments_lexer": "ipython3",
   "version": "3.8.9"
  }
 },
 "nbformat": 4,
 "nbformat_minor": 5
}
