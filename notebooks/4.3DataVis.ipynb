{
 "cells": [
  {
   "cell_type": "code",
   "execution_count": null,
   "id": "1a0a26a9",
   "metadata": {},
   "outputs": [],
   "source": [
    "import numpy as np\n",
    "import pandas as pd\n",
    "import seaborn as sns\n",
    "import matplotlib.pyplot as plt\n",
    "\n",
    "from os.path import join\n",
    "from scipy.stats import ttest_rel\n",
    "import warnings\n",
    "\n",
    "warnings.filterwarnings(\"ignore\")"
   ]
  },
  {
   "cell_type": "code",
   "execution_count": null,
   "id": "a3f37b47",
   "metadata": {},
   "outputs": [],
   "source": [
    "PROJ_DIR = \"/Volumes/projects_herting/LABDOCS/Personnel/Katie/deltaABCD_clustering/\"\n",
    "DATA_DIR = \"data/\"\n",
    "FIGS_DIR = \"figures/\"\n",
    "OUTP_DIR = \"output/\""
   ]
  },
  {
   "cell_type": "code",
   "execution_count": null,
   "id": "27425b52",
   "metadata": {},
   "outputs": [],
   "source": [
    "df = pd.read_pickle(join(PROJ_DIR, DATA_DIR, \"data_qcd.pkl\"))\n",
    "# grap ppt ids for people who pass QC\n",
    "ppts = df.filter(regex=\"rsfmri_c_.*change_score\").dropna().index\n",
    "#df = None\n",
    "# we need ids for the vectorized upper triangle!\n",
    "network_names = ['dt', 'ca', 'smh', 'dla', 'ad', 'smm', 'sa', 'fo', 'vs', 'cgc', 'vta', 'rspltp']"
   ]
  },
  {
   "cell_type": "code",
   "execution_count": null,
   "id": "9797e7cd",
   "metadata": {},
   "outputs": [],
   "source": [
    "#reading in the dataframes for each type of change score\n",
    "sign_change = pd.read_pickle(join(PROJ_DIR, DATA_DIR, 'delta_rsFC-sign_changes.pkl'))\n",
    "graph_df = pd.read_pickle(join(PROJ_DIR, OUTP_DIR, 'delta_rsFC-graph_measures-global.pkl'))\n",
    "local_df = pd.read_pickle(join(PROJ_DIR, OUTP_DIR, 'delta_rsFC-graph_measures-local.pkl'))"
   ]
  },
  {
   "cell_type": "code",
   "execution_count": null,
   "id": "6f8d842e",
   "metadata": {},
   "outputs": [],
   "source": [
    "#reading in the dataframes for each fc descriptive stats\n",
    "netwk_wise_desc = pd.read_pickle(join(PROJ_DIR, OUTP_DIR, 'netwk_wise_desc.pkl'))\n",
    "within_netwk_desc = pd.read_pickle(join(PROJ_DIR, OUTP_DIR, 'within_netwk_desc.pkl'))\n",
    "between_netk_desc = pd.read_pickle(join(PROJ_DIR, OUTP_DIR, 'between_netk_desc.pkl'))"
   ]
  },
  {
   "cell_type": "code",
   "execution_count": null,
   "id": "0d77e928",
   "metadata": {},
   "outputs": [],
   "source": [
    "#reading in the melted multi-indexed dataframes for each fc descriptive stats\n",
    "melt_ntwk_wise = pd.read_pickle(join(PROJ_DIR, OUTP_DIR, 'melt_ntwk_wise.pkl'))p\n",
    "melt_wthn_ntwk = pd.read_pickle(join(PROJ_DIR, OUTP_DIR, 'melt_wthn_ntwk.pkl'))\n",
    "melt_btwn_ntwk = pd.read_pickle(join(PROJ_DIR, OUTP_DIR, 'melt_btwn_ntwk.pkl'))"
   ]
  },
  {
   "cell_type": "code",
   "execution_count": null,
   "id": "674d43a7",
   "metadata": {},
   "outputs": [],
   "source": [
    "sex = df[[\"sex.baseline_year_1_arm_1\"]]\n",
    "sex=sex.dropna()\n",
    "print(sex)"
   ]
  },
  {
   "cell_type": "code",
   "execution_count": null,
   "id": "3bd9c002",
   "metadata": {},
   "outputs": [],
   "source": [
    "# I'm just interested in ppts who pass the quality control process\n",
    "quality_ppts = list(set(ppts) & set(graph_df.index))\n",
    "\n",
    "graph_df = graph_df.loc[quality_ppts]\n",
    "local_df = local_df.loc[quality_ppts]\n",
    "sex_df = sex.loc[quality_ppts]\n",
    "\n"
   ]
  },
  {
   "cell_type": "code",
   "execution_count": null,
   "id": "e53c34ba",
   "metadata": {},
   "outputs": [],
   "source": [
    "sex_index = sex_df.rename_axis('src_subject_id').reset_index()\n",
    "sex_index.head()\n",
    "#sex_index.to_csv(join(PROJ_DIR, OUTP_DIR,'sex_index.csv'))\n"
   ]
  },
  {
   "cell_type": "code",
   "execution_count": null,
   "id": "2aade3f0",
   "metadata": {},
   "outputs": [],
   "source": [
    "# creating the sex df for baseline \n",
    "\n",
    "base_sex = pd.read_csv(join(PROJ_DIR, OUTP_DIR, 'sex_index.csv'), index_col=0)\n",
    "base_sex.set_index('src_subject_id', inplace=True)\n",
    "base_sex.columns = pd.MultiIndex.from_product([['baseline_year_1_arm_1'], ['sex']])\n",
    "base_sex\n",
    "\n"
   ]
  },
  {
   "cell_type": "code",
   "execution_count": null,
   "id": "e412a550",
   "metadata": {},
   "outputs": [],
   "source": [
    "# creating the sex df for y2fu\n",
    "\n",
    "y2fu_sex = pd.read_csv(join(PROJ_DIR, OUTP_DIR, 'sex_index.csv'), index_col=0)\n",
    "y2fu_sex.set_index('src_subject_id', inplace=True)\n",
    "y2fu_sex.columns = pd.MultiIndex.from_product([['2_year_follow_up_y_arm_1'], ['sex']])\n",
    "y2fu_sex\n",
    "\n"
   ]
  },
  {
   "cell_type": "code",
   "execution_count": null,
   "id": "99b94827",
   "metadata": {},
   "outputs": [],
   "source": [
    "# CONCAT SEX AND GRAPH_DF, THEN MELT\n",
    "\n",
    "graph_df_sex = pd.concat([graph_df, base_sex, y2fu_sex], axis=1)\n",
    "graph_df_sex[('baseline_year_1_arm_1','subject_id')] = graph_df_sex.index\n",
    "graph_sex_melt = graph_df_sex.melt(id_vars=[('baseline_year_1_arm_1','subject_id'),\n",
    "                                           ('baseline_year_1_arm_1','sex'),\n",
    "                                           ('2_year_follow_up_y_arm_1','sex')])\n",
    "cols=graph_sex_melt.columns\n",
    "#cols\n",
    "\n",
    "# reaname the columns\n",
    "\n",
    "graph_sex_melt.columns = [('subject_id'), ('sex'), ('na'), ('variable_0'), ('variable_1'), ('value')]\n",
    "graph_sex_melt\n",
    "\n"
   ]
  },
  {
   "cell_type": "code",
   "execution_count": null,
   "id": "e2a9a992",
   "metadata": {},
   "outputs": [],
   "source": [
    "local_df.dropna()\n",
    "\n"
   ]
  },
  {
   "cell_type": "code",
   "execution_count": null,
   "id": "94158742",
   "metadata": {},
   "outputs": [],
   "source": [
    "# setting the variable ids\n",
    "\n",
    "local_df['subject_id'] = local_df.index.get_level_values(0)\n",
    "long_local = local_df.melt(id_vars=['timepoint', 'subject_id'])\n",
    "long_local\n",
    "\n"
   ]
  },
  {
   "cell_type": "code",
   "execution_count": null,
   "id": "523e8911",
   "metadata": {},
   "outputs": [],
   "source": [
    "# save out long_local df for Katie\n",
    "\n",
    "long_local.to_csv(join(PROJ_DIR, OUTP_DIR,'long_local.csv'))\n",
    "\n"
   ]
  },
  {
   "cell_type": "code",
   "execution_count": null,
   "id": "6ff8fd86",
   "metadata": {},
   "outputs": [],
   "source": [
    "#GLOBAL spaghetti plot\n",
    "\n",
    "sns.set_theme(style=\"ticks\")\n",
    "palette = sns.color_palette('muted')\n",
    "ax= sns.relplot(graph_df_melt, \n",
    "            kind = \"line\",\n",
    "            x=\"variable_0\", \n",
    "            y=\"value\", units=\"src_subject_id\", hue=\"variable_1\", col='variable_1', palette=palette,\n",
    "            alpha=0.05, height=5, aspect=.75,facet_kws=dict(sharex=False, sharey=False), estimator=None,\n",
    "            )\n",
    "\n"
   ]
  },
  {
   "cell_type": "code",
   "execution_count": null,
   "id": "7c137115",
   "metadata": {},
   "outputs": [],
   "source": [
    "#GLOBAL SEX spaghetti plot\n",
    "\n",
    "sns.set_theme(style=\"ticks\")\n",
    "palette = sns.color_palette('Set2')\n",
    "ax= sns.relplot(graph_sex_melt, \n",
    "            kind = \"line\",\n",
    "            x=\"variable_0\", \n",
    "            y=\"value\", units=\"subject_id\", hue=\"sex\", col='variable_1', palette=palette,\n",
    "            alpha=0.07, height=5, aspect=.75,facet_kws=dict(sharex=False, sharey=False), estimator=None,\n",
    "            )\n"
   ]
  },
  {
   "cell_type": "code",
   "execution_count": null,
   "id": "ceab523d",
   "metadata": {},
   "outputs": [],
   "source": [
    "#LOCAL spaghetti plot\n",
    "\n",
    "sns.set_theme(style=\"ticks\")\n",
    "\n",
    "# Define the palette as a list to specify exact values\n",
    "palette = sns.color_palette(\"rocket_r\")\n",
    "\n",
    "# Plot the lines on two facets\n",
    "sns.relplot(long_local, \n",
    "            kind = \"line\",\n",
    "            x=\"timepoint\", \n",
    "            y=\"value\", col='variable_0' , hue=\"variable_1\", row=\"variable_1\", units=\"subject_id\",\n",
    "            alpha=0.05, height=5, aspect=.75,facet_kws=dict(sharex=False, sharey=False), estimator=None,\n",
    "            )"
   ]
  },
  {
   "cell_type": "code",
   "execution_count": null,
   "id": "b36534df",
   "metadata": {},
   "outputs": [],
   "source": [
    "# NETWORK WISE CONNECTIVITY DESCRIPTIVES BOXPLOT\n",
    "\n",
    "sns.set_theme(style=\"ticks\")\n",
    "\n",
    "# Initialize the figure with a logarithmic x axis\n",
    "f, ax = plt.subplots(figsize=(7, 10))\n",
    "ax.set_xscale(\"symlog\")\n",
    "\n",
    "\n",
    "# Plot the data\n",
    "sns.boxplot(\n",
    "    melt_ntwk_wise, x=\"value\", y=\"variable_1\", hue=\"variable_0\",\n",
    "    palette=\"tab10\", whis=50, fliersize=0)\n",
    "\n"
   ]
  },
  {
   "cell_type": "code",
   "execution_count": null,
   "id": "3a2e31a0",
   "metadata": {},
   "outputs": [],
   "source": [
    "# WITHIN NETWORK CONNECTIVITY DESCRIPTIVES BOXPLOT\n",
    "\n",
    "sns.set_theme(style=\"ticks\")\n",
    "\n",
    "# Initialize the figure with a logarithmic x axis\n",
    "f, ax = plt.subplots(figsize=(7, 10))\n",
    "ax.set_xscale(\"symlog\")\n",
    "\n",
    "\n",
    "# Plot the data\n",
    "sns.boxplot(\n",
    "    melt_wthn_ntwk, x=\"value\", y=\"variable_1\", hue=\"variable_0\",\n",
    "    palette=\"tab10\", whis=50, fliersize=0)\n"
   ]
  },
  {
   "cell_type": "code",
   "execution_count": null,
   "id": "04294f24",
   "metadata": {},
   "outputs": [],
   "source": [
    "# BETWEEN NETWORK CONNECTIVITY DESCRIPTIVES BOXPLOT\n",
    "\n",
    "sns.set_theme(style=\"ticks\")\n",
    "\n",
    "# Initialize the figure with a logarithmic x axis\n",
    "f, ax = plt.subplots(figsize=(7, 10))\n",
    "ax.set_xscale(\"symlog\")\n",
    "\n",
    "\n",
    "# Plot the data\n",
    "sns.boxplot(\n",
    "    melt_btwn_ntwk, x=\"value\", y=\"variable_1\", hue=\"variable_0\",\n",
    "    palette=\"tab10\", whis=50, fliersize=0)\n"
   ]
  },
  {
   "cell_type": "code",
   "execution_count": null,
   "id": "c662a42a",
   "metadata": {},
   "outputs": [],
   "source": []
  }
 ],
 "metadata": {
  "kernelspec": {
   "display_name": "Python 3 (ipykernel)",
   "language": "python",
   "name": "python3"
  },
  "language_info": {
   "codemirror_mode": {
    "name": "ipython",
    "version": 3
   },
   "file_extension": ".py",
   "mimetype": "text/x-python",
   "name": "python",
   "nbconvert_exporter": "python",
   "pygments_lexer": "ipython3",
   "version": "3.10.9"
  }
 },
 "nbformat": 4,
 "nbformat_minor": 5
}
