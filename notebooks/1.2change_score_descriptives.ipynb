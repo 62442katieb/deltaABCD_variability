{
 "cells": [
  {
   "cell_type": "code",
   "execution_count": 41,
   "id": "9f06b2b9",
   "metadata": {},
   "outputs": [],
   "source": [
    "import numpy as np\n",
    "import pandas as pd\n",
    "import seaborn as sns\n",
    "import nibabel as nib\n",
    "import matplotlib.pyplot as plt\n",
    "import matplotlib as mpl\n",
    "\n",
    "from os.path import join\n",
    "\n",
    "from scipy.stats import fligner, t\n",
    "from nilearn import plotting, datasets, surface"
   ]
  },
  {
   "cell_type": "code",
   "execution_count": 39,
   "id": "96b42acd",
   "metadata": {},
   "outputs": [],
   "source": [
    "morph_pal = sns.cubehelix_palette(n_colors=4, start=0.6, rot=-0.6, gamma=1.0, hue=0.7, light=0.6, dark=0.3)\n",
    "morph_cmap = sns.cubehelix_palette(n_colors=4, start=0.6, rot=-0.6, gamma=1.0, hue=0.7, light=0.3, dark=0.2, \n",
    "                                   as_cmap=True, reverse=True)\n",
    "cell_pal = sns.cubehelix_palette(n_colors=5, start=1.8, rot=-0.8, gamma=1.0, hue=0.7, light=0.6, dark=0.3)\n",
    "cell_cmap = sns.cubehelix_palette(n_colors=5, start=1.8, rot=-0.8, gamma=1.0, hue=0.7, light=0.3, dark=0.2, \n",
    "                                  as_cmap=True, reverse=True)\n",
    "func_pal = sns.cubehelix_palette(n_colors=3, start=3.0, rot=-0.6, gamma=1.0, hue=0.7, light=0.6, dark=0.3)\n",
    "func_cmap = sns.cubehelix_palette(n_colors=3, start=3.0, rot=-0.6, gamma=1.0, hue=0.7, light=0.3, dark=0.2, \n",
    "                                  as_cmap=True, reverse=True)\n",
    "big_pal = morph_pal + cell_pal + func_pal"
   ]
  },
  {
   "cell_type": "code",
   "execution_count": 3,
   "id": "bdd9743b",
   "metadata": {},
   "outputs": [],
   "source": [
    "sns.set(style=\"white\", \n",
    "        context=\"talk\", \n",
    "        font_scale=0.8,\n",
    "        rc={\"axes.facecolor\": (0, 0, 0, 0),\n",
    "            \"font.monospace\": 'Courier New',\n",
    "            \"font.family\": 'monospace'})\n",
    "crayons = sns.crayon_palette(['Aquamarine', 'Burnt Sienna', 'Jungle Green', 'Fuchsia', 'Lavender'])"
   ]
  },
  {
   "cell_type": "code",
   "execution_count": 4,
   "id": "5d5cc7de",
   "metadata": {},
   "outputs": [],
   "source": [
    "PROJ_DIR = \"/Volumes/projects_herting/LABDOCS/Personnel/Katie/deltaABCD_clustering/\"\n",
    "DATA_DIR = \"data/\"\n",
    "FIGS_DIR = \"figures/\"\n",
    "OUTP_DIR = \"output/\""
   ]
  },
  {
   "cell_type": "code",
   "execution_count": 5,
   "id": "74172ea0",
   "metadata": {},
   "outputs": [],
   "source": [
    "df = pd.read_csv(join(PROJ_DIR, DATA_DIR, \"data.csv\"), index_col=0, header=0)"
   ]
  },
  {
   "cell_type": "code",
   "execution_count": 6,
   "id": "0e0986fb",
   "metadata": {},
   "outputs": [],
   "source": [
    "df.drop(list(df.filter(regex='lesion.*').columns), axis=1, inplace=True)\n",
    "df.drop(list(df.filter(regex='.*_cf12_.*').columns), axis=1, inplace=True)\n",
    "no_2yfu = df[df[\"interview_date.2_year_follow_up_y_arm_1\"].isna() == True].index\n",
    "df = df.drop(no_2yfu, axis=0)"
   ]
  },
  {
   "cell_type": "code",
   "execution_count": 7,
   "id": "eefe0074",
   "metadata": {},
   "outputs": [],
   "source": [
    "\n",
    "deltasmri_complete = pd.concat([df.filter(regex='smri.*change_score'), \n",
    "                                df.filter(regex='mrisdp.*change_score')], axis=1).dropna()\n",
    "deltarsfmri_complete = df.filter(regex='rsfmri.*change_score').dropna(how='any')\n",
    "deltarsi_complete = df.filter(regex='dmri_rsi.*change_score').dropna()\n",
    "deltadti_complete = df.filter(regex='dmri_dti.*change_score').dropna()\n",
    "\n",
    "img_modalities = {'smri': deltasmri_complete,\n",
    "                  'fmri': deltarsfmri_complete,\n",
    "                  'rsi': deltarsi_complete, \n",
    "                  'dti': deltadti_complete}\n",
    "\n",
    "# plot the distribution of variances of all structural mri measures\n",
    "smri_var = img_modalities['smri'].columns\n",
    "dti_var = img_modalities['dti'].columns\n",
    "rsi_var = img_modalities['rsi'].columns\n",
    "fmri_var = img_modalities['fmri'].columns\n",
    "fmri_cor_var = img_modalities['fmri'].filter(regex='_c.*').columns\n",
    "fmri_var_var = img_modalities['fmri'].filter(regex='_var_.*').columns\n",
    "#morph = img_modalities['smri'].filter(regex='.*vol.*').columns"
   ]
  },
  {
   "cell_type": "code",
   "execution_count": 8,
   "id": "e2d0f6b3",
   "metadata": {},
   "outputs": [],
   "source": [
    "imaging_apd = list(deltasmri_complete.columns) + list(deltadti_complete.columns) + list(deltarsi_complete.columns) + list(deltarsfmri_complete.columns)"
   ]
  },
  {
   "cell_type": "code",
   "execution_count": 9,
   "id": "11c4894d",
   "metadata": {},
   "outputs": [],
   "source": [
    "concepts = {'morph': ['thick', \n",
    "                      'area', \n",
    "                      'vol',\n",
    "                      'dtivol'],\n",
    "            'cell': ['t1wcnt', \n",
    "                     'rsirni', \n",
    "                     'rsirnd', \n",
    "                     'dtifa', \n",
    "                     'dtimd'],\n",
    "            'func':['var',\n",
    "                    'c',\n",
    "                    'cor']}"
   ]
  },
  {
   "cell_type": "code",
   "execution_count": 10,
   "id": "d0a69180",
   "metadata": {},
   "outputs": [],
   "source": [
    "# need to calculate mean & sd for each imaging variable change score\n",
    "descriptives = pd.DataFrame(columns=['annualized percent change', 'sdev', 'concept', 'atlas', 'measure'])\n",
    "for var in imaging_apd:\n",
    "    descriptives.at[var,'annualized percent change'] = df[var].mean()\n",
    "    descriptives.at[var,'sdev'] = df[var].std()\n",
    "    if 'mrisdp' in var:\n",
    "        var_num = int(var.split('.')[0].split('_')[-1])\n",
    "        descriptives.at[var, 'atlas'] = 'dtx'\n",
    "        if var_num <= 148:\n",
    "            descriptives.at[var, 'concept'] = 'morphology'\n",
    "            descriptives.at[var, 'measure'] = 'thick'\n",
    "        elif var_num <= 450 and var_num >= 303:\n",
    "            descriptives.at[var, 'concept'] = 'morphology'\n",
    "            descriptives.at[var, 'measure'] = 'area'\n",
    "        elif var_num < 604 and var_num >= 450:\n",
    "            descriptives.at[var, 'concept'] = 'morphology'\n",
    "            descriptives.at[var, 'measure'] = 'vol'\n",
    "        elif var_num <= 1054 and var_num >= 907:\n",
    "            descriptives.at[var, 'concept'] = 'cellular architecture'\n",
    "            descriptives.at[var, 'measure'] = 't1wcnt'\n",
    "        elif var_num == 604:\n",
    "            descriptives.at[var, 'concept'] = 'morphology'\n",
    "            descriptives.at[var, 'measure'] = 'vol'\n",
    "    elif '_' in var:\n",
    "        var_list = var.split('.')[0].split('_')\n",
    "        descriptives.at[var, 'measure'] = var_list[1]\n",
    "        descriptives.at[var, 'atlas'] = var_list[2]\n",
    "        if var_list[1] in concepts['morph']:\n",
    "            descriptives.at[var, 'concept'] = 'morphology'\n",
    "        elif var_list[1] in concepts['cell']:\n",
    "            descriptives.at[var, 'concept'] = 'cellular architecture'\n",
    "        if var_list[1] in concepts['func']:\n",
    "            if var_list[1] == 'c':\n",
    "                if \n",
    "            descriptives.at[var, 'concept'] = 'function'"
   ]
  },
  {
   "cell_type": "code",
   "execution_count": 11,
   "id": "532ca9ca",
   "metadata": {},
   "outputs": [],
   "source": [
    "measures = list(descriptives['measure'].unique())\n",
    "concepts = ['morphology', 'cellular architecture', 'function']"
   ]
  },
  {
   "cell_type": "code",
   "execution_count": 12,
   "id": "de6cb9f8",
   "metadata": {},
   "outputs": [],
   "source": [
    "long_names = {'var': 'BOLD',\n",
    "              'c': 'FC (c)',\n",
    "              'cor': 'FC (sc)',\n",
    "              'dtivol': 'WMV',\n",
    "              'vol': 'GMV',\n",
    "              'thick': 'CT',\n",
    "              'area': 'CA',\n",
    "              'dtifa': 'FA',\n",
    "              'dtimd': 'MD',\n",
    "              'rsirni': 'RNI',\n",
    "              'rsirnd': 'RND',\n",
    "              't1wcnt': 'G/W'}"
   ]
  },
  {
   "cell_type": "code",
   "execution_count": 13,
   "id": "b3926228",
   "metadata": {},
   "outputs": [],
   "source": [
    "sub_df = descriptives[descriptives['concept'] == 'morphology']\n",
    "sub2_df = descriptives[descriptives['concept'] == 'cellular architecture']\n",
    "sub_df = pd.concat([sub_df, sub2_df])\n",
    "sub_df.replace(long_names, inplace=True)"
   ]
  },
  {
   "cell_type": "code",
   "execution_count": 14,
   "id": "868f144c",
   "metadata": {},
   "outputs": [],
   "source": [
    "morph_cell_pal = morph_pal + cell_pal"
   ]
  },
  {
   "cell_type": "code",
   "execution_count": 15,
   "id": "a0306bde",
   "metadata": {},
   "outputs": [
    {
     "name": "stderr",
     "output_type": "stream",
     "text": [
      "/Users/katherine.b/Library/Python/3.8/lib/python/site-packages/seaborn/axisgrid.py:88: UserWarning: Tight layout not applied. tight_layout cannot make axes height small enough to accommodate all axes decorations.\n",
      "  self._figure.tight_layout(*args, **kwargs)\n",
      "/Users/katherine.b/Library/Python/3.8/lib/python/site-packages/seaborn/axisgrid.py:88: UserWarning: Tight layout not applied. tight_layout cannot make axes height small enough to accommodate all axes decorations.\n",
      "  self._figure.tight_layout(*args, **kwargs)\n"
     ]
    },
    {
     "data": {
      "image/png": "[encoded data removed]",
      "text/plain": [
       "<Figure size 540x324 with 9 Axes>"
      ]
     },
     "metadata": {},
     "output_type": "display_data"
    }
   ],
   "source": [
    "g = sns.FacetGrid(sub_df, \n",
    "                  row=\"measure\", row_order=['GMV', 'CT', 'CA', 'WMV', \n",
    "                                            'G/W', 'MD', 'FA','RNI', 'RND'],\n",
    "                  hue=\"measure\", hue_order=['GMV', 'CT', 'CA', 'WMV', \n",
    "                                            'G/W', 'MD', 'FA','RNI', 'RND'],\n",
    "                  aspect=15, height=.5, palette=morph_cell_pal)\n",
    "\n",
    "# Draw the densities in a few steps\n",
    "g.map(sns.kdeplot, \"annualized percent change\",\n",
    "      bw_adjust=.5, clip_on=False,\n",
    "      fill=True, alpha=1, linewidth=1.5)\n",
    "g.map(sns.kdeplot, \"annualized percent change\", clip_on=False, color=\"w\", lw=2.5, bw_adjust=.5)\n",
    "\n",
    "# passing color=None to refline() uses the hue mapping\n",
    "g.refline(y=0, linewidth=2, linestyle=\"-\", color=None, clip_on=False)\n",
    "\n",
    "# Define and use a simple function to label the plot in axes coordinates\n",
    "def label(x, color, label):\n",
    "    ax = plt.gca()\n",
    "    ax.text(0, .2, label, #fontweight=\"bold\", \n",
    "            color=color,\n",
    "            ha=\"left\", va=\"center\", transform=ax.transAxes)\n",
    "\n",
    "\n",
    "g.map(label, \"annualized percent change\")\n",
    "\n",
    "# Set the subplots to overlap\n",
    "g.figure.subplots_adjust(hspace=-.25)\n",
    "\n",
    "# Remove axes details that don't play well with overlap\n",
    "g.set_titles(\"\")\n",
    "g.set(yticks=[], ylabel=\"\")\n",
    "g.despine(bottom=True, left=True)\n",
    "g.savefig(f'../{FIGS_DIR}/apr_morpcell.png', dpi=400)"
   ]
  },
  {
   "cell_type": "code",
   "execution_count": 16,
   "id": "640f303f",
   "metadata": {},
   "outputs": [
    {
     "name": "stderr",
     "output_type": "stream",
     "text": [
      "/Users/katherine.b/Library/Python/3.8/lib/python/site-packages/pandas/core/frame.py:5238: SettingWithCopyWarning: \n",
      "A value is trying to be set on a copy of a slice from a DataFrame\n",
      "\n",
      "See the caveats in the documentation: https://pandas.pydata.org/pandas-docs/stable/user_guide/indexing.html#returning-a-view-versus-a-copy\n",
      "  return super().replace(\n"
     ]
    }
   ],
   "source": [
    "sub_df = descriptives[descriptives['concept'] == 'function']\n",
    "sub_df.replace(long_names, inplace=True)"
   ]
  },
  {
   "cell_type": "code",
   "execution_count": 20,
   "id": "0496a3fe",
   "metadata": {},
   "outputs": [
    {
     "name": "stderr",
     "output_type": "stream",
     "text": [
      "/Users/katherine.b/Library/Python/3.8/lib/python/site-packages/seaborn/axisgrid.py:88: UserWarning: Tight layout not applied. tight_layout cannot make axes height small enough to accommodate all axes decorations.\n",
      "  self._figure.tight_layout(*args, **kwargs)\n",
      "/Users/katherine.b/Library/Python/3.8/lib/python/site-packages/seaborn/axisgrid.py:88: UserWarning: Tight layout not applied. tight_layout cannot make axes height small enough to accommodate all axes decorations.\n",
      "  self._figure.tight_layout(*args, **kwargs)\n",
      "/Users/katherine.b/Library/Python/3.8/lib/python/site-packages/seaborn/axisgrid.py:88: UserWarning: Tight layout not applied. tight_layout cannot make axes height small enough to accommodate all axes decorations.\n",
      "  self._figure.tight_layout(*args, **kwargs)\n"
     ]
    },
    {
     "data": {
      "image/png": "[encoded data removed]",
      "text/plain": [
       "<Figure size 576x108 with 3 Axes>"
      ]
     },
     "metadata": {},
     "output_type": "display_data"
    }
   ],
   "source": [
    "g = sns.FacetGrid(sub_df, row=\"measure\", hue=\"measure\", aspect=16, height=.5, palette=func_pal)\n",
    "\n",
    "# Draw the densities in a few steps\n",
    "g.map(sns.kdeplot, \"annualized percent change\",\n",
    "      bw_adjust=.5, clip_on=False,\n",
    "      fill=True, alpha=1, linewidth=1.5)\n",
    "g.map(sns.kdeplot, \"annualized percent change\", clip_on=False, color=\"w\", lw=2, bw_adjust=.5)\n",
    "\n",
    "# passing color=None to refline() uses the hue mapping\n",
    "g.refline(y=0, linewidth=2, linestyle=\"-\", color=None, clip_on=False)\n",
    "\n",
    "# Define and use a simple function to label the plot in axes coordinates\n",
    "def label(x, color, label):\n",
    "    ax = plt.gca()\n",
    "    ax.text(0, .2, label, color=color,\n",
    "            ha=\"left\", va=\"center\", transform=ax.transAxes)\n",
    "\n",
    "\n",
    "g.map(label, \"annualized percent change\")\n",
    "\n",
    "# Set the subplots to overlap\n",
    "g.figure.subplots_adjust(hspace=-.25)\n",
    "\n",
    "# Remove axes details that don't play well with overlap\n",
    "g.set_titles(\"\")\n",
    "g.set(yticks=[], ylabel=\"\")\n",
    "g.despine(bottom=True, left=True)\n",
    "g.savefig(f'../{FIGS_DIR}/apr_function.png', dpi=400)"
   ]
  },
  {
   "cell_type": "code",
   "execution_count": 35,
   "id": "a2bd531e",
   "metadata": {},
   "outputs": [],
   "source": [
    "desc_summ = pd.DataFrame(index=measures, columns=['mean', 'sdev', '95%CI'])\n",
    "for measure in measures:\n",
    "    temp_df = descriptives[descriptives['measure'] == measure]\n",
    "    mean = np.mean(temp_df['annualized percent change'])\n",
    "    desc_summ.at[measure, 'mean'] = np.round(mean,2)\n",
    "    sdev = np.mean(temp_df['sdev'])\n",
    "    desc_summ.at[measure, 'sdev'] = np.round(sdev,2)\n",
    "    dof = len(temp_df.index)-1 \n",
    "    confidence = 0.95\n",
    "    t_crit = np.abs(t.ppf((1-confidence)/2,dof))\n",
    "    CI = (np.round(mean - sdev *t_crit / np.sqrt(dof + 1), 2), np.round(mean + sdev * t_crit / np.sqrt(dof + 1),2)) \n",
    "    desc_summ.at[measure, '95%CI'] = CI"
   ]
  },
  {
   "cell_type": "code",
   "execution_count": 36,
   "id": "7ef86185",
   "metadata": {},
   "outputs": [
    {
     "data": {
      "text/html": [
       "<div>\n",
       "<style scoped>\n",
       "    .dataframe tbody tr th:only-of-type {\n",
       "        vertical-align: middle;\n",
       "    }\n",
       "\n",
       "    .dataframe tbody tr th {\n",
       "        vertical-align: top;\n",
       "    }\n",
       "\n",
       "    .dataframe thead th {\n",
       "        text-align: right;\n",
       "    }\n",
       "</style>\n",
       "<table border=\"1\" class=\"dataframe\">\n",
       "  <thead>\n",
       "    <tr style=\"text-align: right;\">\n",
       "      <th></th>\n",
       "      <th>mean</th>\n",
       "      <th>sdev</th>\n",
       "      <th>95%CI</th>\n",
       "    </tr>\n",
       "  </thead>\n",
       "  <tbody>\n",
       "    <tr>\n",
       "      <th>vol</th>\n",
       "      <td>-0.69</td>\n",
       "      <td>3.69</td>\n",
       "      <td>(-1.16, -0.23)</td>\n",
       "    </tr>\n",
       "    <tr>\n",
       "      <th>area</th>\n",
       "      <td>0.04</td>\n",
       "      <td>3.38</td>\n",
       "      <td>(-0.41, 0.49)</td>\n",
       "    </tr>\n",
       "    <tr>\n",
       "      <th>thick</th>\n",
       "      <td>-0.66</td>\n",
       "      <td>2.12</td>\n",
       "      <td>(-0.95, -0.38)</td>\n",
       "    </tr>\n",
       "    <tr>\n",
       "      <th>t1wcnt</th>\n",
       "      <td>-0.94</td>\n",
       "      <td>4.49</td>\n",
       "      <td>(-1.55, -0.34)</td>\n",
       "    </tr>\n",
       "    <tr>\n",
       "      <th>dtifa</th>\n",
       "      <td>0.65</td>\n",
       "      <td>2.61</td>\n",
       "      <td>(-0.22, 1.52)</td>\n",
       "    </tr>\n",
       "    <tr>\n",
       "      <th>dtimd</th>\n",
       "      <td>-0.71</td>\n",
       "      <td>2.06</td>\n",
       "      <td>(-1.39, -0.02)</td>\n",
       "    </tr>\n",
       "    <tr>\n",
       "      <th>dtivol</th>\n",
       "      <td>1.8</td>\n",
       "      <td>3.2</td>\n",
       "      <td>(0.73, 2.86)</td>\n",
       "    </tr>\n",
       "    <tr>\n",
       "      <th>rsirni</th>\n",
       "      <td>1.14</td>\n",
       "      <td>2.54</td>\n",
       "      <td>(0.49, 1.78)</td>\n",
       "    </tr>\n",
       "    <tr>\n",
       "      <th>rsirnd</th>\n",
       "      <td>0.28</td>\n",
       "      <td>2.89</td>\n",
       "      <td>(-0.47, 1.03)</td>\n",
       "    </tr>\n",
       "    <tr>\n",
       "      <th>var</th>\n",
       "      <td>1.41</td>\n",
       "      <td>25.76</td>\n",
       "      <td>(-1.06, 3.88)</td>\n",
       "    </tr>\n",
       "    <tr>\n",
       "      <th>c</th>\n",
       "      <td>0.13</td>\n",
       "      <td>39.41</td>\n",
       "      <td>(-8.08, 8.34)</td>\n",
       "    </tr>\n",
       "    <tr>\n",
       "      <th>cor</th>\n",
       "      <td>-1.53</td>\n",
       "      <td>48.27</td>\n",
       "      <td>(-7.58, 4.52)</td>\n",
       "    </tr>\n",
       "  </tbody>\n",
       "</table>\n",
       "</div>"
      ],
      "text/plain": [
       "        mean   sdev           95%CI\n",
       "vol    -0.69   3.69  (-1.16, -0.23)\n",
       "area    0.04   3.38   (-0.41, 0.49)\n",
       "thick  -0.66   2.12  (-0.95, -0.38)\n",
       "t1wcnt -0.94   4.49  (-1.55, -0.34)\n",
       "dtifa   0.65   2.61   (-0.22, 1.52)\n",
       "dtimd  -0.71   2.06  (-1.39, -0.02)\n",
       "dtivol   1.8    3.2    (0.73, 2.86)\n",
       "rsirni  1.14   2.54    (0.49, 1.78)\n",
       "rsirnd  0.28   2.89   (-0.47, 1.03)\n",
       "var     1.41  25.76   (-1.06, 3.88)\n",
       "c       0.13  39.41   (-8.08, 8.34)\n",
       "cor    -1.53  48.27   (-7.58, 4.52)"
      ]
     },
     "execution_count": 36,
     "metadata": {},
     "output_type": "execute_result"
    }
   ],
   "source": [
    "desc_summ"
   ]
  },
  {
   "cell_type": "code",
   "execution_count": 40,
   "id": "ef32bbf4",
   "metadata": {},
   "outputs": [
    {
     "name": "stderr",
     "output_type": "stream",
     "text": [
      "/var/folders/t5/4bz0680d45n5_5m30ny85m540000gp/T/ipykernel_28182/3962516015.py:1: FutureWarning: Dropping of nuisance columns in DataFrame reductions (with 'numeric_only=None') is deprecated; in a future version this will raise TypeError.  Select only valid columns before calling the reduction.\n",
      "  df.min()\n"
     ]
    },
    {
     "data": {
      "text/plain": [
       "imgincl_dmri_include.baseline_year_1_arm_1             0.0\n",
       "imgincl_dmri_include.2_year_follow_up_y_arm_1          0.0\n",
       "imgincl_rsfmri_include.baseline_year_1_arm_1           0.0\n",
       "imgincl_rsfmri_include.2_year_follow_up_y_arm_1        0.0\n",
       "imgincl_t1w_include.baseline_year_1_arm_1              0.0\n",
       "                                                      ... \n",
       "demo_comb_income_v2.2_year_follow_up_y_arm_1           NaN\n",
       "pds_p_ss_female_category_2.baseline_year_1_arm_1       1.0\n",
       "pds_p_ss_female_category_2.2_year_follow_up_y_arm_1    1.0\n",
       "pds_p_ss_male_category_2.baseline_year_1_arm_1         1.0\n",
       "pds_p_ss_male_category_2.2_year_follow_up_y_arm_1      1.0\n",
       "Length: 6139, dtype: object"
      ]
     },
     "execution_count": 40,
     "metadata": {},
     "output_type": "execute_result"
    }
   ],
   "source": [
    "df.min()"
   ]
  },
  {
   "cell_type": "code",
   "execution_count": null,
   "id": "2680df8c",
   "metadata": {},
   "outputs": [],
   "source": [
    "# let's visualize APD!\n",
    "destrieux = datasets.fetch_atlas_destrieux_2009()\n",
    "desikan = datasets.fetch_neurovault_ids(image_ids=(23262, ))\n",
    "subcort = datasets.fetch_atlas_harvard_oxford('sub-maxprob-thr50-2mm')"
   ]
  },
  {
   "cell_type": "code",
   "execution_count": null,
   "id": "5ace0288",
   "metadata": {},
   "outputs": [],
   "source": [
    "# list of measures to plot\n",
    "measures = {'cortical-thickness': 'smri_thick_cdk_*',\n",
    "            'cortical-area': 'smri_area_cdk_.*',\n",
    "            'cortical-volume': 'smri_vol_cdk_.*', \n",
    "            'subcortical-volume': 'smri_vol_scs_.*', \n",
    "            'subcortical-RND': 'dmri_rsirnd_scs_.*',\n",
    "            'subcortical-RNI': 'dmri_rsirni_scs_.*',\n",
    "            'tract-volume': 'dmri_dtivol_fiberat_.*', \n",
    "            'tract-FA': 'dmri_dtifa_fiberat_.*', \n",
    "            'tract-MD': 'dmri_dtimd_fiberat_.*', \n",
    "            'tract-RND': 'dmri_rsirnd_fib_.*',\n",
    "            'tract-RNI': 'dmri_rsirni_fib_.*'}\n",
    "vmax = 60\n",
    "cmap = 'viridis'\n",
    "\n",
    "conn_measures = {'cortical-network-connectivity': 'rsfmri_c_ngd_.*',\n",
    "            'subcortical-network-connectivity': 'rsfmri_cor_ngd_.*_scs_.*',}"
   ]
  },
  {
   "cell_type": "code",
   "execution_count": null,
   "id": "27eb57ba",
   "metadata": {},
   "outputs": [],
   "source": []
  },
  {
   "cell_type": "code",
   "execution_count": null,
   "id": "e1b9ce57",
   "metadata": {},
   "outputs": [],
   "source": [
    "for measure in measures:\n",
    "    print(measure)\n",
    "    meas_df = df.filter(regex=measures[measure], axis=0)\n",
    "    print(len(meas_df.index))\n",
    "    min_apr = meas_df.min()\n",
    "    max_apr = meas_df.max()\n",
    "    fig = plt.figure()\n",
    "    ax = fig.add_axes([0.05, 0.80, 0.9, 0.1])\n",
    "\n",
    "    cb = mpl.colorbar.ColorbarBase(ax, \n",
    "                                   orientation='horizontal', \n",
    "                                   cmap=cmap, \n",
    "                                   values=range(min_apr, max_apr))\n",
    "\n",
    "    plt.savefig(f'../figures/{measure}_{cmap}_{min_apr}-{max_apr}.png', bbox_inches='tight', dpi=400)\n",
    "    meas_vars = [i.split('.')[0] for i in meas_df.index]\n",
    "    atlas_fname = nifti_mapping.loc[meas_vars]['atlas_fname'].unique()[0]\n",
    "    print(atlas_fname)\n",
    "    atlas_nii = nib.load(atlas_fname)\n",
    "    atlas_arr = atlas_nii.get_fdata()\n",
    "    plotting_arr = np.zeros(atlas_arr.shape)\n",
    "    sig = 0\n",
    "    for i in meas_df.index:\n",
    "        if 'cdk_total' in i:\n",
    "            pass\n",
    "        else:\n",
    "            j = i.split('.')[0]\n",
    "            value = nifti_mapping.loc[j]['atlas_value']\n",
    "            #print(i, value)\n",
    "            if value is np.nan:\n",
    "                pass\n",
    "            else:\n",
    "                if var_df.at[i,(fligner_var, 'a<0.05')] == '**':\n",
    "                    sig += 1\n",
    "                    plotting_arr[np.where(atlas_arr == value)] = var_df.at[i,(fligner_var, 'stat')]\n",
    "                else:\n",
    "                    plotting_arr[np.where(atlas_arr == value)] = 0\n",
    "    print('plotting...', f'{sig} out of {len(meas_df.index)} heteroskedastic regions')\n",
    "    meas_nimg = nib.Nifti1Image(plotting_arr, atlas_nii.affine)\n",
    "    if 'subcortical' in measure:\n",
    "        grid_kw = dict(width_ratios=[3,1])\n",
    "        plt.figure(layout='tight')\n",
    "        fig,ax = plt.subplots(ncols=2, gridspec_kw=grid_kw, figsize=(24,4))\n",
    "        q = plotting.plot_stat_map(meas_nimg, display_mode='z',  threshold=1,\n",
    "                               cut_coords=[-20, -10, 0, 10], vmax=vmax, \n",
    "                               annotate=False, cmap=cmap, colorbar=False,\n",
    "                               symmetric_cbar=False, axes=ax[0])\n",
    "\n",
    "        ax[1].set_visible(False)\n",
    "        q.savefig(f'../figures/{measure}x{fligner}_fk_scs.png', dpi=400)\n",
    "    elif 'tract' in measure:\n",
    "        fibers = nifti_mapping.filter(regex=measures[measure], axis=0).index\n",
    "        var = fibers[0]\n",
    "        tract_fname = nifti_mapping.loc[var]['atlas_fname']\n",
    "        tract_nii = nib.load(tract_fname)\n",
    "        tract_arr = tract_nii.get_fdata()\n",
    "        #print(np.unique(tract_arr))\n",
    "        tract_arr *= var_df.at[f'{var}.change_score',(fligner_var, 'stat')]\n",
    "        all_tracts_arr = np.zeros(tract_arr.shape)\n",
    "        all_tracts_arr += tract_arr\n",
    "        for var in fibers[1:]:    \n",
    "            tract_fname = nifti_mapping.loc[var]['atlas_fname']\n",
    "            if type(tract_fname) is str:\n",
    "                try:\n",
    "                    tract_nii = nib.load(tract_fname)\n",
    "                    tract_arr = tract_nii.get_fdata()\n",
    "                    print(np.unique(tract_arr))\n",
    "                    if var_df.at[f'{var}.change_score',(fligner_var, 'a<0.05')] == '**':\n",
    "                        tract_arr *= var_df.at[f'{var}.change_score',(fligner_var, 'stat')]\n",
    "                    else:\n",
    "                        tract_arr *= 0\n",
    "                    all_tracts_arr += tract_arr\n",
    "                except Exception as e:\n",
    "                    pass\n",
    "            else:\n",
    "                pass\n",
    "        meas_nimg = nib.Nifti1Image(all_tracts_arr, tract_nii.affine)\n",
    "        plt.figure(layout='tight')\n",
    "        #fig,ax = plt.subplots(ncols=2, gridspec_kw=grid_kw, figsize=(24,4))\n",
    "        q = plotting.plot_anat(meas_nimg, display_mode='z',  threshold=1,\n",
    "                               cut_coords=[35,50,65,85], \n",
    "                               black_bg=False,\n",
    "                                   vmax=vmax, \n",
    "                                   annotate=False, cmap=cmap, colorbar=False,\n",
    "                                   #axes=ax[0]\n",
    "                              )\n",
    "        #ax[1].set_visible(False)\n",
    "        q.savefig(f'../figures/{measure}x{fligner}_fk_tract.png', dpi=400)\n",
    "    elif 'cortical' in measure:\n",
    "        texture_l = surface.vol_to_surf(meas_nimg, fsaverage.pial_left, interpolation='nearest')\n",
    "        texture_r = surface.vol_to_surf(meas_nimg, fsaverage.pial_right, interpolation='nearest')\n",
    "\n",
    "        figure = plotting.plot_surf_stat_map(fsaverage.pial_left, texture_l, symmetric_cbar=False, threshold=1,\n",
    "                                             cmap=cmap, view='medial', colorbar=False, vmax=vmax)\n",
    "        #plt.tight_layout(pad=2)\n",
    "        figure.savefig(f'../figures/{measure}x{fligner}_fk_leftmed.png', dpi=400)\n",
    "        figure = plotting.plot_surf_stat_map(fsaverage.pial_left, texture_l, symmetric_cbar=False, threshold=1,\n",
    "                                             cmap=cmap, view='lateral', colorbar=False, vmax=vmax)\n",
    "        #plt.tight_layout(pad=2)\n",
    "        figure.savefig(f'../figures/{measure}x{fligner}_fk_leftlat.png', dpi=400)\n",
    "        figure = plotting.plot_surf_stat_map(fsaverage.pial_right, texture_r, symmetric_cbar=False, threshold=1,\n",
    "                                             cmap=cmap, view='medial', colorbar=False, vmax=vmax)\n",
    "        #plt.tight_layout(pad=2)\n",
    "        figure.savefig(f'../figures/{measure}x{fligner}_fk_rightlat.png', dpi=400)\n",
    "        figure = plotting.plot_surf_stat_map(fsaverage.pial_right, texture_r, symmetric_cbar=False, threshold=1,\n",
    "                                             cmap=cmap, view='lateral', colorbar=False, vmax=vmax)\n",
    "        #plt.tight_layout(pad=2)\n",
    "        figure.savefig(f'../figures/{measure}x{fligner}_fk_rightmed.png', dpi=400)"
   ]
  }
 ],
 "metadata": {
  "kernelspec": {
   "display_name": "Python 3 (ipykernel)",
   "language": "python",
   "name": "python3"
  },
  "language_info": {
   "codemirror_mode": {
    "name": "ipython",
    "version": 3
   },
   "file_extension": ".py",
   "mimetype": "text/x-python",
   "name": "python",
   "nbconvert_exporter": "python",
   "pygments_lexer": "ipython3",
   "version": "3.8.9"
  }
 },
 "nbformat": 4,
 "nbformat_minor": 5
}
