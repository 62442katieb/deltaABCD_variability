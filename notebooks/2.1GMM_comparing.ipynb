{
 "cells": [
  {
   "cell_type": "code",
   "execution_count": 1,
   "id": "3300b1d6",
   "metadata": {},
   "outputs": [],
   "source": [
    "import numpy as np\n",
    "import pandas as pd\n",
    "import seaborn as sns\n",
    "import matplotlib.pyplot as plt\n",
    "\n",
    "from os.path import join, exists"
   ]
  },
  {
   "cell_type": "code",
   "execution_count": 2,
   "id": "49f79ed5",
   "metadata": {},
   "outputs": [],
   "source": [
    "sns.set(style='whitegrid', context='talk')\n",
    "plt.rcParams[\"font.family\"] = \"monospace\"\n",
    "plt.rcParams['font.monospace'] = 'Courier New'\n",
    "\n",
    "PROJ_DIR = \"/Volumes/projects_herting/LABDOCS/Personnel/Katie/deltaABCD_clustering/\"\n",
    "DATA_DIR = \"data/\"\n",
    "FIGS_DIR = \"figures/\"\n",
    "OUTP_DIR = \"output/\""
   ]
  },
  {
   "cell_type": "code",
   "execution_count": 3,
   "id": "5b9fbbcf",
   "metadata": {},
   "outputs": [],
   "source": [
    "atlases = ['desikankillany', \n",
    "           'destrieux+gordon']"
   ]
  },
  {
   "cell_type": "code",
   "execution_count": 19,
   "id": "9153d5a0",
   "metadata": {},
   "outputs": [],
   "source": [
    "atlas = atlases[0]\n",
    "results = pd.read_csv(join(PROJ_DIR, \n",
    "                    OUTP_DIR, \n",
    "                    f'bgmm_{atlas}_cv-results.csv'), \n",
    "                      index_col=0, \n",
    "                      header=0)\n",
    "best_params = pd.read_csv(join(PROJ_DIR,\n",
    "                        OUTP_DIR,\n",
    "                        f'bgmm_{atlas}_best-model.csv'), \n",
    "                          index_col=0, \n",
    "                          header=0)"
   ]
  },
  {
   "cell_type": "code",
   "execution_count": 38,
   "id": "f9e891c1",
   "metadata": {},
   "outputs": [],
   "source": [
    "long_results = results.melt(value_vars=['split1_train_score', 'split2_train_score',\n",
    "                         'split3_train_score', 'split4_train_score', \n",
    "                         'split5_train_score', 'split6_train_score', \n",
    "                         'split7_train_score', 'split8_train_score', \n",
    "                         'split9_train_score', 'split0_train_score'], \n",
    "             id_vars=['param_weight_concentration_prior_type', \n",
    "                      'param_n_components', \n",
    "                      'param_weight_concentration_prior'])"
   ]
  },
  {
   "cell_type": "code",
   "execution_count": 39,
   "id": "6d5e55c4",
   "metadata": {},
   "outputs": [
    {
     "data": {
      "text/html": [
       "<div>\n",
       "<style scoped>\n",
       "    .dataframe tbody tr th:only-of-type {\n",
       "        vertical-align: middle;\n",
       "    }\n",
       "\n",
       "    .dataframe tbody tr th {\n",
       "        vertical-align: top;\n",
       "    }\n",
       "\n",
       "    .dataframe thead th {\n",
       "        text-align: right;\n",
       "    }\n",
       "</style>\n",
       "<table border=\"1\" class=\"dataframe\">\n",
       "  <thead>\n",
       "    <tr style=\"text-align: right;\">\n",
       "      <th></th>\n",
       "      <th>param_weight_concentration_prior_type</th>\n",
       "      <th>param_n_components</th>\n",
       "      <th>param_weight_concentration_prior</th>\n",
       "      <th>variable</th>\n",
       "      <th>value</th>\n",
       "    </tr>\n",
       "  </thead>\n",
       "  <tbody>\n",
       "    <tr>\n",
       "      <th>0</th>\n",
       "      <td>dirichlet_process</td>\n",
       "      <td>2</td>\n",
       "      <td>0.1</td>\n",
       "      <td>split1_train_score</td>\n",
       "      <td>4976.063203</td>\n",
       "    </tr>\n",
       "    <tr>\n",
       "      <th>1</th>\n",
       "      <td>dirichlet_distribution</td>\n",
       "      <td>2</td>\n",
       "      <td>0.1</td>\n",
       "      <td>split1_train_score</td>\n",
       "      <td>4972.493439</td>\n",
       "    </tr>\n",
       "    <tr>\n",
       "      <th>2</th>\n",
       "      <td>dirichlet_process</td>\n",
       "      <td>2</td>\n",
       "      <td>1.0</td>\n",
       "      <td>split1_train_score</td>\n",
       "      <td>4748.833843</td>\n",
       "    </tr>\n",
       "    <tr>\n",
       "      <th>3</th>\n",
       "      <td>dirichlet_distribution</td>\n",
       "      <td>2</td>\n",
       "      <td>1.0</td>\n",
       "      <td>split1_train_score</td>\n",
       "      <td>4956.176259</td>\n",
       "    </tr>\n",
       "    <tr>\n",
       "      <th>4</th>\n",
       "      <td>dirichlet_process</td>\n",
       "      <td>2</td>\n",
       "      <td>10.0</td>\n",
       "      <td>split1_train_score</td>\n",
       "      <td>4972.295080</td>\n",
       "    </tr>\n",
       "    <tr>\n",
       "      <th>...</th>\n",
       "      <td>...</td>\n",
       "      <td>...</td>\n",
       "      <td>...</td>\n",
       "      <td>...</td>\n",
       "      <td>...</td>\n",
       "    </tr>\n",
       "    <tr>\n",
       "      <th>1885</th>\n",
       "      <td>dirichlet_process</td>\n",
       "      <td>2</td>\n",
       "      <td>100000.0</td>\n",
       "      <td>split0_train_score</td>\n",
       "      <td>-1663.917567</td>\n",
       "    </tr>\n",
       "    <tr>\n",
       "      <th>1886</th>\n",
       "      <td>dirichlet_distribution</td>\n",
       "      <td>2</td>\n",
       "      <td>100.0</td>\n",
       "      <td>split0_train_score</td>\n",
       "      <td>-2334.750166</td>\n",
       "    </tr>\n",
       "    <tr>\n",
       "      <th>1887</th>\n",
       "      <td>dirichlet_process</td>\n",
       "      <td>8</td>\n",
       "      <td>1.0</td>\n",
       "      <td>split0_train_score</td>\n",
       "      <td>-742.673144</td>\n",
       "    </tr>\n",
       "    <tr>\n",
       "      <th>1888</th>\n",
       "      <td>dirichlet_process</td>\n",
       "      <td>2</td>\n",
       "      <td>100000.0</td>\n",
       "      <td>split0_train_score</td>\n",
       "      <td>-2370.244463</td>\n",
       "    </tr>\n",
       "    <tr>\n",
       "      <th>1889</th>\n",
       "      <td>dirichlet_distribution</td>\n",
       "      <td>2</td>\n",
       "      <td>100.0</td>\n",
       "      <td>split0_train_score</td>\n",
       "      <td>-2366.755574</td>\n",
       "    </tr>\n",
       "  </tbody>\n",
       "</table>\n",
       "<p>1890 rows × 5 columns</p>\n",
       "</div>"
      ],
      "text/plain": [
       "     param_weight_concentration_prior_type  param_n_components  \\\n",
       "0                        dirichlet_process                   2   \n",
       "1                   dirichlet_distribution                   2   \n",
       "2                        dirichlet_process                   2   \n",
       "3                   dirichlet_distribution                   2   \n",
       "4                        dirichlet_process                   2   \n",
       "...                                    ...                 ...   \n",
       "1885                     dirichlet_process                   2   \n",
       "1886                dirichlet_distribution                   2   \n",
       "1887                     dirichlet_process                   8   \n",
       "1888                     dirichlet_process                   2   \n",
       "1889                dirichlet_distribution                   2   \n",
       "\n",
       "      param_weight_concentration_prior            variable        value  \n",
       "0                                  0.1  split1_train_score  4976.063203  \n",
       "1                                  0.1  split1_train_score  4972.493439  \n",
       "2                                  1.0  split1_train_score  4748.833843  \n",
       "3                                  1.0  split1_train_score  4956.176259  \n",
       "4                                 10.0  split1_train_score  4972.295080  \n",
       "...                                ...                 ...          ...  \n",
       "1885                          100000.0  split0_train_score -1663.917567  \n",
       "1886                             100.0  split0_train_score -2334.750166  \n",
       "1887                               1.0  split0_train_score  -742.673144  \n",
       "1888                          100000.0  split0_train_score -2370.244463  \n",
       "1889                             100.0  split0_train_score -2366.755574  \n",
       "\n",
       "[1890 rows x 5 columns]"
      ]
     },
     "execution_count": 39,
     "metadata": {},
     "output_type": "execute_result"
    }
   ],
   "source": [
    "long_results"
   ]
  },
  {
   "cell_type": "code",
   "execution_count": 42,
   "id": "2297f7bf",
   "metadata": {},
   "outputs": [
    {
     "data": {
      "text/plain": [
       "<AxesSubplot:xlabel='param_n_components', ylabel='value'>"
      ]
     },
     "execution_count": 42,
     "metadata": {},
     "output_type": "execute_result"
    },
    {
     "data": {
      "image/png": "[encoded data removed]",
      "text/plain": [
       "<Figure size 720x360 with 1 Axes>"
      ]
     },
     "metadata": {},
     "output_type": "display_data"
    }
   ],
   "source": [
    "fig,ax = plt.subplots(figsize=(10,5))\n",
    "#sns.stripplot(x='n_components', \n",
    "#                y='test_score', \n",
    "#                data=best_params.T, \n",
    "#                ax=ax\n",
    "#               )\n",
    "sns.stripplot(x='param_n_components', \n",
    "              y='value', \n",
    "              data=long_results, \n",
    "              hue='param_weight_concentration_prior_type',\n",
    "              ax=ax)\n"
   ]
  },
  {
   "cell_type": "code",
   "execution_count": 18,
   "id": "61495d1e",
   "metadata": {},
   "outputs": [
    {
     "data": {
      "text/plain": [
       "(-9.4, 197.4)"
      ]
     },
     "execution_count": 18,
     "metadata": {},
     "output_type": "execute_result"
    }
   ],
   "source": [
    "ax.get_ylim()"
   ]
  },
  {
   "cell_type": "code",
   "execution_count": null,
   "id": "a8791377",
   "metadata": {},
   "outputs": [],
   "source": [
    "for atlas in atlases:\n",
    "    results = pd.read_csv(join(PROJ_DIR, \n",
    "                        OUTP_DIR, \n",
    "                        f'bgmm_{atlas}_cv-results.csv'), index_col=0, header=0)\n",
    "    best_params = pd.read_csv(join(PROJ_DIR,\n",
    "                            OUTP_DIR,\n",
    "                            f'bgmm_{atlas}_best-model.csv'), index_col=0, header=0)"
   ]
  },
  {
   "cell_type": "code",
   "execution_count": null,
   "id": "7fe3d8e3",
   "metadata": {},
   "outputs": [],
   "source": []
  }
 ],
 "metadata": {
  "kernelspec": {
   "display_name": "Python 3 (ipykernel)",
   "language": "python",
   "name": "python3"
  },
  "language_info": {
   "codemirror_mode": {
    "name": "ipython",
    "version": 3
   },
   "file_extension": ".py",
   "mimetype": "text/x-python",
   "name": "python",
   "nbconvert_exporter": "python",
   "pygments_lexer": "ipython3",
   "version": "3.8.9"
  }
 },
 "nbformat": 4,
 "nbformat_minor": 5
}
