{
 "cells": [
  {
   "cell_type": "code",
   "execution_count": 1,
   "metadata": {
    "ExecuteTime": {
     "end_time": "2021-10-28T18:43:56.058699Z",
     "start_time": "2021-10-28T18:43:39.401392Z"
    }
   },
   "outputs": [],
   "source": [
    "import sys\n",
    "import pandas as pd\n",
    "from os.path import join, exists"
   ]
  },
  {
   "cell_type": "code",
   "execution_count": 2,
   "metadata": {
    "ExecuteTime": {
     "end_time": "2021-10-28T18:43:56.084578Z",
     "start_time": "2021-10-28T18:43:56.067698Z"
    }
   },
   "outputs": [],
   "source": [
    "#read in csvs of interest one a time so you don't crash your computer\n",
    "#grab the vars you want, then clear the rest and read in the next\n",
    "#make one \"missing\" column for each modality if, like RSI, a subj is missing \n",
    "#on all vals if missing on one. double check this.\n",
    "#also include qa column per modality and make missingness chart before/after data censoring\n",
    "\n",
    "delta_dir = '/Volumes/projects_herting/LABDOCS/PROJECTS/ABCD/Data/pre_release4.0/Change_Scores/'\n",
    "nonimg_dir = '/Volumes/projects_herting/LABDOCS/PROJECTS/ABCD/Data/pre_release4.0/tabulated/non_img'\n",
    "img_dir = '/Volumes/projects_herting/LABDOCS/PROJECTS/ABCD/Data/pre_release4.0/tabulated/img/'\n",
    "\n",
    "rsi_sc_path = join(delta_dir, 'RSI_gm/Subcortical_GM/rsi_subct_gm_changescores_bl_tp2.csv')\n",
    "rsi_c_path = 'RSI_gm/Cortical_GM/'\n",
    "rsi_wm_path = 'dMRI/RSI_wm/'\n",
    "dti_wm_path = join(delta_dir, 'dMRI/DTI_wm/dmridtiwm_changescores_bl_tp2.csv')\n",
    "rsfc_path = join(delta_dir, 'rsFMRI/rsfmri_changescores_bl_tp2.csv')\n",
    "smri_path = join(delta_dir, 'sMRI/smri_changescores_bl_tp2.csv')\n",
    "nihtb_path = join(delta_dir, 'NIH_Toolbox/nihtbx_changescores_bl_tp2.csv')\n",
    "\n",
    "#hormones_path = join(nonimg_dir, 'abcd_hsss01.csv')\n",
    "puberty_path = join(nonimg_dir, 'abcd_ssphp01.csv')\n",
    "demo_path = join(nonimg_dir, 'pdem02.csv')\n",
    "mri_path = join(img_dir, 'abcd_mri01.csv')\n",
    "family_path = join(nonimg_dir, 'acspsw03.csv')\n",
    "site_path = join(nonimg_dir, 'abcd_lt01.csv')"
   ]
  },
  {
   "cell_type": "code",
   "execution_count": 3,
   "metadata": {
    "ExecuteTime": {
     "end_time": "2021-10-28T18:43:56.115421Z",
     "start_time": "2021-10-28T18:43:56.090377Z"
    }
   },
   "outputs": [],
   "source": [
    "# column names to retain in the mega dataset\n",
    "rsi_sc = []\n",
    "rsi_c = [] \n",
    "rsi_wm = [] \n",
    "dti_wm = ['imgincl_dmri_include.baseline_year_1_arm_1', 'imgincl_dmri_include.2_year_follow_up_y_arm_1'] \n",
    "rsfc = ['imgincl_rsfmri_include.baseline_year_1_arm_1', 'imgincl_rsfmri_include.2_year_follow_up_y_arm_1',\n",
    "         'rsfmri_c_ngd_meanmotion.baseline_year_1_arm_1', 'rsfmri_c_ngd_meanmotion.2_year_follow_up_y_arm_1', \n",
    "         'rsfmri_c_ngd_ntpoints.baseline_year_1_arm_1', 'rsfmri_c_ngd_ntpoints.2_year_follow_up_y_arm_1'] \n",
    "smri = ['imgincl_t1w_include.baseline_year_1_arm_1', 'imgincl_t1w_include.2_year_follow_up_y_arm_1',\n",
    "        'imgincl_t2w_include.baseline_year_1_arm_1', 'imgincl_t2w_include.2_year_follow_up_y_arm_1', \n",
    "        'interview_age.baseline_year_1_arm_1', 'interview_age.2_year_follow_up_y_arm_1'] \n",
    "nihtb = ['nihtbx_picvocab_uncorrected.change_score',\n",
    "         'nihtbx_flanker_uncorrected.change_score',\n",
    "         'nihtbx_list_uncorrected.change_score',\n",
    "         'nihtbx_cardsort_uncorrected.change_score',\n",
    "         'nihtbx_pattern_uncorrected.change_score',\n",
    "         'nihtbx_picture_uncorrected.change_score',\n",
    "         'nihtbx_reading_uncorrected.change_score']\n",
    "#hormones = ['hormone_scr_hse_mean', 'hormone_scr_ert_mean', 'hormone_scr_dhea_mean']\n",
    "puberty = ['sex', \n",
    "           'pds_p_ss_male_category', 'pds_p_ss_female_category', \n",
    "           'pds_p_ss_male_category_2', 'pds_p_ss_female_category_2']\n",
    "demographics = ['demo_prnt_ethn_v2', 'demo_prnt_marital_v2', 'demo_prnt_ed_v2', 'demo_comb_income_v2', \n",
    "                'demo_race_a_p___10', 'demo_race_a_p___11', 'demo_race_a_p___12', 'demo_race_a_p___13',\n",
    "                'demo_race_a_p___14', 'demo_race_a_p___15', 'demo_race_a_p___16', 'demo_race_a_p___17',\n",
    "                'demo_race_a_p___18', 'demo_race_a_p___19', 'demo_race_a_p___20', 'demo_race_a_p___21',\n",
    "                'demo_race_a_p___22', 'demo_race_a_p___23', 'demo_race_a_p___24', 'demo_race_a_p___25']\n",
    "mri = ['mri_info_manufacturer', 'interview_age']\n",
    "family = ['rel_family_id',\n",
    "          'rel_group_id',\n",
    "          'rel_ingroup_order',\n",
    "          'rel_relationship']\n",
    "site = ['site_id_l']\n",
    "\n",
    "# building a dictionary of column names\n",
    "variables = {rsi_sc_path: rsi_sc,\n",
    "             rsi_c_path: rsi_c,\n",
    "             rsi_wm_path: rsi_wm,\n",
    "             dti_wm_path: dti_wm, \n",
    "             rsfc_path: rsfc, \n",
    "             smri_path: smri, \n",
    "             nihtb_path: nihtb,\n",
    "             #hormones_path: hormones,\n",
    "             #puberty_path: puberty,\n",
    "             demo_path: demographics,\n",
    "             #mri_path: mri\n",
    "             family_path: family,\n",
    "             #site_path: site\n",
    "            }\n",
    "\n",
    "# the regular expressions for parsing each change score data structure\n",
    "regex = {rsi_sc_path: 'dmri_(rsin0_|rsind_).*(change_score|baseline.*)', \n",
    "         rsi_c_path: 'dmri_(rsin0_|rsind_).*(change_score|baseline.*)', \n",
    "         rsi_wm_path: 'dmri_(rsin0_|rsind_).*(change_score|baseline.*)', \n",
    "         dti_wm_path: 'dmri_dti(fa|md).*(change_score|baseline.*)', \n",
    "         rsfc_path: 'rsfmri_(var|cor).*(change_score|baseline.*)', \n",
    "         smri_path: 'smri_(thick|area|t1wcnt).*(change_score|baseline.*)', \n",
    "         #nihtb_path: 'nihtbx_.*uncorrected.change_score'\n",
    "        }"
   ]
  },
  {
   "cell_type": "code",
   "execution_count": 4,
   "metadata": {
    "ExecuteTime": {
     "end_time": "2021-10-28T18:43:59.593282Z",
     "start_time": "2021-10-28T18:43:56.121624Z"
    },
    "scrolled": false
   },
   "outputs": [
    {
     "name": "stdout",
     "output_type": "stream",
     "text": [
      "/Volumes/projects_herting/LABDOCS/PROJECTS/ABCD/Data/pre_release4.0/Change_Scores/RSI_gm/Subcortical_GM/rsi_subct_gm_changescores_bl_tp2.csv\n",
      "reading...\n",
      "regexing...\n",
      "RSI_gm/Cortical_GM/\n",
      "path does not exist\n",
      "dMRI/RSI_wm/\n",
      "path does not exist\n",
      "/Volumes/projects_herting/LABDOCS/PROJECTS/ABCD/Data/pre_release4.0/Change_Scores/dMRI/DTI_wm/dmridtiwm_changescores_bl_tp2.csv\n",
      "reading...\n",
      "regexing...\n",
      "/Volumes/projects_herting/LABDOCS/PROJECTS/ABCD/Data/pre_release4.0/Change_Scores/rsFMRI/rsfmri_changescores_bl_tp2.csv\n",
      "reading...\n",
      "regexing...\n",
      "/Volumes/projects_herting/LABDOCS/PROJECTS/ABCD/Data/pre_release4.0/Change_Scores/sMRI/smri_changescores_bl_tp2.csv\n",
      "reading...\n",
      "regexing...\n",
      "done!\n"
     ]
    }
   ],
   "source": [
    "# using regex grab column names for all imaging and change score variables\n",
    "for key in regex.keys():\n",
    "    print(key)\n",
    "    if exists(key):\n",
    "        print('reading...')\n",
    "        df = pd.read_csv(key, index_col='subjectkey', header=0, nrows=3)\n",
    "        print('regexing...')\n",
    "        small = df.filter(regex=regex[key], axis=1)\n",
    "        variables[key] += list(small.columns)\n",
    "    else:\n",
    "        print('path does not exist')\n",
    "print('done!')"
   ]
  },
  {
   "cell_type": "code",
   "execution_count": 5,
   "metadata": {
    "ExecuteTime": {
     "end_time": "2021-10-28T18:56:51.620330Z",
     "start_time": "2021-10-28T18:43:59.597757Z"
    },
    "scrolled": false
   },
   "outputs": [
    {
     "name": "stdout",
     "output_type": "stream",
     "text": [
      "/Volumes/projects_herting/LABDOCS/PROJECTS/ABCD/Data/pre_release4.0/Change_Scores/RSI_gm/Subcortical_GM/rsi_subct_gm_changescores_bl_tp2.csv\n",
      "\tAll 68 variables added!\n",
      "RSI_gm/Cortical_GM/\n",
      "\tDoes not exist.\n",
      "\tAll 0 variables added!\n",
      "dMRI/RSI_wm/\n",
      "\tDoes not exist.\n",
      "\tAll 0 variables added!\n",
      "/Volumes/projects_herting/LABDOCS/PROJECTS/ABCD/Data/pre_release4.0/Change_Scores/dMRI/DTI_wm/dmridtiwm_changescores_bl_tp2.csv\n",
      "\tAll 858 variables added!\n",
      "/Volumes/projects_herting/LABDOCS/PROJECTS/ABCD/Data/pre_release4.0/Change_Scores/rsFMRI/rsfmri_changescores_bl_tp2.csv\n",
      "\tAll 1428 variables added!\n",
      "/Volumes/projects_herting/LABDOCS/PROJECTS/ABCD/Data/pre_release4.0/Change_Scores/sMRI/smri_changescores_bl_tp2.csv\n",
      "\tAll 648 variables added!\n",
      "/Volumes/projects_herting/LABDOCS/PROJECTS/ABCD/Data/pre_release4.0/Change_Scores/NIH_Toolbox/nihtbx_changescores_bl_tp2.csv\n",
      "\tAll 7 variables added!\n",
      "/Volumes/projects_herting/LABDOCS/PROJECTS/ABCD/Data/pre_release4.0/tabulated/non_img/pdem02.csv\n",
      "\tAll 20 variables added!\n",
      "/Volumes/projects_herting/LABDOCS/PROJECTS/ABCD/Data/pre_release4.0/tabulated/non_img/acspsw03.csv\n",
      "\tAll 4 variables added!\n"
     ]
    }
   ],
   "source": [
    "#build the mega_df now\n",
    "df = pd.DataFrame()\n",
    "for key in variables.keys():\n",
    "    print(key)\n",
    "    old_columns = len(df.columns)\n",
    "    if exists(key):\n",
    "        temp_df = pd.read_csv(key, index_col='subjectkey', header=0)\n",
    "        if 'acspsw03' in key:\n",
    "            temp_df = temp_df[temp_df['eventname'] == 'baseline_year_1_arm_1']\n",
    "        elif 'abcd_ssphp01' in key:\n",
    "            temp_df = temp_df[temp_df['eventname'] == 'baseline_year_1_arm_1']\n",
    "        elif 'abcd_lt01' in key:\n",
    "            temp_df = temp_df[temp_df['eventname'] == 'baseline_year_1_arm_1']\n",
    "        else: \n",
    "            pass\n",
    "        df = pd.concat([df, temp_df.filter(variables[key])], axis=1, sort=True)\n",
    "    else:\n",
    "        print(f'\\tDoes not exist.')\n",
    "    new_columns = len(df.columns) - old_columns\n",
    "    if new_columns == len(variables[key]):\n",
    "        print(f'\\tAll {len(variables[key])} variables added!')\n",
    "    else:\n",
    "        print(f'\\t{len(variables[key]) - new_columns} variables missing from data structure.')\n",
    "    #if 0 < len(variables[key]) < 21:\n",
    "        #print(f'\\t{df.iloc[2][variables[key][0]]}')"
   ]
  },
  {
   "cell_type": "code",
   "execution_count": 6,
   "metadata": {
    "ExecuteTime": {
     "end_time": "2021-10-28T18:57:22.558220Z",
     "start_time": "2021-10-28T18:56:52.767137Z"
    }
   },
   "outputs": [],
   "source": [
    "mri_df = pd.read_csv(mri_path, index_col=['subjectkey', 'eventname'], header=0)\n",
    "site_df = pd.read_csv(site_path, index_col=['subjectkey', 'eventname'], header=0)\n",
    "puberty_df = pd.read_csv(puberty_path, index_col=['subjectkey', 'eventname'], header=0)\n",
    "#mri_df = mri_df.loc[mri_df.sort_values('eventname').index.duplicated(keep='first')]"
   ]
  },
  {
   "cell_type": "code",
   "execution_count": 7,
   "metadata": {
    "ExecuteTime": {
     "end_time": "2021-10-28T19:00:48.134211Z",
     "start_time": "2021-10-28T18:57:22.669811Z"
    }
   },
   "outputs": [],
   "source": [
    "skipped = 0\n",
    "for i in df.index:\n",
    "    try:\n",
    "        df.loc[i, 'mri_info_manufacturer.baseline_year_1_arm_1'] = mri_df.loc[(i, \n",
    "                                                                               'baseline_year_1_arm_1'), \n",
    "                                                                              'mri_info_manufacturer']\n",
    "        df.loc[i, 'mri_info_manufacturer.2_year_follow_up_y_arm_1'] = mri_df.loc[(i, \n",
    "                                                                                  '2_year_follow_up_y_arm_1'), \n",
    "                                                                                 'mri_info_manufacturer']\n",
    "        df.loc[i, 'site_id_l.baseline_year_1_arm_1'] = site_df.loc[(i, \n",
    "                                                                    'baseline_year_1_arm_1'), \n",
    "                                                                   'site_id_l']\n",
    "        df.loc[i, 'site_id_l.2_year_follow_up_y_arm_1'] = site_df.loc[(i, \n",
    "                                                                       '2_year_follow_up_y_arm_1'), \n",
    "                                                                      'site_id_l']\n",
    "        for var in puberty:\n",
    "            df.loc[i, f'{var}.baseline_year_1_arm_1'] = puberty_df.loc[(i, \n",
    "                                                                        'baseline_year_1_arm_1'),\n",
    "                                                                       var]\n",
    "            df.loc[i, f'{var}.2_year_follow_up_y_arm_1'] = puberty_df.loc[(i,\n",
    "                                                                           '2_year_follow_up_y_arm_1'),\n",
    "                                                                          var]\n",
    "        #print('{0} success'.format(i))\n",
    "    except:\n",
    "        skipped += 1"
   ]
  },
  {
   "cell_type": "code",
   "execution_count": 8,
   "metadata": {
    "ExecuteTime": {
     "end_time": "2021-10-28T19:00:50.449721Z",
     "start_time": "2021-10-28T19:00:48.137715Z"
    }
   },
   "outputs": [
    {
     "name": "stdout",
     "output_type": "stream",
     "text": [
      "Full dataframe is 0.295583124GB.\n"
     ]
    }
   ],
   "source": [
    "print(f'Full dataframe is {sys.getsizeof(df) / 1000000000}GB.')"
   ]
  },
  {
   "cell_type": "code",
   "execution_count": 9,
   "metadata": {
    "ExecuteTime": {
     "end_time": "2021-10-28T19:08:03.995332Z",
     "start_time": "2021-10-28T19:00:50.453425Z"
    }
   },
   "outputs": [],
   "source": [
    "df.to_csv('/Volumes/projects_herting/LABDOCS/Personnel/Katie/deltaABCD_clustering/data/data.csv')"
   ]
  },
  {
   "cell_type": "code",
   "execution_count": null,
   "metadata": {},
   "outputs": [],
   "source": []
  }
 ],
 "metadata": {
  "kernelspec": {
   "display_name": "Python 3",
   "language": "python",
   "name": "python3"
  },
  "language_info": {
   "codemirror_mode": {
    "name": "ipython",
    "version": 3
   },
   "file_extension": ".py",
   "mimetype": "text/x-python",
   "name": "python",
   "nbconvert_exporter": "python",
   "pygments_lexer": "ipython3",
   "version": "3.7.6"
  }
 },
 "nbformat": 4,
 "nbformat_minor": 4
}
