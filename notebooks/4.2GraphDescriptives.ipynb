{
 "cells": [
  {
   "cell_type": "code",
   "execution_count": null,
   "id": "4a387d8e",
   "metadata": {},
   "outputs": [],
   "source": [
    "import numpy as np\n",
    "import pandas as pd\n",
    "import seaborn as sns\n",
    "import matplotlib.pyplot as plt\n",
    "\n",
    "from os.path import join\n",
    "from scipy.stats import ttest_rel\n",
    "import warnings\n",
    "\n",
    "warnings.filterwarnings(\"ignore\")"
   ]
  },
  {
   "cell_type": "code",
   "execution_count": null,
   "id": "632c8a75",
   "metadata": {},
   "outputs": [],
   "source": [
    "PROJ_DIR = \"/Volumes/projects_herting/LABDOCS/Personnel/Katie/deltaABCD_clustering/\"\n",
    "DATA_DIR = \"data/\"\n",
    "FIGS_DIR = \"figures/\"\n",
    "OUTP_DIR = \"output/\""
   ]
  },
  {
   "cell_type": "code",
   "execution_count": null,
   "id": "bcdc7051",
   "metadata": {},
   "outputs": [],
   "source": [
    "df = pd.read_pickle(join(PROJ_DIR, DATA_DIR, \"data_qcd.pkl\"))\n",
    "# grap ppt ids for people who pass QC\n",
    "ppts = df.filter(regex=\"rsfmri_c_.*change_score\").dropna().index\n",
    "df = None\n",
    "# we need ids for the vectorized upper triangle!\n",
    "network_names = ['dt', 'ca', 'smh', 'dla', 'ad', 'smm', 'sa', 'fo', 'vs', 'cgc', 'vta', 'rspltp']"
   ]
  },
  {
   "cell_type": "code",
   "execution_count": null,
   "id": "b03fdf34",
   "metadata": {},
   "outputs": [],
   "source": [
    "#reading in the dataframes for each type of change score\n",
    "sign_change = pd.read_pickle(join(PROJ_DIR, DATA_DIR, 'delta_rsFC-sign_changes.pkl'))\n",
    "graph_df = pd.read_pickle(join(PROJ_DIR, OUTP_DIR, 'delta_rsFC-graph_measures-global.pkl'))\n",
    "local_df = pd.read_pickle(join(PROJ_DIR, OUTP_DIR, 'delta_rsFC-graph_measures-local.pkl'))"
   ]
  },
  {
   "cell_type": "code",
   "execution_count": null,
   "id": "b1e6590a",
   "metadata": {},
   "outputs": [],
   "source": [
    "# I'm just interested in ppts who pass the quality control process\n",
    "quality_ppts = list(set(ppts) & set(graph_df.index))\n",
    "\n",
    "graph_df = graph_df.loc[quality_ppts]\n",
    "local_df = local_df.loc[quality_ppts]\n",
    "\n",
    "# graph_df.head()"
   ]
  },
  {
   "cell_type": "code",
   "execution_count": null,
   "id": "4631601c",
   "metadata": {},
   "outputs": [],
   "source": [
    "############### global measures ###################\n",
    "# one per person per timepoint\n",
    "# in graph_df\n",
    "# measures are 'modularity' and 'global_efficiency'\n",
    "\n",
    "# calculate descriptives for baseline and 2-year follow-up using .describe()"
   ]
  },
  {
   "cell_type": "code",
   "execution_count": null,
   "id": "12c06cf3",
   "metadata": {},
   "outputs": [],
   "source": [
    "# global efficiency descriptives\n",
    "graph_descr = pd.DataFrame()\n",
    "graph_df_descr = graph_df.describe()\n",
    "descriptives = pd.concat([graph_descr, graph_df_descr], axis=1)\n",
    "descriptives.head()"
   ]
  },
  {
   "cell_type": "code",
   "execution_count": null,
   "id": "34ab7bb0",
   "metadata": {},
   "outputs": [],
   "source": [
    "descriptives.to_csv(join(PROJ_DIR, OUTP_DIR,'graph_df_descr.csv'))"
   ]
  },
  {
   "cell_type": "code",
   "execution_count": null,
   "id": "99df983b",
   "metadata": {},
   "outputs": [],
   "source": [
    "# modularity descriptives\n",
    "local_descr = pd.DataFrame()\n",
    "local_df_descr = local_df.describe()\n",
    "descriptive = pd.concat([local_descr, local_df_descr], axis=1)\n",
    "descriptive.head()"
   ]
  },
  {
   "cell_type": "code",
   "execution_count": null,
   "id": "b267aabe",
   "metadata": {},
   "outputs": [],
   "source": [
    "descriptive.to_csv(join(PROJ_DIR, OUTP_DIR,'local_df_descr.csv'))"
   ]
  },
  {
   "cell_type": "code",
   "execution_count": null,
   "id": "64401d63",
   "metadata": {},
   "outputs": [],
   "source": [
    "# now let's do a paired t-test to see if they increase or decrease\n",
    "\n",
    "efficiency = graph_df.swaplevel(axis=1)['global_efficiency']\n",
    "efficiency = efficiency.dropna()\n",
    "#print(efficiency.describe())"
   ]
  },
  {
   "cell_type": "code",
   "execution_count": null,
   "id": "058f949f",
   "metadata": {},
   "outputs": [],
   "source": [
    "change_eff = ttest_rel(efficiency['2_year_follow_up_y_arm_1'], efficiency['baseline_year_1_arm_1'])\n",
    "# save out the ttest results (t, p) and the number of participants included in the test\n",
    "# can find number of participants via len(efficiency.index)\n",
    "num_ppts = len(efficiency.dropna().index)\n",
    "print(num_ppts)"
   ]
  },
  {
   "cell_type": "code",
   "execution_count": null,
   "id": "99a26362",
   "metadata": {},
   "outputs": [],
   "source": [
    "ttest = {\n",
    "    't' : change_eff.statistic ,\n",
    "    'p' : change_eff.pvalue,\n",
    "    'num_ppts' : change_eff.df\n",
    "}\n",
    "ttest_change_eff = pd.DataFrame(ttest, index=[0])\n",
    "print(ttest_change_eff)"
   ]
  },
  {
   "cell_type": "code",
   "execution_count": null,
   "id": "fa62f586",
   "metadata": {},
   "outputs": [],
   "source": [
    "ttest_change_eff.to_csv(join(PROJ_DIR, OUTP_DIR,'ttest_change_eff.csv'))"
   ]
  },
  {
   "cell_type": "code",
   "execution_count": null,
   "id": "f4673588",
   "metadata": {},
   "outputs": [],
   "source": [
    "# now do the same for modularity\n",
    "\n",
    "modularity = graph_df.swaplevel(axis=1)['modularity']\n",
    "modularity = modularity.dropna()\n",
    "# print(modularity.describe())\n",
    "\n",
    "change_mod = ttest_rel(modularity['2_year_follow_up_y_arm_1'], modularity['baseline_year_1_arm_1'])\n",
    "# save out the ttest results (t, p) and the number of participants included in the test\n",
    "# can find number of participants via len(efficiency.index)\n",
    "num_ppts = len(modularity.index)\n",
    "# print(change_mod)\n",
    "ttest = {\n",
    "    't' : change_mod.statistic,\n",
    "    'p' : change_mod.pvalue,\n",
    "    'num_ppts' : change_mod.df\n",
    "}\n",
    "ttest_change_mod = pd.DataFrame(ttest, index=[0])\n",
    "#print(ttest_change_eff)\n",
    "\n",
    "# and save out the results (however you like)\n",
    "\n",
    "ttest_change_mod.to_csv(join(PROJ_DIR, OUTP_DIR,'ttest_change_mod.csv'))"
   ]
  },
  {
   "cell_type": "code",
   "execution_count": null,
   "id": "a740e774",
   "metadata": {},
   "outputs": [],
   "source": [
    "############# local measures ###################\n",
    "# one per brain network per person per timepoint\n",
    "# in local_df\n",
    "# measures are 'clust_coeff' and 'btwn_cent'\n",
    "local_df = local_df.dropna(how='all')"
   ]
  },
  {
   "cell_type": "code",
   "execution_count": null,
   "id": "8ee8704a",
   "metadata": {},
   "outputs": [],
   "source": [
    "base_local = local_df.swaplevel(axis=0).loc['baseline_year_1_arm_1']\n",
    "y2fu_local = local_df.swaplevel(axis=0).loc['2_year_follow_up_y_arm_1']"
   ]
  },
  {
   "cell_type": "code",
   "execution_count": null,
   "id": "076dbb67",
   "metadata": {},
   "outputs": [],
   "source": [
    "# use .describe() to get descriptives for each local measure and each network\n",
    "# separately for baseline and 2-year follow-up"
   ]
  },
  {
   "cell_type": "code",
   "execution_count": null,
   "id": "850422af",
   "metadata": {},
   "outputs": [],
   "source": [
    "# baseline local descriptives\n",
    "base_local_descr = pd.DataFrame()\n",
    "base_descr = base_local.describe()\n",
    "descriptives = pd.concat([base_local_descr, base_descr], axis=1)\n",
    "descriptives.head()"
   ]
  },
  {
   "cell_type": "code",
   "execution_count": null,
   "id": "8067ff08",
   "metadata": {},
   "outputs": [],
   "source": [
    "descriptives.to_csv(join(PROJ_DIR, OUTP_DIR,'base_local_descr.csv'))"
   ]
  },
  {
   "cell_type": "code",
   "execution_count": null,
   "id": "ae1f0606",
   "metadata": {},
   "outputs": [],
   "source": [
    "# # y2fu local descriptives\n",
    "y2fu_local_descr = pd.DataFrame()\n",
    "y2fu_descr = y2fu_local.describe()\n",
    "descriptives = pd.concat([y2fu_local_descr, y2fu_descr], axis=1)\n",
    "descriptives.head()"
   ]
  },
  {
   "cell_type": "code",
   "execution_count": null,
   "id": "3201bb90",
   "metadata": {},
   "outputs": [],
   "source": [
    "descriptives.to_csv(join(PROJ_DIR, OUTP_DIR,'y2fu_local_descr.csv'))"
   ]
  },
  {
   "cell_type": "code",
   "execution_count": null,
   "id": "cccb6752",
   "metadata": {},
   "outputs": [],
   "source": [
    "# now we'll assess change, again\n",
    "# here's how you'd do it for one network:\n",
    "# it's probably easiest to just make a temporary dataframe per network\n",
    "# per measure to make sure the participants are aligned"
   ]
  },
  {
   "cell_type": "code",
   "execution_count": null,
   "id": "4a8e66bc",
   "metadata": {},
   "outputs": [],
   "source": [
    "# Katie's example:\n",
    "\n",
    "# temp_cc_ad = pd.concat(\n",
    "#     [base_local['clust_coeff']['ad'].rename('base'),\n",
    "#       y2fu_local['clust_coeff']['ad'].rename('y2fu')], \n",
    "#       axis=1).dropna()\n"
   ]
  },
  {
   "cell_type": "code",
   "execution_count": null,
   "id": "7a8f26ec",
   "metadata": {},
   "outputs": [],
   "source": [
    "#CLUST_COEFF\n",
    "change = pd.DataFrame(dtype=float)\n",
    "ttest_df = pd.DataFrame(dtype=float)\n",
    "for ntwk in base_local['clust_coeff'].columns:\n",
    "    temp_base = base_local['clust_coeff'][ntwk]\n",
    "    temp_base.name = f'{ntwk}-base'\n",
    "    temp_base_df = pd.DataFrame(temp_base)\n",
    "    #print(temp_base_df)\n",
    "    temp_y2fu = y2fu_local['clust_coeff'][ntwk]\n",
    "    temp_y2fu.name = f'{ntwk}-y2fu'\n",
    "    temp_y2fu_df = pd.DataFrame(temp_y2fu)\n",
    "    change = pd.concat((change, temp_base_df, temp_y2fu_df), axis=1).dropna()\n",
    "    \n",
    "    \n",
    "    ttests = ttest_rel(change[f'{ntwk}-y2fu'], change[f'{ntwk}-base'])\n",
    "    print(ntwk, ttests)\n",
    "    ttest_df.at[ntwk, 't'] = ttests.statistic\n",
    "    ttest_df.at[ntwk, 'p'] = ttests.pvalue\n",
    "    ttest_df.at[ntwk, 'df'] = ttests.df\n",
    "print(ttest_df)"
   ]
  },
  {
   "cell_type": "code",
   "execution_count": null,
   "id": "3e35498f",
   "metadata": {},
   "outputs": [],
   "source": [
    "ttest_df.to_csv(join(PROJ_DIR, OUTP_DIR,'clust_coeff_ttest.csv'))\n",
    "change.to_csv(join(PROJ_DIR, OUTP_DIR,'clust_coeff_change.csv'))"
   ]
  },
  {
   "cell_type": "code",
   "execution_count": null,
   "id": "711ac415",
   "metadata": {},
   "outputs": [],
   "source": [
    "#BTWN_CENT\n",
    "change = pd.DataFrame(dtype=float)\n",
    "ttest_df = pd.DataFrame(dtype=float)\n",
    "for ntwk in base_local['btwn_cent'].columns:\n",
    "    temp_base = base_local['btwn_cent'][ntwk]\n",
    "    temp_base.name = f'{ntwk}-base'\n",
    "    temp_base_df = pd.DataFrame(temp_base)\n",
    "    #print(temp_base_df)\n",
    "    temp_y2fu = y2fu_local['btwn_cent'][ntwk]\n",
    "    temp_y2fu.name = f'{ntwk}-y2fu'\n",
    "    temp_y2fu_df = pd.DataFrame(temp_y2fu)\n",
    "    change = pd.concat((change, temp_base_df, temp_y2fu_df), axis=1).dropna()\n",
    "    \n",
    "    \n",
    "    ttests = ttest_rel(change[f'{ntwk}-y2fu'], change[f'{ntwk}-base'])\n",
    "    #print(ntwk, ttests)\n",
    "    ttest_df.at[ntwk, 't'] = ttests.statistic\n",
    "    ttest_df.at[ntwk, 'p'] = ttests.pvalue\n",
    "    ttest_df.at[ntwk, 'df'] = ttests.df\n",
    "print(change)"
   ]
  },
  {
   "cell_type": "code",
   "execution_count": null,
   "id": "d6939984",
   "metadata": {},
   "outputs": [],
   "source": [
    "ttest_df.to_csv(join(PROJ_DIR, OUTP_DIR,'btwn_cent_ttest.csv'))\n",
    "change.to_csv(join(PROJ_DIR, OUTP_DIR,'btwn_cent_change.csv'))"
   ]
  },
  {
   "cell_type": "code",
   "execution_count": null,
   "id": "8013bda7",
   "metadata": {},
   "outputs": [],
   "source": []
  },
  {
   "cell_type": "code",
   "execution_count": null,
   "id": "3f3fce48",
   "metadata": {},
   "outputs": [],
   "source": []
  }
 ],
 "metadata": {
  "kernelspec": {
   "display_name": "Python 3 (ipykernel)",
   "language": "python",
   "name": "python3"
  },
  "language_info": {
   "codemirror_mode": {
    "name": "ipython",
    "version": 3
   },
   "file_extension": ".py",
   "mimetype": "text/x-python",
   "name": "python",
   "nbconvert_exporter": "python",
   "pygments_lexer": "ipython3",
   "version": "3.10.9"
  }
 },
 "nbformat": 4,
 "nbformat_minor": 5
}
