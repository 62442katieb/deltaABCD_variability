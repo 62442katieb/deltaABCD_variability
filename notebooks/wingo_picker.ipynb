{
 "cells": [
  {
   "cell_type": "code",
   "execution_count": 3,
   "id": "bc2275ca",
   "metadata": {},
   "outputs": [],
   "source": [
    "import random"
   ]
  },
  {
   "cell_type": "code",
   "execution_count": 8,
   "id": "65c7196a",
   "metadata": {},
   "outputs": [],
   "source": [
    "items = ['People stand in front of the American flag (free space)',\n",
    " '“What’s next?”',\n",
    " #'Sam flirts with Ainsley',\n",
    " 'Homespun wisdom from Mrs. Landingham',\n",
    " 'Abbey storms in or out',\n",
    " 'Toby throws the bouncing ball',\n",
    " 'Donna fixes Josh’s jacket or tie',\n",
    " 'Sam is uncomfortable in front of a woman',\n",
    " 'Bartlet quotes the bible',\n",
    " '“MARGARET!!!”',\n",
    " '“DONNA!”',\n",
    " '“That’s a full lid.”',\n",
    " 'Swelling music indicating imminent cheese',\n",
    " 'Danny flirts with CJ',\n",
    " 'Bartlet puts his jacket on',\n",
    " 'Leo is witheringly sarcastic',\n",
    " 'Something is a \"thing\"',\n",
    " 'Menton of Bartlet’s Nobel Prize',\n",
    " 'Shot of the presidential seal',\n",
    " 'Walk and talk',\n",
    " 'Reference to Leo’s addictions',\n",
    " 'Toby could care less about something',\n",
    " '“... serve at the pleasure of the President.”',\n",
    " 'Revenant reference to the constitution',\n",
    " 'Reference to CJ’s wiles',\n",
    " 'Toby/Sam reference an ex wife',\n",
    " 'Sam et. al. go running to Toby’s office',\n",
    " 'Someone references “the Hill”',\n",
    " 'A bill is referred to by number',\n",
    " 'Someone is \"nicknamed\"',\n",
    " 'Sam makes a sports reference',\n",
    " 'CJ sings/lip-syncs/dances',\n",
    " 'Donna says something mid-western',\n",
    " 'Donna appears in formal wear',\n",
    " 'Donna already did what Josh asks',\n",
    " 'Someone uses or explains an overly technical name for a thing',\n",
    " 'Toby rolls his eyes',\n",
    " 'Someone bemoans an issue that’s still debated/ignored']"
   ]
  },
  {
   "cell_type": "code",
   "execution_count": 11,
   "id": "a983adf5",
   "metadata": {
    "scrolled": false
   },
   "outputs": [
    {
     "data": {
      "text/plain": [
       "['Sam makes a sports reference',\n",
       " 'Walk and talk',\n",
       " 'Danny flirts with CJ',\n",
       " '“That’s a full lid.”',\n",
       " '“MARGARET!!!”',\n",
       " 'Bartlet puts his jacket on',\n",
       " 'Toby rolls his eyes',\n",
       " 'Someone bemoans an issue that’s still debated/ignored',\n",
       " 'Something is a \"thing\"',\n",
       " 'Donna already did what Josh asks',\n",
       " 'Abbey storms in or out',\n",
       " 'Homespun wisdom from Mrs. Landingham',\n",
       " 'CJ sings/lip-syncs/dances',\n",
       " 'Menton of Bartlet’s Nobel Prize',\n",
       " 'Toby throws the bouncing ball',\n",
       " 'Sam is uncomfortable in front of a woman',\n",
       " '“What’s next?”',\n",
       " '“DONNA!”',\n",
       " 'People stand in front of the American flag (free space)',\n",
       " 'Reference to Leo’s addictions',\n",
       " 'Swelling music indicating imminent cheese',\n",
       " 'Someone references “the Hill”',\n",
       " 'Reference to CJ’s wiles',\n",
       " 'Donna says something mid-western']"
      ]
     },
     "execution_count": 11,
     "metadata": {},
     "output_type": "execute_result"
    }
   ],
   "source": [
    "random.sample(items, k=24)"
   ]
  },
  {
   "cell_type": "code",
   "execution_count": null,
   "id": "f2431045",
   "metadata": {},
   "outputs": [],
   "source": []
  }
 ],
 "metadata": {
  "kernelspec": {
   "display_name": "Python 3 (ipykernel)",
   "language": "python",
   "name": "python3"
  },
  "language_info": {
   "codemirror_mode": {
    "name": "ipython",
    "version": 3
   },
   "file_extension": ".py",
   "mimetype": "text/x-python",
   "name": "python",
   "nbconvert_exporter": "python",
   "pygments_lexer": "ipython3",
   "version": "3.8.9"
  }
 },
 "nbformat": 4,
 "nbformat_minor": 5
}
