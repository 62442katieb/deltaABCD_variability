{
 "cells": [
  {
   "cell_type": "code",
   "execution_count": null,
   "id": "de7de138",
   "metadata": {},
   "outputs": [],
   "source": [
    "#!/usr/bin/env python\n",
    "# coding: utf-8\n",
    "\n",
    "import numpy as np\n",
    "import pandas as pd\n",
    "import seaborn as sns\n",
    "\n",
    "from os.path import join\n",
    "import warnings\n",
    "\n",
    "import matplotlib.pyplot as plt\n",
    "\n",
    "warnings.filterwarnings(\"ignore\")"
   ]
  },
  {
   "cell_type": "code",
   "execution_count": null,
   "id": "9acec801",
   "metadata": {},
   "outputs": [],
   "source": [
    "PROJ_DIR = \"/Volumes/projects_herting/LABDOCS/Personnel/Katie/deltaABCD_clustering/\"\n",
    "DATA_DIR = \"data/\"\n",
    "FIGS_DIR = \"figures/\"\n",
    "OUTP_DIR = \"output/\""
   ]
  },
  {
   "cell_type": "code",
   "execution_count": null,
   "id": "c235bccb",
   "metadata": {},
   "outputs": [],
   "source": [
    "# df = pd.read_pickle(join(PROJ_DIR, DATA_DIR, \"data_qcd.pkl\"))\n",
    "\n",
    "rsfc = pd.read_csv(\n",
    "    \"/Volumes/projects_herting/LABDOCS/PROJECTS/ABCD/Data/release5.0/core/imaging/mri_y_rsfmr_cor_gp_gp.csv\",\n",
    "    header=0,\n",
    "    index_col=[0,1]\n",
    "    ).dropna()\n",
    "\n",
    "ppts = rsfc.filter(regex=\"rsfmri_c_ngd_.*change_score\").dropna().index\n",
    "\n",
    "tpts = [\n",
    "    'baseline_year_1_arm_1',\n",
    "    '2_year_follow_up_y_arm_1'\n",
    "]"
   ]
  },
  {
   "cell_type": "code",
   "execution_count": null,
   "id": "b95fae5f",
   "metadata": {},
   "outputs": [],
   "source": [
    "# make a list of all of the column names (resting-state FC estimates) that represent\n",
    "# within-network connections\n",
    "within_network = [i for i in rsfc.columns if i.split('_')[3] == i.split('_')[5]]\n",
    "within_network.remove('rsfmri_c_ngd_n_ngd_n')"
   ]
  },
  {
   "cell_type": "code",
   "execution_count": null,
   "id": "a9423def",
   "metadata": {},
   "outputs": [],
   "source": [
    "#base_df = rsfc.swaplevel(axis=0).loc['baseline_year_1_arm_1']\n",
    "#y2fu_df = rsfc.swaplevel(axis=0).loc['2_year_follow_up_y_arm_1']"
   ]
  },
  {
   "cell_type": "code",
   "execution_count": null,
   "id": "49958abc",
   "metadata": {},
   "outputs": [],
   "source": [
    "# we need ids for the vectorized upper triangle!\n",
    "network_names = ['dt', 'ca', 'smh', 'dla', 'ad', 'smm', 'sa', 'fo', 'vs', 'cgc', 'vta', 'rspltp']"
   ]
  },
  {
   "cell_type": "code",
   "execution_count": null,
   "id": "c6a49e3f",
   "metadata": {},
   "outputs": [],
   "source": [
    "variable_df = pd.DataFrame(dtype=str)\n",
    "for ntwk1 in network_names:\n",
    "    i = network_names.index(ntwk1)\n",
    "    for ntwk2 in network_names:\n",
    "        j = network_names.index(ntwk2)\n",
    "        variable_df.at[i,j] = f'rsfmri_c_ngd_{ntwk1}_ngd_{ntwk2}'\n"
   ]
  },
  {
   "cell_type": "code",
   "execution_count": null,
   "id": "a43fb3ef",
   "metadata": {},
   "outputs": [],
   "source": [
    "upper_tri = np.triu_indices(12)\n",
    "upper_tri_vars = list(variable_df.values[upper_tri])\n"
   ]
  },
  {
   "cell_type": "code",
   "execution_count": null,
   "id": "98befcba",
   "metadata": {},
   "outputs": [],
   "source": [
    "# reading in the dataframes for each type of change score\n",
    "sign_change = pd.read_pickle(join(PROJ_DIR, DATA_DIR, 'delta_rsFC-sign_changes.pkl'))\n",
    "rci = pd.read_pickle(join(PROJ_DIR, DATA_DIR, 'delta_rsFC-rci.pkl'))\n",
    "rci_abs = pd.read_pickle(join(PROJ_DIR, DATA_DIR, 'delta_rsFC-rci_abs.pkl'))\n",
    "change = pd.read_pickle(join(PROJ_DIR, DATA_DIR, 'delta_rsFC-change.pkl'))\n",
    "change_abs = pd.read_pickle(join(PROJ_DIR, DATA_DIR, 'delta_rsFC-change_abs.pkl'))\n",
    "change_plus1 = pd.read_pickle(join(PROJ_DIR, DATA_DIR, 'delta_rsFC-change_plus1.pkl'))\n"
   ]
  },
  {
   "cell_type": "code",
   "execution_count": null,
   "id": "28313cd7",
   "metadata": {},
   "outputs": [],
   "source": [
    "sign_changes = list(sign_change.iloc[0].unique())\n",
    "sign_changes"
   ]
  },
  {
   "cell_type": "code",
   "execution_count": null,
   "id": "975e0678",
   "metadata": {},
   "outputs": [],
   "source": [
    "measures = {\n",
    "    'rci': rci,\n",
    "    '|rci|': rci_abs,\n",
    "    'apd': change,\n",
    "    '|apd|': change_abs,\n",
    "    'delta+1': change_plus1\n",
    "}"
   ]
  },
  {
   "cell_type": "code",
   "execution_count": null,
   "id": "b3247e90",
   "metadata": {},
   "outputs": [],
   "source": [
    "for measure in measures.values():\n",
    "    measure = measure[upper_tri_vars]"
   ]
  },
  {
   "cell_type": "code",
   "execution_count": null,
   "id": "016e51e9",
   "metadata": {},
   "outputs": [],
   "source": [
    "btwn = upper_tri_vars"
   ]
  },
  {
   "cell_type": "code",
   "execution_count": null,
   "id": "e9d2a04b",
   "metadata": {},
   "outputs": [],
   "source": [
    "# make a list per network of all of that network's connections\n",
    "network_wise = {}\n",
    "for i in [j.split('_')[3] for j in within_network]:\n",
    "    network_wise[i] = [k for k in btwn if i == k.split('_')[3]] + [k for k in btwn if i == k.split('_')[5]]\n",
    "network_wise"
   ]
  },
  {
   "cell_type": "code",
   "execution_count": null,
   "id": "65a1f0a3",
   "metadata": {},
   "outputs": [],
   "source": [
    "# make a list of all between-network connections\n",
    "between_network = {}\n",
    "for network in network_wise.keys():\n",
    "    between_network[network] = [i for i in network_wise[network] if i.split('_')[3] != i.split('_')[5]]\n",
    "print(between_network)"
   ]
  },
  {
   "cell_type": "code",
   "execution_count": null,
   "id": "734cbbed",
   "metadata": {},
   "outputs": [],
   "source": [
    "# compute the descriptive statistics for \n",
    "# 1. all connections of each network (see `network_wise`)\n",
    "# 2. each within-network connection (see `within_network`)\n",
    "# 3. all of the between-network connections, per network\n"
   ]
  },
  {
   "cell_type": "code",
   "execution_count": null,
   "id": "64bf57e3",
   "metadata": {},
   "outputs": [],
   "source": [
    "network_descriptives = pd.DataFrame()"
   ]
  },
  {
   "cell_type": "code",
   "execution_count": null,
   "id": "e5d3cf2b",
   "metadata": {},
   "outputs": [],
   "source": [
    "# network wise descriptives\n",
    "for ntwk in network_wise.keys():\n",
    "    temp_conns = network_wise[ntwk]\n",
    "    for measure in measures.keys():\n",
    "        temp_df = measures[measure][temp_conns]\n",
    "        all_temp = temp_df.melt(value_name = ntwk)\n",
    "        temp_desc = all_temp.describe()\n",
    "        temp_desc.columns = [f'{ntwk}-{measure}']\n",
    "        network_descriptives = pd.concat([network_descriptives,temp_desc], axis=1)\n",
    "print(network_descriptives)"
   ]
  },
  {
   "cell_type": "code",
   "execution_count": null,
   "id": "3eba6166",
   "metadata": {},
   "outputs": [],
   "source": [
    "# multi indexing the network wise descriptives\n",
    "\n",
    "columns = pd.MultiIndex.from_product([measures, network_names])\n",
    "index = network_descriptives.index\n",
    "multi_index_dataframe = pd.DataFrame(dtype=float, columns=columns, index=index)\n",
    "for column in network_descriptives.columns:\n",
    "    new_cols = column.split('-')\n",
    "    multi_index_dataframe[(new_cols[1], new_cols[0])] = network_descriptives[column]\n",
    "multi_index_dataframe"
   ]
  },
  {
   "cell_type": "code",
   "execution_count": null,
   "id": "d96615fa",
   "metadata": {},
   "outputs": [],
   "source": [
    "# melting and saving out the df\n",
    "melt_ntwk_wise = multi_index_dataframe.melt()\n",
    "melt_ntwk_wise\n",
    "melt_ntwk_wise.to_pickle(join(PROJ_DIR, OUTP_DIR, 'melt_ntwk_wise.pkl'))"
   ]
  },
  {
   "cell_type": "code",
   "execution_count": null,
   "id": "1d6b8b0d",
   "metadata": {},
   "outputs": [],
   "source": [
    "# network wise sign change descriptives \n",
    "network_descriptives = pd.DataFrame()\n",
    "for signs in sign_changes:\n",
    "    for ntwk in network_wise.keys():\n",
    "        temp_conns = network_wise[ntwk]\n",
    "        for measure in measures.keys():\n",
    "            temp_df = measures[measure][temp_conns]\n",
    "            sign_long = sign_change.loc[temp_df.index][temp_df.columns].melt(value_name = ntwk)\n",
    "            keep = sign_long[sign_long[ntwk] == signs].index\n",
    "            all_temp = temp_df.melt(value_name = ntwk)\n",
    "            temp_desc = all_temp.loc[keep].describe()\n",
    "            temp_desc.columns = [f'{ntwk}-{measure}-({signs})']\n",
    "            network_descriptives = pd.concat([network_descriptives,temp_desc], axis=1)"
   ]
  },
  {
   "cell_type": "code",
   "execution_count": null,
   "id": "e500ee2d",
   "metadata": {},
   "outputs": [],
   "source": [
    "network_descriptives.filter(like='(- to +)')"
   ]
  },
  {
   "cell_type": "code",
   "execution_count": null,
   "id": "1e600681",
   "metadata": {},
   "outputs": [],
   "source": [
    "network_descriptives.to_csv(join(PROJ_DIR, OUTP_DIR, 'ntwk_wise_desc+sign_change.csv'))\n",
    "network_descriptives.to_pickle(join(PROJ_DIR, OUTP_DIR, 'ntwk_wise_desc+sign_change.pkl'))"
   ]
  },
  {
   "cell_type": "code",
   "execution_count": null,
   "id": "f0d57464",
   "metadata": {},
   "outputs": [],
   "source": [
    "#  within-network connectivity descriptives\n",
    "network_descriptives = pd.DataFrame()\n",
    "for measure in measures.keys():\n",
    "    for conn in within_network:\n",
    "        network_name = conn.split('_')[3]\n",
    "        temp = measures[measure][conn]\n",
    "        temp_descr = temp.describe()\n",
    "        temp_descr.name = f'{network_name}-{measure}'\n",
    "        network_descriptives = pd.concat([network_descriptives, temp_descr], axis=1)\n",
    "network_descriptives"
   ]
  },
  {
   "cell_type": "code",
   "execution_count": null,
   "id": "7311a11b",
   "metadata": {},
   "outputs": [],
   "source": [
    "network_descriptives.filter(like='|apd|')"
   ]
  },
  {
   "cell_type": "code",
   "execution_count": null,
   "id": "e90a156d",
   "metadata": {},
   "outputs": [],
   "source": [
    "network_descriptives.to_csv(join(PROJ_DIR, OUTP_DIR, 'within_netwk_desc.csv'))\n",
    "network_descriptives.to_pickle(join(PROJ_DIR, OUTP_DIR, 'within_netwk_desc.pkl'))"
   ]
  },
  {
   "cell_type": "code",
   "execution_count": null,
   "id": "b6701fac",
   "metadata": {},
   "outputs": [],
   "source": [
    "#  within-network connectivity sign change descriptives \n",
    "\n",
    "network_descriptives = pd.DataFrame()\n",
    "for signs in sign_changes:\n",
    "    for measure in measures.keys():\n",
    "        for conn in within_network:\n",
    "            network_name = conn.split('_')[3]\n",
    "            temp = measures[measure][conn]\n",
    "            temp_descr = temp.describe()\n",
    "            temp_descr.name = f'{ntwk}-{measure}-({signs})'\n",
    "            network_descriptives = pd.concat([network_descriptives, temp_descr], axis=1)\n",
    "#network_descriptives"
   ]
  },
  {
   "cell_type": "code",
   "execution_count": null,
   "id": "c57cc71a",
   "metadata": {},
   "outputs": [],
   "source": [
    "network_descriptives.to_csv(join(PROJ_DIR, OUTP_DIR, 'within_netwk_desc+sign_change.csv'))\n",
    "network_descriptives.to_pickle(join(PROJ_DIR, OUTP_DIR, 'within_netwk_desc+sign_change.pkl'))"
   ]
  },
  {
   "cell_type": "code",
   "execution_count": null,
   "id": "186aebd3",
   "metadata": {},
   "outputs": [],
   "source": [
    "# multi indexing the within network  descriptives\n",
    "columns = pd.MultiIndex.from_product([measures, network_names])\n",
    "index = network_descriptives.index\n",
    "multi_index_dataframe = pd.DataFrame(dtype=float, columns=columns, index=index)\n",
    "for column in network_descriptives.columns:\n",
    "    new_cols = column.split('-')\n",
    "    multi_index_dataframe[(new_cols[1], new_cols[0])] = network_descriptives[column]\n",
    "multi_index_dataframe"
   ]
  },
  {
   "cell_type": "code",
   "execution_count": null,
   "id": "ee654349",
   "metadata": {},
   "outputs": [],
   "source": [
    "# melting and saving out the df\n",
    "melt_wthn_ntwk = multi_index_dataframe.melt()\n",
    "melt_wthn_ntwk\n",
    "melt_wthn_ntwk.to_pickle(join(PROJ_DIR, OUTP_DIR, 'melt_wthn_ntwk.pkl'))"
   ]
  },
  {
   "cell_type": "code",
   "execution_count": null,
   "id": "24ff4f09",
   "metadata": {},
   "outputs": [],
   "source": [
    "# and now a scaffold for 3! \n",
    "# between_network is a dictionary of between-network connections for each network\n",
    "# like network_wise, but without the within-network connections"
   ]
  },
  {
   "cell_type": "code",
   "execution_count": null,
   "id": "5ed772a7",
   "metadata": {},
   "outputs": [],
   "source": [
    "# between network descriptives \n",
    "network_descriptives = pd.DataFrame()\n",
    "for ntwk in between_network.keys():\n",
    "    temp_conns = between_network[ntwk]\n",
    "    for measure in measures.keys():\n",
    "        temp_df = measures[measure][temp_conns]\n",
    "        all_temp = temp_df.melt(value_name = ntwk)\n",
    "        temp_desc = all_temp.describe()\n",
    "        temp_desc.columns = [f'{ntwk}-{measure}']\n",
    "        network_descriptives = pd.concat([network_descriptives,temp_desc], axis=1)"
   ]
  },
  {
   "cell_type": "code",
   "execution_count": null,
   "id": "86a6706c",
   "metadata": {},
   "outputs": [],
   "source": [
    "network_descriptives.to_csv(join(PROJ_DIR, OUTP_DIR, 'between_netwk_desc.csv'))\n",
    "network_descriptives.to_pickle(join(PROJ_DIR, OUTP_DIR, 'between_netk_desc.pkl'))"
   ]
  },
  {
   "cell_type": "code",
   "execution_count": null,
   "id": "0cc4d5f6",
   "metadata": {},
   "outputs": [],
   "source": [
    "# between network sign change descriptives \n",
    "network_descriptives = pd.DataFrame()\n",
    "for signs in sign_changes:\n",
    "    for ntwk in between_network.keys():\n",
    "        temp_conns = between_network[ntwk]\n",
    "        for measure in measures.keys():\n",
    "            temp_df = measures[measure][temp_conns]\n",
    "            all_temp = temp_df.melt(value_name = ntwk)\n",
    "            temp_desc = all_temp.describe()\n",
    "            temp_desc.columns = [f'{ntwk}-{measure}-({signs})']\n",
    "            network_descriptives = pd.concat([network_descriptives,temp_desc], axis=1)\n",
    "network_descriptives"
   ]
  },
  {
   "cell_type": "code",
   "execution_count": null,
   "id": "a47d6316",
   "metadata": {},
   "outputs": [],
   "source": [
    "network_descriptives.to_csv(join(PROJ_DIR, OUTP_DIR, 'between_netwk_desc+sign_change.csv'))\n",
    "network_descriptives.to_pickle(join(PROJ_DIR, OUTP_DIR, 'between_netk_desc+sign_change.pkl'))"
   ]
  },
  {
   "cell_type": "code",
   "execution_count": null,
   "id": "fd7c7e2c",
   "metadata": {},
   "outputs": [],
   "source": [
    "# multi indexing the between network descriptives\n",
    "columns = pd.MultiIndex.from_product([measures, network_names])\n",
    "index = network_descriptives.index\n",
    "multi_index_dataframe = pd.DataFrame(dtype=float, columns=columns, index=index)\n",
    "for column in network_descriptives.columns:\n",
    "    new_cols = column.split('-')\n",
    "    multi_index_dataframe[(new_cols[1], new_cols[0])] = network_descriptives[column]\n",
    "multi_index_dataframe"
   ]
  },
  {
   "cell_type": "code",
   "execution_count": null,
   "id": "0d98fc06",
   "metadata": {},
   "outputs": [],
   "source": [
    "# melting and saving out the df\n",
    "melt_btwn_ntwk = multi_index_dataframe.melt()\n",
    "melt_btwn_ntwk\n",
    "melt_btwn_ntwk.to_pickle(join(PROJ_DIR, OUTP_DIR, 'melt_btwn_ntwk.pkl'))"
   ]
  },
  {
   "cell_type": "code",
   "execution_count": null,
   "id": "073da118",
   "metadata": {},
   "outputs": [],
   "source": [
    "# UNFINISHED EXPERIMENT\n",
    "# multi indexing the between network SIGN CHANGES descriptives\n",
    "columns = pd.MultiIndex.from_product([sign_changes, measures, network_names])\n",
    "index = network_descriptives.index\n",
    "multi_index_dataframe = pd.DataFrame(dtype=float, columns=columns, index=index)\n",
    "for column in network_descriptives.columns:\n",
    "    new_cols = column.split('-')\n",
    "    multi_index_dataframe[(new_cols[2], new_cols[1], new_cols[0])] = network_descriptives[column]\n",
    "multi_index_dataframe\n",
    "#multi_index_dataframe[(new_cols[2])]\n",
    "# we dont need measures!\n",
    "# only need counts for stacked bar graphs"
   ]
  }
 ],
 "metadata": {
  "kernelspec": {
   "display_name": "Python 3 (ipykernel)",
   "language": "python",
   "name": "python3"
  },
  "language_info": {
   "codemirror_mode": {
    "name": "ipython",
    "version": 3
   },
   "file_extension": ".py",
   "mimetype": "text/x-python",
   "name": "python",
   "nbconvert_exporter": "python",
   "pygments_lexer": "ipython3",
   "version": "3.10.9"
  }
 },
 "nbformat": 4,
 "nbformat_minor": 5
}
