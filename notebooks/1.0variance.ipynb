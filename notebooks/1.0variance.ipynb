{
 "cells": [
  {
   "cell_type": "code",
   "execution_count": 1,
   "id": "0c123a55",
   "metadata": {},
   "outputs": [
    {
     "name": "stderr",
     "output_type": "stream",
     "text": [
      "/Users/katherine.b/Library/Python/3.8/lib/python/site-packages/nilearn/datasets/__init__.py:93: FutureWarning: Fetchers from the nilearn.datasets module will be updated in version 0.9 to return python strings instead of bytes and Pandas dataframes instead of Numpy arrays.\n",
      "  warn(\"Fetchers from the nilearn.datasets module will be \"\n"
     ]
    }
   ],
   "source": [
    "import numpy as np\n",
    "import pandas as pd\n",
    "import seaborn as sns\n",
    "import nibabel as nib\n",
    "import matplotlib.pyplot as plt\n",
    "\n",
    "from os.path import join\n",
    "\n",
    "from scipy.stats import fligner\n",
    "from nilearn import plotting, datasets, surface"
   ]
  },
  {
   "cell_type": "code",
   "execution_count": 2,
   "id": "116ffaba",
   "metadata": {},
   "outputs": [],
   "source": [
    "sns.set(style='whitegrid', context='talk')\n",
    "plt.rcParams[\"font.family\"] = \"monospace\"\n",
    "plt.rcParams['font.monospace'] = 'Courier'"
   ]
  },
  {
   "cell_type": "code",
   "execution_count": 3,
   "id": "1909295a",
   "metadata": {},
   "outputs": [],
   "source": [
    "crayons = sns.crayon_palette(['Aquamarine', 'Fuchsia', \n",
    "                              'Jungle Green', 'Yellow Green'])"
   ]
  },
  {
   "cell_type": "code",
   "execution_count": 4,
   "id": "536ff415",
   "metadata": {},
   "outputs": [],
   "source": [
    "PROJ_DIR = \"/Volumes/projects_herting/LABDOCS/Personnel/Katie/deltaABCD_clustering/\"\n",
    "DATA_DIR = \"data/\"\n",
    "FIGS_DIR = \"figures/\"\n",
    "OUTP_DIR = \"output/\""
   ]
  },
  {
   "cell_type": "code",
   "execution_count": 5,
   "id": "9cad5ffc",
   "metadata": {},
   "outputs": [],
   "source": [
    "df = pd.read_csv(join(PROJ_DIR, DATA_DIR, \"data_qcd.csv\"), index_col=0, header=0)"
   ]
  },
  {
   "cell_type": "code",
   "execution_count": 6,
   "id": "e15a44f6",
   "metadata": {},
   "outputs": [],
   "source": [
    "df.drop(list(df.filter(regex='lesion.*').columns), axis=1, inplace=True)\n",
    "df.drop(list(df.filter(regex='.*_cf12_.*').columns), axis=1, inplace=True)\n",
    "no_2yfu = df[df[\"interview_date.2_year_follow_up_y_arm_1\"].isna() == True].index\n",
    "df = df.drop(no_2yfu, axis=0)"
   ]
  },
  {
   "cell_type": "code",
   "execution_count": 7,
   "id": "7ea4c574",
   "metadata": {},
   "outputs": [
    {
     "data": {
      "text/plain": [
       "Index(['mrirsfd112.baseline_year_1_arm_1', 'mrirsfd9.baseline_year_1_arm_1',\n",
       "       'mrirsfd107.2_year_follow_up_y_arm_1',\n",
       "       'mrirsfd103.baseline_year_1_arm_1', 'mrirsfd4.2_year_follow_up_y_arm_1',\n",
       "       'mrirsfd47.change_score', 'mrirsfd115.change_score',\n",
       "       'mrirsfd2.change_score', 'mrirsfd145.2_year_follow_up_y_arm_1',\n",
       "       'mrirsfd97.2_year_follow_up_y_arm_1',\n",
       "       ...\n",
       "       'dmri_rsirndgm_cdx_stirh.change_score',\n",
       "       'dmri_rsirndgm_cdx_stsrh.baseline_year_1_arm_1',\n",
       "       'dmri_rsirndgm_cdx_stsrh.2_year_follow_up_y_arm_1',\n",
       "       'dmri_rsirndgm_cdx_stsrh.change_score',\n",
       "       'dmri_rsirndgm_cdx_sttrh.baseline_year_1_arm_1',\n",
       "       'dmri_rsirndgm_cdx_sttrh.2_year_follow_up_y_arm_1',\n",
       "       'dmri_rsirndgm_cdx_sttrh.change_score',\n",
       "       'dmri_rsirndgm_cdx_mean.baseline_year_1_arm_1',\n",
       "       'dmri_rsirndgm_cdx_mean.2_year_follow_up_y_arm_1',\n",
       "       'dmri_rsirndgm_cdx_mean.change_score'],\n",
       "      dtype='object', length=7697)"
      ]
     },
     "execution_count": 7,
     "metadata": {},
     "output_type": "execute_result"
    }
   ],
   "source": [
    "df.columns"
   ]
  },
  {
   "cell_type": "code",
   "execution_count": 8,
   "id": "eeb03fc5",
   "metadata": {},
   "outputs": [],
   "source": [
    "deltasmri_complete = pd.concat([df.filter(regex='smri.*change_score'), \n",
    "                                df.filter(regex='mrisdp.*change_score')], axis=1).dropna()\n",
    "deltarsfmri_complete = df.filter(regex='rsfmri.*change_score').dropna(how='any')\n",
    "deltarsi_complete = df.filter(regex='dmri_rsi.*change_score').dropna()\n",
    "deltadti_complete = df.filter(regex='dmri_dti.*change_score').dropna()"
   ]
  },
  {
   "cell_type": "code",
   "execution_count": 9,
   "id": "2f181766",
   "metadata": {},
   "outputs": [],
   "source": [
    "img_modalities = {'smri': deltasmri_complete,\n",
    "                  'fmri': deltarsfmri_complete,\n",
    "                  'rsi': deltarsi_complete, \n",
    "                  'dti': deltadti_complete}"
   ]
  },
  {
   "cell_type": "code",
   "execution_count": 10,
   "id": "43f410e1",
   "metadata": {},
   "outputs": [],
   "source": [
    "tests = ['variance', \n",
    "         'fligner_sex',\n",
    "         'fligner_puberty',\n",
    "         'fligner_raceth', \n",
    "         'fligner_income', \n",
    "         'fligner_edu', \n",
    "         'fligner_marital', \n",
    "         'fligner_age', \n",
    "         #'fligner_scanner'\n",
    "        ]"
   ]
  },
  {
   "cell_type": "code",
   "execution_count": 11,
   "id": "8ec7df97",
   "metadata": {},
   "outputs": [],
   "source": [
    "alpha = 0.05\n",
    "values = ['stat', 'p', 'diff', 'greater', f'a<{alpha}']\n",
    "columns = pd.MultiIndex.from_product([tests, values])\n",
    "\n",
    "var_df = pd.DataFrame(columns=columns)"
   ]
  },
  {
   "cell_type": "code",
   "execution_count": 12,
   "id": "b88e83e8",
   "metadata": {},
   "outputs": [],
   "source": [
    "ages = df['interview_age.baseline_year_1_arm_1'].sort_values().dropna().unique()"
   ]
  },
  {
   "cell_type": "code",
   "execution_count": 13,
   "id": "fb77a51c",
   "metadata": {},
   "outputs": [
    {
     "name": "stdout",
     "output_type": "stream",
     "text": [
      "112.0 119.0 125.0\n"
     ]
    }
   ],
   "source": [
    "all_ages = df['interview_age.baseline_year_1_arm_1'].sort_values().dropna()\n",
    "q1 = np.quantile(all_ages, 0.25)\n",
    "q2 = np.quantile(all_ages, 0.5)\n",
    "q3 = np.quantile(all_ages, 0.75)\n",
    "\n",
    "print(q1, q2, q3)"
   ]
  },
  {
   "cell_type": "code",
   "execution_count": 14,
   "id": "f00d90c5",
   "metadata": {},
   "outputs": [
    {
     "name": "stdout",
     "output_type": "stream",
     "text": [
      "[107.0, 112.0, 119.0, 125.0, 133.0]\n"
     ]
    }
   ],
   "source": [
    "age_bins = [ages[0], q1, q2, q3, ages[-1]]\n",
    "print(age_bins)"
   ]
  },
  {
   "cell_type": "code",
   "execution_count": 15,
   "id": "65663a59",
   "metadata": {},
   "outputs": [
    {
     "name": "stderr",
     "output_type": "stream",
     "text": [
      "/var/folders/t5/4bz0680d45n5_5m30ny85m540000gp/T/ipykernel_38701/3026442557.py:1: DeprecationWarning: The default dtype for empty Series will be 'object' instead of 'float64' in a future version. Specify a dtype explicitly to silence this warning.\n",
      "  age_hist = pd.Series()\n",
      "/Users/katherine.b/Library/Python/3.8/lib/python/site-packages/seaborn/_decorators.py:36: FutureWarning: Pass the following variables as keyword args: x, y. From version 0.12, the only valid positional argument will be `data`, and passing other arguments without an explicit keyword will result in an error or misinterpretation.\n",
      "  warnings.warn(\n"
     ]
    },
    {
     "data": {
      "text/plain": [
       "<AxesSubplot:>"
      ]
     },
     "execution_count": 15,
     "metadata": {},
     "output_type": "execute_result"
    },
    {
     "data": {
      "image/png": "[encoded data removed]",
      "text/plain": [
       "<Figure size 432x288 with 1 Axes>"
      ]
     },
     "metadata": {},
     "output_type": "display_data"
    }
   ],
   "source": [
    "age_hist = pd.Series()\n",
    "for age in ages:\n",
    "    age_hist.at[age] =  len(df[df['interview_age.baseline_year_1_arm_1'] == age].index)\n",
    "sns.scatterplot(age_hist.index, age_hist.values)"
   ]
  },
  {
   "cell_type": "code",
   "execution_count": 16,
   "id": "7ec87704",
   "metadata": {},
   "outputs": [],
   "source": [
    "df[['pds_p_ss_female_category_2.baseline_year_1_arm_1',\n",
    "    'pds_p_ss_male_category_2.baseline_year_1_arm_1']]\n",
    "df['pds_p_ss_category_2.baseline_year_1_arm_1'] = df['pds_p_ss_female_category_2.baseline_year_1_arm_1'].fillna(0) + df['pds_p_ss_male_category_2.baseline_year_1_arm_1'].fillna(0)\n"
   ]
  },
  {
   "cell_type": "code",
   "execution_count": 20,
   "id": "060fc64f",
   "metadata": {},
   "outputs": [
    {
     "name": "stdout",
     "output_type": "stream",
     "text": [
      "sex\n",
      " f:\t3437\n",
      "puberty\n",
      "1:\t3874\n",
      "2:\t1675\n",
      "3:\t1562\n",
      "\n",
      "race\n",
      " 4108 981 1450 918\n",
      "\n",
      "income\n",
      " 1922 2082 2876\n",
      "\n",
      "education\n",
      " 2 1 4 2 1 33 14 31 83 61 106 101 562 146 1250 542 441 2204 1442 202 219\n",
      "1046 2233 2204 1863\n",
      "\n",
      "age\n",
      " 1475 1989 1670 2051\n",
      "\n",
      "marital\n",
      " 5192 1831\n"
     ]
    }
   ],
   "source": [
    "\n",
    "# check group sizes\n",
    "m = df[df['sex.baseline_year_1_arm_1'] == 'M'].index\n",
    "f = df[df['sex.baseline_year_1_arm_1'] == 'F'].index\n",
    "print('sex\\n', f'f:\\t{len(f)}')\n",
    "\n",
    "puberty = 'pds_p_ss_category_2.baseline_year_1_arm_1'\n",
    "one = df[df[puberty] == 1.].index\n",
    "two = df[df[puberty] == 2.].index\n",
    "three = df[df[puberty] == 3.].index\n",
    "print('puberty\\n'\n",
    "              f'1:\\t{len(one)}\\n2:\\t{len(two)}\\n3:\\t{len(three)}')\n",
    "\n",
    "race = 'race_ethnicity.baseline_year_1_arm_1'\n",
    "white = df[df[race] == 1.].index\n",
    "black = df[df[race] == 2.].index\n",
    "hispanic = df[df[race] == 3.].index\n",
    "asian = df[df[race] == 4.].index\n",
    "other = df[df[race] == 5.].index\n",
    "print('\\nrace\\n',len(white), len(black), len(hispanic), len(asian) + len(other))\n",
    "\n",
    "income = 'demo_comb_income_v2.baseline_year_1_arm_1'\n",
    "lt75k = len(df[df[income] < 7.].index)\n",
    "lt100 = len(df[df[income].between(7., 8., inclusive='both')].index)\n",
    "gt100 = len(df[df[income].between(9., 10., inclusive='both')].index)\n",
    "print('\\nincome\\n',lt75k, lt100, gt100)\n",
    "\n",
    "edu = 'demo_prnt_ed_v2.baseline_year_1_arm_1'\n",
    "one = len(df[df[edu] == 1].index)\n",
    "two = len(df[df[edu] == 2].index)\n",
    "three = len(df[df[edu] == 3].index)\n",
    "four = len(df[df[edu] == 4].index)\n",
    "five = len(df[df[edu] == 5].index)\n",
    "six = len(df[df[edu] == 6].index)\n",
    "seven = len(df[df[edu] == 7].index)\n",
    "eight = len(df[df[edu] == 8].index)\n",
    "nine = len(df[df[edu] == 9].index)\n",
    "ten = len(df[df[edu] == 10].index)\n",
    "eleven = len(df[df[edu] == 11].index)\n",
    "twelve = len(df[df[edu] == 12].index)\n",
    "thirteen = len(df[df[edu] == 13].index)\n",
    "fourteen = len(df[df[edu] == 14].index)\n",
    "fifteen = len(df[df[edu] == 15].index)\n",
    "sixteen = len(df[df[edu] == 16].index)\n",
    "seventeen = len(df[df[edu] == 17].index)\n",
    "eighteen = len(df[df[edu] == 18].index)\n",
    "nineteen = len(df[df[edu] == 19].index)\n",
    "twenty = len(df[df[edu] == 20].index)\n",
    "twentyone = len(df[df[edu] == 21].index)\n",
    "print('\\neducation\\n', one, two, three, four, five, six, \n",
    "                      seven, eight, nine, ten, #sevens, \n",
    "                      eleven, twelve, thirteen, fourteen, fifteen,\n",
    "                      sixteen, seventeen, eighteen, nineteen, twenty, twentyone)\n",
    "lt_hs = len(df[df[edu] < 12].index)\n",
    "hs_ged = len(df[df[edu].between(13, 14)].index)\n",
    "college = len(df[df[edu] == 15].index)\n",
    "aa_deg = len(df[df[edu].between(16, 17)].index)\n",
    "bachelors = len(df[df[edu] == 18].index)\n",
    "graduate = len(df[df[edu].between(19, 22)].index)\n",
    "print(lt_hs + hs_ged, college + aa_deg, bachelors, graduate)\n",
    "\n",
    "age = 'interview_age.baseline_year_1_arm_1'\n",
    "one = len(df[df[age] < age_bins[1] - 1].index)\n",
    "two = len(df[df[age].between(age_bins[1], age_bins[2], inclusive='right')].index)\n",
    "three = len(df[df[age].between(age_bins[2], age_bins[3], inclusive='right')].index)\n",
    "four = len(df[df[age].between(age_bins[3], age_bins[4], inclusive='both')].index)\n",
    "#five = len(df[df[age].between(age_bins[4], age_bins[5], inclusive='left')].index)\n",
    "#six = len(df[df[age].between(age_bins[5], age_bins[6], inclusive='left')].index)\n",
    "#seven = len(df[df[age].between(age_bins[6], age_bins[7], inclusive='left')].index)\n",
    "#eight = len(df[df[age].between(age_bins[7], age_bins[8], inclusive='left')].index)\n",
    "#nine = len(df[df[age].between(age_bins[8], age_bins[9] - 1.)].index)\n",
    "#ten = len(df[df[age] >= age_bins[4]].index)\n",
    "print('\\nage\\n',one, two, three, four)\n",
    "\n",
    "#marital status\n",
    "marry = \"demo_prnt_marital_v2.baseline_year_1_arm_1\"\n",
    "married = len(df[df[marry] == 1.].index)\n",
    "widowed = len(df[df[marry] == 2.].index)\n",
    "divorced = len(df[df[marry] == 3.].index)\n",
    "separated = len(df[df[marry] == 4.].index)\n",
    "never = len(df[df[marry] == 5.].index)\n",
    "refuse = len(df[df[marry] == 777.].index)\n",
    "print('\\nmarital\\n', married, widowed + divorced + separated + never)"
   ]
  },
  {
   "cell_type": "code",
   "execution_count": 22,
   "id": "fd1b7386",
   "metadata": {},
   "outputs": [
    {
     "ename": "KeyboardInterrupt",
     "evalue": "",
     "output_type": "error",
     "traceback": [
      "\u001b[0;31m---------------------------------------------------------------------------\u001b[0m",
      "\u001b[0;31mKeyboardInterrupt\u001b[0m                         Traceback (most recent call last)",
      "\u001b[0;32m/var/folders/t5/4bz0680d45n5_5m30ny85m540000gp/T/ipykernel_38701/798346606.py\u001b[0m in \u001b[0;36m<module>\u001b[0;34m\u001b[0m\n\u001b[1;32m     20\u001b[0m         \u001b[0;31m# compare variance between pubertal stages at baseline, female ppts\u001b[0m\u001b[0;34m\u001b[0m\u001b[0;34m\u001b[0m\u001b[0;34m\u001b[0m\u001b[0m\n\u001b[1;32m     21\u001b[0m         \u001b[0mpuberty\u001b[0m \u001b[0;34m=\u001b[0m \u001b[0;34m'pds_p_ss_category_2.baseline_year_1_arm_1'\u001b[0m\u001b[0;34m\u001b[0m\u001b[0;34m\u001b[0m\u001b[0m\n\u001b[0;32m---> 22\u001b[0;31m         \u001b[0mone\u001b[0m \u001b[0;34m=\u001b[0m \u001b[0mdf\u001b[0m\u001b[0;34m[\u001b[0m\u001b[0mdf\u001b[0m\u001b[0;34m[\u001b[0m\u001b[0mpuberty\u001b[0m\u001b[0;34m]\u001b[0m \u001b[0;34m==\u001b[0m \u001b[0;36m1.\u001b[0m\u001b[0;34m]\u001b[0m\u001b[0;34m[\u001b[0m\u001b[0mvar\u001b[0m\u001b[0;34m]\u001b[0m\u001b[0;34m.\u001b[0m\u001b[0mdropna\u001b[0m\u001b[0;34m(\u001b[0m\u001b[0;34m)\u001b[0m\u001b[0;34m\u001b[0m\u001b[0;34m\u001b[0m\u001b[0m\n\u001b[0m\u001b[1;32m     23\u001b[0m         \u001b[0mtwo\u001b[0m \u001b[0;34m=\u001b[0m \u001b[0mdf\u001b[0m\u001b[0;34m[\u001b[0m\u001b[0mdf\u001b[0m\u001b[0;34m[\u001b[0m\u001b[0mpuberty\u001b[0m\u001b[0;34m]\u001b[0m \u001b[0;34m==\u001b[0m \u001b[0;36m2.\u001b[0m\u001b[0;34m]\u001b[0m\u001b[0;34m[\u001b[0m\u001b[0mvar\u001b[0m\u001b[0;34m]\u001b[0m\u001b[0;34m.\u001b[0m\u001b[0mdropna\u001b[0m\u001b[0;34m(\u001b[0m\u001b[0;34m)\u001b[0m\u001b[0;34m\u001b[0m\u001b[0;34m\u001b[0m\u001b[0m\n\u001b[1;32m     24\u001b[0m         \u001b[0mthree\u001b[0m \u001b[0;34m=\u001b[0m \u001b[0mdf\u001b[0m\u001b[0;34m[\u001b[0m\u001b[0mdf\u001b[0m\u001b[0;34m[\u001b[0m\u001b[0mpuberty\u001b[0m\u001b[0;34m]\u001b[0m \u001b[0;34m==\u001b[0m \u001b[0;36m3.\u001b[0m\u001b[0;34m]\u001b[0m\u001b[0;34m[\u001b[0m\u001b[0mvar\u001b[0m\u001b[0;34m]\u001b[0m\u001b[0;34m.\u001b[0m\u001b[0mdropna\u001b[0m\u001b[0;34m(\u001b[0m\u001b[0;34m)\u001b[0m\u001b[0;34m\u001b[0m\u001b[0;34m\u001b[0m\u001b[0m\n",
      "\u001b[0;31mKeyboardInterrupt\u001b[0m: "
     ]
    }
   ],
   "source": [
    "for modality in img_modalities.keys():\n",
    "    variables = img_modalities[modality].columns\n",
    "    for var in variables:\n",
    "        # compute variance across the sample\n",
    "        var_df.at[var, ('variance', 'stat')] = np.var(df[var])\n",
    "        \n",
    "        # compare variance between male and female participants\n",
    "        m = df[df['sex.baseline_year_1_arm_1'] == 'M'][var].dropna()\n",
    "        f = df[df['sex.baseline_year_1_arm_1'] == 'F'][var].dropna()\n",
    "        test = fligner(m, f)\n",
    "        var_df.at[var, ('fligner_sex', 'stat')] = test[0]\n",
    "        var_df.at[var, ('fligner_sex', 'p')] = test[1]\n",
    "        var_df.at[var, ('fligner_sex', 'diff')] = np.mean(f) - np.mean(m)\n",
    "        var_df.at[var, ('fligner_sex', 'greater')] = 'f'\n",
    "        if test[1] < alpha:\n",
    "            var_df.at[var, ('fligner_sex', f'a<{alpha}')] = '**'\n",
    "        else:\n",
    "            var_df.at[var, ('fligner_sex', f'a<{alpha}')] = 'ns'\n",
    "        \n",
    "        # compare variance between pubertal stages at baseline, female ppts\n",
    "        puberty = 'pds_p_ss_category_2.baseline_year_1_arm_1'\n",
    "        one = df[df[puberty] == 1.][var].dropna()\n",
    "        two = df[df[puberty] == 2.][var].dropna()\n",
    "        three = df[df[puberty] == 3.][var].dropna()\n",
    "        \n",
    "        test = fligner(one, two, three)\n",
    "        var_df.at[var, ('fligner_puberty', 'stat')] = test[0]\n",
    "        var_df.at[var, ('fligner_puberty', 'p')] = test[1]\n",
    "        if test[1] < alpha:\n",
    "            var_df.at[var, ('fligner_puberty', f'a<{alpha}')] = '**'\n",
    "        else:\n",
    "            var_df.at[var, ('fligner_puberty', f'a<{alpha}')] = 'ns'\n",
    "        \n",
    "        var_dict = {'1': np.mean(one), \n",
    "                    '2': np.mean(two), \n",
    "                    '3': np.mean(three)}\n",
    "        max_key = max(var_dict, key=var_dict.get)\n",
    "        min_val = min(var_dict.values())\n",
    "        sorted_keys = {k: v for k, v in sorted(var_dict.items(), key=lambda item: item[1])}\n",
    "        var_df.at[var, ('fligner_puberty', 'diff')] = var_dict[max_key] - min_val\n",
    "        var_df.at[var, ('fligner_puberty', 'greater')] = [list(sorted_keys.keys())]\n",
    "        \n",
    "        # compare variance between pubertal stages at baseline, male ppts\n",
    "        #puberty = 'pds_p_ss_male_category_2.baseline_year_1_arm_1'\n",
    "        #one = df[df[puberty] == 1.][var].dropna()\n",
    "        #two = df[df[puberty] == 2.][var].dropna()\n",
    "        #three = df[df[puberty] == 3.][var].dropna()\n",
    "        \n",
    "        #test = fligner(one, two, three)\n",
    "        #var_dict = {'1': np.mean(one), \n",
    "        #            '2': np.mean(two), \n",
    "        #            '3': np.mean(three)}\n",
    "        #max_key = max(var_dict, key=var_dict.get)\n",
    "        #min_val = min(var_dict.values())\n",
    "        #sorted_keys = {k: v for k, v in sorted(var_dict.items(), key=lambda item: item[1])}\n",
    "        #var_df.at[var, ('fligner_puberty_m', 'diff')] = var_dict[max_key] - min_val\n",
    "        #var_df.at[var, ('fligner_puberty_m', 'greater')] = [list(sorted_keys.keys())]\n",
    "        #var_df.at[var, ('fligner_puberty_m', 'stat')] = test[0]\n",
    "        #var_df.at[var, ('fligner_puberty_m', 'p')] = test[1]\n",
    "        #if test[1] < alpha:\n",
    "        #    var_df.at[var, ('fligner_puberty_m', f'a<{alpha}')] = '**'\n",
    "        #else:\n",
    "        #    var_df.at[var, ('fligner_puberty_m', f'a<{alpha}')] = 'ns'\n",
    "        \n",
    "        # compare variance between sexes at baseline, pubertal stages\n",
    "        #puberty_f = 'pds_p_ss_female_category_2.baseline_year_1_arm_1'\n",
    "        #puberty_m = 'pds_p_ss_male_category_2.baseline_year_1_arm_1'\n",
    "        #one_f = df[df[puberty_f] == 1.][var].dropna()\n",
    "        #two_f = df[df[puberty_f] == 2.][var].dropna()\n",
    "        #three_f = df[df[puberty_f] == 3.][var].dropna()\n",
    "        #one_m = df[df[puberty_m] == 1.][var].dropna()\n",
    "        #two_m = df[df[puberty_m] == 2.][var].dropna()\n",
    "        #three_m = df[df[puberty_m] == 3.][var].dropna()\n",
    "        #test = fligner(one_f, one_m)\n",
    "        \n",
    "        #var_df.at[var, ('fligner_puberty_1', 'stat')] = test[0]\n",
    "        #var_df.at[var, ('fligner_puberty_1', 'p')] = test[1]\n",
    "        #var_df.at[var, ('fligner_puberty_1', 'diff')] = np.mean(one_f) - np.mean(one_m)\n",
    "        #var_df.at[var, ('fligner_puberty_1', 'greater')] = 'f'\n",
    "        #if test[1] < alpha:\n",
    "        #    var_df.at[var, ('fligner_puberty_1', f'a<{alpha}')] = '**'\n",
    "        #else:\n",
    "        #    var_df.at[var, ('fligner_puberty_1', f'a<{alpha}')] = 'ns'\n",
    "        #test = fligner(two_f, two_m)\n",
    "        #var_df.at[var, ('fligner_puberty_2', 'stat')] = test[0]\n",
    "        #var_df.at[var, ('fligner_puberty_2', 'p')] = test[1]\n",
    "        #var_df.at[var, ('fligner_puberty_2', 'diff')] = np.mean(two_f) - np.mean(two_m)\n",
    "        #var_df.at[var, ('fligner_puberty_2', 'greater')] = 'f'\n",
    "        #if test[1] < alpha:\n",
    "        #    var_df.at[var, ('fligner_puberty_2', f'a<{alpha}')] = '**'\n",
    "        #else:\n",
    "        #    var_df.at[var, ('fligner_puberty_2', f'a<{alpha}')] = 'ns'\n",
    "        #test = fligner(three_f, three_m)\n",
    "        #var_df.at[var, ('fligner_puberty_3', 'stat')] = test[0]\n",
    "        #var_df.at[var, ('fligner_puberty_3', 'p')] = test[1]\n",
    "        #var_df.at[var, ('fligner_puberty_3', 'diff')] = np.mean(three_f) - np.mean(three_m)\n",
    "        #var_df.at[var, ('fligner_puberty_3', 'greater')] = 'f'\n",
    "        #if test[1] < alpha:\n",
    "        #    var_df.at[var, ('fligner_puberty_3', f'a<{alpha}')] = '**'\n",
    "        #else:\n",
    "        #    var_df.at[var, ('fligner_puberty_3', f'a<{alpha}')] = 'ns'\n",
    "        \n",
    "        #compare variance across race/ethnicities\n",
    "        race = 'race_ethnicity.baseline_year_1_arm_1'\n",
    "        white = df[df[race] == 1.][var].dropna()\n",
    "        black = df[df[race] == 2.][var].dropna()\n",
    "        hispanic = df[df[race] == 3.][var].dropna()\n",
    "        asian = df[df[race] == 4.][var].dropna()\n",
    "        other = df[df[race] == 5.][var].dropna()\n",
    "        asian_other = df[df[race].between(4., 5.)][var].dropna()\n",
    "        test = fligner(white, black, hispanic, asian_other)\n",
    "        var_df.at[var, ('fligner_raceth', 'stat')] = test[0]\n",
    "        var_df.at[var, ('fligner_raceth', 'p')] = test[1]\n",
    "        if test[1] < alpha:\n",
    "            var_df.at[var, ('fligner_raceth', f'a<{alpha}')] = '**'\n",
    "        else:\n",
    "            var_df.at[var, ('fligner_raceth', f'a<{alpha}')] = 'ns'\n",
    "        \n",
    "        # compare variance across income\n",
    "        income = 'demo_comb_income_v2.baseline_year_1_arm_1'\n",
    "        lt75k = df[df[income] < 7.][var].dropna()\n",
    "        lt100 = df[df[income].between(7., 8.)][var].dropna()\n",
    "        gt100 = df[df[income].between(9., 10.)][var].dropna()\n",
    "        \n",
    "        test = fligner(lt75k, lt100, gt100)\n",
    "        var_df.at[var, ('fligner_income', 'stat')] = test[0]\n",
    "        var_df.at[var, ('fligner_income', 'p')] = test[1]\n",
    "        if test[1] < alpha:\n",
    "            var_df.at[var, ('fligner_income', f'a<{alpha}')] = '**'\n",
    "        else:\n",
    "            var_df.at[var, ('fligner_income', f'a<{alpha}')] = 'ns'\n",
    "        \n",
    "        # compare variance across education\n",
    "        edu = 'demo_prnt_ed_v2.baseline_year_1_arm_1'\n",
    "        hs_ged = df[df[edu] <= 14][var].dropna()\n",
    "        #hs_ged = df[df[edu].between(13, 14)][var].dropna()\n",
    "        #college = df[df[edu] == 15][var].dropna()\n",
    "        lt_4yuni = df[df[edu].between(15, 17)][var].dropna()\n",
    "        bachelors = df[df[edu] == 18][var].dropna()\n",
    "        graduate = df[df[edu].between(19, 22)][var].dropna()\n",
    "        \n",
    "        test = fligner(hs_ged, lt_4yuni, bachelors, graduate)\n",
    "        var_df.at[var, ('fligner_edu', 'stat')] = test[0]\n",
    "        var_df.at[var, ('fligner_edu', 'p')] = test[1]\n",
    "        if test[1] < alpha:\n",
    "            var_df.at[var, ('fligner_edu', f'a<{alpha}')] = '**'\n",
    "        else:\n",
    "            var_df.at[var, ('fligner_edu', f'a<{alpha}')] = 'ns'\n",
    "        \n",
    "        # compare variance across age, binned by n0th percentiles\n",
    "        # age_bins are calculated above\n",
    "        age = 'interview_age.baseline_year_1_arm_1'\n",
    "        one = df[df[age] <= age_bins[1]][var].dropna()\n",
    "        two = df[df[age].between(age_bins[1], age_bins[2], inclusive='left')][var].dropna()\n",
    "        three = df[df[age].between(age_bins[2], age_bins[3], inclusive='left')][var].dropna()\n",
    "        four = df[df[age].between(age_bins[3], age_bins[4], inclusive='left')][var].dropna()\n",
    "        #five = df[df[age].between(age_bins[4], age_bins[5], inclusive='left')][var].dropna()\n",
    "        #six = df[df[age].between(age_bins[5], age_bins[6], inclusive='left')][var].dropna()\n",
    "        #seven = df[df[age].between(age_bins[6], age_bins[7], inclusive='left')][var].dropna()\n",
    "        #eight = df[df[age].between(age_bins[7], age_bins[8], inclusive='left')][var].dropna()\n",
    "        #nine = df[df[age].between(age_bins[8], age_bins[9], inclusive='left')][var].dropna()\n",
    "        #ten = df[df[age] >= age_bins[8]][var].dropna()\n",
    "                 \n",
    "        test = fligner(one, two, three, four, #five, six, \n",
    "                      #seven, eight, #nine, \n",
    "                      # ten\n",
    "                      )\n",
    "        var_df.at[var, ('fligner_age', 'stat')] = test[0]\n",
    "        var_df.at[var, ('fligner_age', 'p')] = test[1]\n",
    "        if test[1] < alpha:\n",
    "            var_df.at[var, ('fligner_age', f'a<{alpha}')] = '**'\n",
    "        else:\n",
    "            var_df.at[var, ('fligner_age', f'a<{alpha}')] = 'ns'\n",
    "        \n",
    "         # compare variance across scanner manufacturers\n",
    "        mri = 'mri_info_manufacturer.baseline_year_1_arm_1'\n",
    "        siemens = df[df[mri] == 'SIEMENS'][var].dropna()\n",
    "        ge = df[df[mri] == 'GE MEDICAL SYSTEMS'][var].dropna()\n",
    "        philips = df[df[mri] == 'Philips Medical Systems'][var].dropna()\n",
    "        \n",
    "        test = fligner(siemens, philips, ge)\n",
    "        var_df.at[var, ('fligner_scanner', 'stat')] = test[0]\n",
    "        var_df.at[var, ('fligner_scanner', 'p')] = test[1]\n",
    "        if test[1] < alpha:\n",
    "            var_df.at[var, ('fligner_scanner', f'a<{alpha}')] = '**'\n",
    "        else:\n",
    "            var_df.at[var, ('fligner_scanner', f'a<{alpha}')] = 'ns'\n",
    "        \n",
    "        # compare variance across parent marital status\n",
    "        marry = \"demo_prnt_marital_v2.baseline_year_1_arm_1\"\n",
    "        married = df[df[marry] == 1.][var].dropna()\n",
    "        notmarried = df[df[marry].between(2,5, inclusive='both')][var].dropna()\n",
    "        widowed = df[df[marry] == 2.][var].dropna()\n",
    "        divorced = df[df[marry] == 3.][var].dropna()\n",
    "        separated = df[df[marry] == 4.][var].dropna()\n",
    "        never = df[df[marry] == 5.][var].dropna()\n",
    "        refuse = df[df[marry] == 777.][var].dropna()\n",
    "        \n",
    "        test = fligner(married, notmarried\n",
    "                       #widowed, \n",
    "                       #separated, \n",
    "                       #divorced, \n",
    "                       #never, \n",
    "                       #refuse\n",
    "                      )\n",
    "        var_df.at[var, ('fligner_marital', 'stat')] = test[0]\n",
    "        var_df.at[var, ('fligner_marital', 'p')] = test[1]\n",
    "        if test[1] < alpha:\n",
    "            var_df.at[var, ('fligner_marital', f'a<{alpha}')] = '**'\n",
    "        else:\n",
    "            var_df.at[var, ('fligner_marital', f'a<{alpha}')] = 'ns'"
   ]
  },
  {
   "cell_type": "code",
   "execution_count": null,
   "id": "ee96d47d",
   "metadata": {},
   "outputs": [],
   "source": [
    "var_df.dropna(how='all', axis=1, inplace=True)"
   ]
  },
  {
   "cell_type": "code",
   "execution_count": null,
   "id": "2623052b",
   "metadata": {},
   "outputs": [],
   "source": [
    "\n",
    "var_df.to_csv(join(PROJ_DIR, \n",
    "                   #'..',\n",
    "                   OUTP_DIR, \n",
    "                   'variance_flinger.csv'))"
   ]
  },
  {
   "cell_type": "code",
   "execution_count": null,
   "id": "3b1bcbc5",
   "metadata": {},
   "outputs": [],
   "source": [
    "\n",
    "var_df = pd.read_csv(join(PROJ_DIR, \n",
    "                   #'..',\n",
    "                   OUTP_DIR, \n",
    "                   'variance_flinger.csv'), index_col=0, header=[0,1])"
   ]
  },
  {
   "cell_type": "code",
   "execution_count": null,
   "id": "202f28b5",
   "metadata": {},
   "outputs": [],
   "source": [
    "concepts = {'morph': ['thick', \n",
    "                      'area', \n",
    "                      'vol',\n",
    "                      'gmvol',\n",
    "                      'dtivol'],\n",
    "            'cell': ['t1wcnt', \n",
    "                     'rsirni', \n",
    "                     'rsirnd',\n",
    "                     'rsirnigm', \n",
    "                     'rsirndgm',\n",
    "                     'dtifa', \n",
    "                     'dtimd',\n",
    "                     'dtild', \n",
    "                     'dtitd'],\n",
    "            'func':['var',\n",
    "                    'c',\n",
    "                     'cor']}"
   ]
  },
  {
   "cell_type": "code",
   "execution_count": null,
   "id": "a36c31a3",
   "metadata": {},
   "outputs": [],
   "source": [
    "for var in var_df.index:\n",
    "    #print(var)\n",
    "    if 'mrisdp' in var:\n",
    "        var_num = int(var.split('.')[0].split('_')[-1])\n",
    "        var_df.at[var, 'modality'] = 'smri'\n",
    "        var_df.at[var, 'atlas'] = 'dtx'\n",
    "        if var_num <= 148:\n",
    "            var_df.at[var, 'measure'] = 'thick'\n",
    "        elif var_num <= 450 and var_num >= 303:\n",
    "            var_df.at[var, 'measure'] = 'area'\n",
    "        elif var_num < 604 and var_num >= 450:\n",
    "            var_df.at[var, 'measure'] = 'vol'\n",
    "        elif var_num <= 1054 and var_num >= 907:\n",
    "            var_df.at[var, 'measure'] = 't1wcnt'\n",
    "        elif var_num == 604:\n",
    "            var_df.at[var, 'measure'] = 'gmvol'\n",
    "    elif '_' in var:\n",
    "        var_list = var.split('.')[0].split('_')\n",
    "        var_df.at[var, 'modality'] = var_list[0]\n",
    "        var_df.at[var, 'measure'] = var_list[1]\n",
    "        var_df.at[var, 'atlas'] = var_list[2]\n",
    "        var_df.at[var, 'region'] = '_'.join(var_list[3:])\n",
    "\n",
    "var_df = var_df[var_df['measure'] != 't1w']\n",
    "var_df = var_df[var_df['measure'] != 't2w']"
   ]
  },
  {
   "cell_type": "code",
   "execution_count": null,
   "id": "de136594",
   "metadata": {},
   "outputs": [],
   "source": [
    "for i in var_df.index:\n",
    "    measure = var_df.loc[i]['measure']\n",
    "    measure = str(measure.values[0])\n",
    "    if measure in concepts['morph']:\n",
    "        var_df.at[i,'concept'] = 'macrostructure'\n",
    "    elif measure in concepts['cell']:\n",
    "        var_df.at[i,'concept'] = 'microstructure'\n",
    "    elif measure in concepts['func']:\n",
    "        var_df.at[i,'concept'] = 'function'"
   ]
  },
  {
   "cell_type": "code",
   "execution_count": null,
   "id": "011a95ed",
   "metadata": {},
   "outputs": [],
   "source": [
    "# plot the distribution of variances of all structural mri measures\n",
    "smri_var = img_modalities['smri'].columns\n",
    "dti_var = img_modalities['dti'].columns\n",
    "rsi_var = img_modalities['rsi'].columns\n",
    "# separate wm and gm rsi\n",
    "rsi_gm = list(img_modalities['rsi'].filter(regex='.*gm').columns) + list(img_modalities['rsi'].filter(regex='.*scs').columns)\n",
    "rsi_wm = list(set(rsi_var) - set(rsi_gm))\n",
    "fmri_var = img_modalities['fmri'].columns\n",
    "fc_cort_var = img_modalities['fmri'].filter(regex='_c_.*').columns\n",
    "fc_scor_var = img_modalities['fmri'].filter(regex='_cor_.*').columns\n",
    "fmri_var_var = img_modalities['fmri'].filter(regex='_var_.*').columns\n",
    "\n",
    "morph_var = var_df[var_df['concept'] == 'macrostructure'].index\n",
    "cell_var = var_df[var_df['concept'] == 'microstructure'].index\n",
    "func_var = list(fmri_var_var) \n",
    "conn_var = list(fc_cort_var) + list(fc_scor_var)\n",
    "\n",
    "btwn_fc = []\n",
    "wthn_fc = []\n",
    "for var in fc_cort_var:\n",
    "    var_list = var[:-13].split('_')\n",
    "    #print(var_list)\n",
    "    if var_list[3] == var_list[5]:\n",
    "        #print(var, 'within-network')\n",
    "        wthn_fc.append(var)\n",
    "    else:\n",
    "        btwn_fc.append(var)\n",
    "        #print(var, 'between-network')"
   ]
  },
  {
   "cell_type": "code",
   "execution_count": null,
   "id": "9b4ca9eb",
   "metadata": {},
   "outputs": [],
   "source": []
  },
  {
   "cell_type": "code",
   "execution_count": null,
   "id": "1ccc1702",
   "metadata": {},
   "outputs": [],
   "source": [
    "fig,ax = plt.subplots(ncols=2, figsize=(15,5))\n",
    "g = sns.kdeplot(var_df.loc[morph_var, ('variance', 'stat')], color=crayons[0], shade=True, ax=ax[0])\n",
    "h = sns.kdeplot(var_df.loc[cell_var, ('variance', 'stat')], color=crayons[1], shade=True, ax=ax[0])\n",
    "#i = sns.kdeplot(var_df.loc[func_var, ('variance', 'stat')], color=crayons[2], shade=True, ax=ax[0])\n",
    "#m = sns.kdeplot(var_df.loc[fmri_var, ('variance', 'stat')], color=crayons[3])\n",
    "j = sns.rugplot(var_df.loc[morph_var, ('variance', 'stat')], color=crayons[0], lw=1, alpha=.1, ax=ax[0])\n",
    "k = sns.rugplot(var_df.loc[cell_var, ('variance', 'stat')], color=crayons[1], lw=1, alpha=0.2, ax=ax[0])\n",
    "#l = sns.rugplot(var_df.loc[rsi_var, ('variance', 'stat')], color=crayons[2], lw=1, alpha=.1, ax=ax[0])\n",
    "#n = sns.rugplot(var_df.loc[fmri_var, ('variance', 'stat')], color=crayons[3])\n",
    "ax[0].set_xlabel('Variance')\n",
    "plt.tight_layout()\n",
    "ax[0].legend(['macrostructure', \n",
    "           'microstructure', \n",
    "           #'rsi', \n",
    "           #'fmri'\n",
    "          ])\n",
    "ax[0].set_title('A')\n",
    "\n",
    "m = sns.kdeplot(var_df.loc[func_var, ('variance', 'stat')], color=crayons[2], shade=True, ax=ax[1])\n",
    "o = sns.kdeplot(var_df.loc[conn_var, ('variance', 'stat')], color=crayons[3], shade=True, ax=ax[1])\n",
    "n = sns.rugplot(var_df.loc[func_var, ('variance', 'stat')], color=crayons[2], lw=1, alpha=.1, ax=ax[1])\n",
    "p = sns.rugplot(var_df.loc[conn_var, ('variance', 'stat')], color=crayons[3], lw=1, alpha=.1, ax=ax[1])\n",
    "ax[1].set_xlabel('Variance')\n",
    "plt.tight_layout()\n",
    "ax[1].legend(['function',\n",
    "              'functional connectivity'\n",
    "          ])\n",
    "ax[1].set_title('B')\n",
    "fig.savefig('../figures/apchange_variance_concept.png', dpi=400)\n",
    "#sns.displot(var_df.loc[fmri_var, ('variance', 'stat')])"
   ]
  },
  {
   "cell_type": "code",
   "execution_count": null,
   "id": "67815d77",
   "metadata": {},
   "outputs": [],
   "source": [
    "sex_diff = {}\n",
    "for modality in img_modalities.keys():\n",
    "    variables = img_modalities[modality].columns\n",
    "    sex_diff[modality] = np.sum(var_df.loc[variables][('fligner_sex', 'p')] < 0.01) / len(variables)"
   ]
  },
  {
   "cell_type": "code",
   "execution_count": null,
   "id": "59ad7551",
   "metadata": {},
   "outputs": [],
   "source": [
    "print('Proportion of measures from each modality that exhibit significant heteroscasticity with respect to sex:\\n',\n",
    "      sex_diff)"
   ]
  },
  {
   "cell_type": "markdown",
   "id": "b1ae8d0f",
   "metadata": {},
   "source": [
    "## Visualizing brain heterogeneity across non-brain variables\n",
    "1. Variability across all brain measures\n",
    "2. Per modality\n",
    "3. Across the brain\n",
    "4. Across developmental variables\n",
    "5. Across demographic variables"
   ]
  },
  {
   "cell_type": "code",
   "execution_count": null,
   "id": "b2273f93",
   "metadata": {},
   "outputs": [],
   "source": [
    "for var in var_df.index:\n",
    "    for modality in img_modalities.keys():\n",
    "        if var in img_modalities[modality]:\n",
    "            var_df.at[var, 'modality'] = modality"
   ]
  },
  {
   "cell_type": "code",
   "execution_count": null,
   "id": "5ecbbd98",
   "metadata": {},
   "outputs": [],
   "source": [
    "var_df[var_df['modality'] == 'fmri'][('variance', 'stat')].sort_values()"
   ]
  },
  {
   "cell_type": "code",
   "execution_count": null,
   "id": "c9ed143d",
   "metadata": {},
   "outputs": [],
   "source": [
    "devt = ['fligner_age', \n",
    "        'fligner_sex',\n",
    "        'fligner_puberty']\n",
    "demo =  ['fligner_raceth',\n",
    "         'fligner_income',\n",
    "         'fligner_edu',\n",
    "         'fligner_marital', \n",
    "         #'fligner_scanner'\n",
    "        ]"
   ]
  },
  {
   "cell_type": "code",
   "execution_count": null,
   "id": "67b1c997",
   "metadata": {},
   "outputs": [],
   "source": [
    "stats = var_df.drop(['variance'], axis=1).xs('stat', level=1, axis=1)\n",
    "alphas = var_df.xs(f'a<0.05', level=1, axis=1)\n",
    "modalities = var_df['concept']\n"
   ]
  },
  {
   "cell_type": "code",
   "execution_count": null,
   "id": "61707e54",
   "metadata": {},
   "outputs": [],
   "source": [
    "alphas = alphas.add_suffix('_alpha')"
   ]
  },
  {
   "cell_type": "code",
   "execution_count": null,
   "id": "1f0b8ccf",
   "metadata": {},
   "outputs": [],
   "source": [
    "demo_alphas = [f'{i}_alpha' for i in demo]\n",
    "devt_alphas = [f'{i}_alpha' for i in devt]"
   ]
  },
  {
   "cell_type": "code",
   "execution_count": null,
   "id": "1662fc95",
   "metadata": {
    "scrolled": true
   },
   "outputs": [],
   "source": [
    "mod_demo = pd.concat([stats[demo], modalities], axis=1).melt(value_vars=demo, \n",
    "                                                  value_name='Flinger-Killeen Statistic',\n",
    "                                                  id_vars='concept').drop('variable', axis=1)\n",
    "alpha_demo = alphas[demo_alphas].melt(value_name='Significant')\n",
    "demo_flinger = pd.concat([mod_demo, alpha_demo], axis=1)\n",
    "\n",
    "mod_devt = pd.concat([stats[devt], modalities], axis=1).melt(value_vars=devt, \n",
    "                                                  value_name='Flinger-Killeen Statistic',\n",
    "                                                  id_vars='concept')\n",
    "alpha_devt = alphas[devt_alphas].melt(value_name='Significant').drop('variable', axis=1)\n",
    "devt_flinger = pd.concat([mod_devt, alpha_devt], axis=1)"
   ]
  },
  {
   "cell_type": "code",
   "execution_count": null,
   "id": "bb416883",
   "metadata": {},
   "outputs": [],
   "source": [
    "mod_devt"
   ]
  },
  {
   "cell_type": "code",
   "execution_count": null,
   "id": "1a6083d2",
   "metadata": {
    "scrolled": false
   },
   "outputs": [],
   "source": [
    "fig,ax = plt.subplots(nrows=1, ncols=2, figsize=(20,5), squeeze=True)\n",
    "g = sns.stripplot(x='variable', y='Flinger-Killeen Statistic',\n",
    "                  data=devt_flinger[devt_flinger['Significant'] == '**'], \n",
    "                  hue='concept',\n",
    "                  marker='o',\n",
    "                  size=7,\n",
    "                  edgecolor='white',\n",
    "                  dodge=True,\n",
    "                  linewidth=0.5,\n",
    "                  ax=ax[0],\n",
    "                  palette=crayons,\n",
    "                  hue_order=['macrostructure', \n",
    "                           'microstructure', \n",
    "                           'function']\n",
    "                 )\n",
    "k = sns.stripplot(x='variable', y='Flinger-Killeen Statistic',\n",
    "                  data=devt_flinger[devt_flinger['Significant'] != '**'], \n",
    "                  hue='concept',\n",
    "                  marker='P',\n",
    "                  size=11,\n",
    "                  linewidth=0.5,\n",
    "                  edgecolor='white',\n",
    "                  dodge=True,\n",
    "                  ax=ax[0],\n",
    "                  palette=crayons,\n",
    "                  hue_order=['macrostructure', \n",
    "                           'microstructure', \n",
    "                           'function']\n",
    "                 )\n",
    "g.get_legend().remove()\n",
    "g.set_ylabel('Flinger-Killeen Statistic')\n",
    "g.set_xlabel('')\n",
    "g.set_xticklabels(['Age', 'Sex', 'Puberty'])\n",
    "\n",
    "\n",
    "h = sns.stripplot(x='variable', y='Flinger-Killeen Statistic',\n",
    "                  data=demo_flinger[demo_flinger['Significant'] == '**'], \n",
    "                  hue='concept',\n",
    "                    marker='o',\n",
    "                  size=7,\n",
    "                  linewidth=0.5,\n",
    "                  edgecolor='white',\n",
    "                  dodge=True,\n",
    "                  ax=ax[1],\n",
    "                  palette=crayons,\n",
    "                  hue_order=['macrostructure', \n",
    "                           'microstructure', \n",
    "                           'function'],\n",
    "              \n",
    "                 )\n",
    "j = sns.stripplot(x='variable', y='Flinger-Killeen Statistic',\n",
    "                  data=demo_flinger[demo_flinger['Significant'] != '**'], \n",
    "                  hue='concept',\n",
    "                    marker='P',\n",
    "                  size=11,\n",
    "                  linewidth=0.5,\n",
    "                  dodge=True,\n",
    "                  edgecolor='white',\n",
    "                  ax=ax[1],\n",
    "                  palette=crayons,\n",
    "                  hue_order=['macrostructure', \n",
    "                           'microstructure', \n",
    "                           'function'],\n",
    "              \n",
    "                 )\n",
    "handles, labels = h.get_legend_handles_labels()\n",
    "h.legend(handles[:3], labels [:3])\n",
    "h.set_ylabel('')\n",
    "h.set_xlabel('')\n",
    "\n",
    "h.set_xticklabels(['Race &\\nEthnicity', \n",
    "                   'Household\\nIncome', \n",
    "                   'Parent\\nEducation', \n",
    "                   'Parent\\nMarital Status', \n",
    "                   #'Scanner\\nManufacturer'\n",
    "                  ])\n",
    "fig.show()\n",
    "fig.savefig('../figures/heteroscedasticity_concept.png', dpi=400)"
   ]
  }
 ],
 "metadata": {
  "kernelspec": {
   "display_name": "Python 3 (ipykernel)",
   "language": "python",
   "name": "python3"
  },
  "language_info": {
   "codemirror_mode": {
    "name": "ipython",
    "version": 3
   },
   "file_extension": ".py",
   "mimetype": "text/x-python",
   "name": "python",
   "nbconvert_exporter": "python",
   "pygments_lexer": "ipython3",
   "version": "3.8.9"
  }
 },
 "nbformat": 4,
 "nbformat_minor": 5
}
